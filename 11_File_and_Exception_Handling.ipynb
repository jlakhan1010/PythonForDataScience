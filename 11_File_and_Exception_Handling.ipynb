{
 "cells": [
  {
   "cell_type": "markdown",
   "id": "9ed6e316-3e6e-4727-9f63-c052fa5c0f2f",
   "metadata": {},
   "source": [
    "# File Handling\n",
    "File handling in Python involves interacting with files on your computer to read data from them or write data to them. <br>\n",
    "Python provides several built-in functions and methods for creating, opening, reading, writing, and closing files. "
   ]
  },
  {
   "cell_type": "markdown",
   "id": "84128380-0106-49e6-a71d-40d5c8bcf9ed",
   "metadata": {},
   "source": [
    "#### Opening a File in Python\n",
    "To perform any file operation, the first step is to open the file. <br>\n",
    "Python's built-in open() function is used to open files in various modes, such as reading, writing, and appending. <br>\n",
    "**Syntax −**<br>\n",
    "\n",
    "file = **open**(**\"filename\"**, Opening a File in Python **\"mode\"**)<br>\n",
    "Where, filename is the name of the file to open and mode is the mode in which the file is opened (e.g., 'r' for reading, 'w' for writing, 'a' for appending).<br>\n",
    "\n",
    "\n",
    "**r:** Opens a file for reading only. The file pointer is placed at the beginning of the file.<br>\n",
    "**rb:** Opens a file for reading only in binary format. The file pointer is placed at the beginning of the file.<br>\n",
    "**r+:** Opens a file for both reading and writing. The file pointer placed at the beginning of the file.<br>\n",
    "**rb+:** Opens a file for both reading and writing in binary format. <br>\n",
    "The file pointer placed at the beginning of the file.<br>\n",
    "**w:** Opens a file for writing only. Overwrites the file if the file exists. <br>\n",
    "If the file does not exist, creates a new file for writing.<br>\n",
    "**b:** Opens the file in binary mode<br>\n",
    "**t:** Opens the file in text mode (default)<br>\n",
    "**+:** open file for updating (reading and writing)<br>\n",
    "**wb:** Opens a file for writing only in binary format. Overwrites the file if the file exists. <br>\n",
    "If the file does not exist, creates a new file for writing.<br>\n",
    "**w+:** Opens a file for both writing and reading. Overwrites the existing file if the file exists. <br>\n",
    "If the file does not exist, creates a new file for reading and writing.<br>\n",
    "**wb+:** Opens a file for both writing and reading in binary format. Overwrites the existing file if the file exists. <br>\n",
    "If the file does not exist, creates a new file for reading and writing.<br>\n",
    "**a:** Opens a file for appending. The file pointer is at the end of the file if the file exists. <br>\n",
    "That is, the file is in the append mode. If the file does not exist, it creates a new file for writing.<br>\n",
    "**ab:** Opens a file for appending in binary format. The file pointer is at the end of the file if the file exists. <br>\n",
    "That is, the file is in the append mode. If the file does not exist, it creates a new file for writing.<br>\n",
    "**a+:** Opens a file for both appending and reading. The file pointer is at the end of the file if the file exists. <br>\n",
    "The file opens in the append mode. If the file does not exist, it creates a new file for reading and writing.<br>\n",
    "**ab+:** Opens a file for both appending and reading in binary format. The file pointer is at the end of the file if the file exists.<br>\n",
    "The file opens in the append mode. If the file does not exist, it creates a new file for reading and writing.<br>\n",
    "**x:** open for exclusive creation, failing if the file already exists<br>\n",
    "\n"
   ]
  },
  {
   "cell_type": "code",
   "execution_count": 128,
   "id": "7f826e7a-eed9-4a21-8474-3a136862d145",
   "metadata": {},
   "outputs": [
    {
     "name": "stdout",
     "output_type": "stream",
     "text": [
      "Name of the file:  ./data/example.txt\n",
      "Closed or not:  False\n",
      "Opening mode:  r\n",
      "True\n"
     ]
    }
   ],
   "source": [
    "# Open a file\n",
    "f = open(\"./data/example.txt\", \"r\")\n",
    "print (\"Name of the file: \", f.name)\n",
    "print (\"Closed or not: \", f.closed)\n",
    "print (\"Opening mode: \", f.mode)\n",
    "f.close()\n",
    "print(f.closed)"
   ]
  },
  {
   "cell_type": "code",
   "execution_count": null,
   "id": "52feb1ca-1fb6-4d3b-9354-32c3f4b5e2ef",
   "metadata": {},
   "outputs": [],
   "source": [
    "f."
   ]
  },
  {
   "cell_type": "markdown",
   "id": "5701720b-6bfd-492a-980d-73b682ac21dc",
   "metadata": {},
   "source": [
    "#### Reading a File in Python\n",
    "Reading a file in Python involves opening the file in a mode that allows for reading, and then using various methods to extract the data from the file.<br>\n",
    "Python provides several methods to read data from a file <br>\n",
    "\n",
    "**read() −** Reads the entire file.<br>\n",
    "**readline() −** Reads one line at a time.<br>\n",
    "**readlines −** Reads all lines into a list.<br>"
   ]
  },
  {
   "cell_type": "code",
   "execution_count": 130,
   "id": "c95381df-6ac7-48f4-81c8-5f7061656aee",
   "metadata": {},
   "outputs": [
    {
     "name": "stdout",
     "output_type": "stream",
     "text": [
      "Line one text\n",
      "This is demo text file.\n",
      "Here is the text data.\n"
     ]
    }
   ],
   "source": [
    "with open(\"./data/example.txt\", \"r\") as file:\n",
    "    content = file.read()\n",
    "    print(content)"
   ]
  },
  {
   "cell_type": "code",
   "execution_count": 15,
   "id": "1b044fa5-dc49-401a-9c81-dbaca6c10c0b",
   "metadata": {},
   "outputs": [
    {
     "name": "stdout",
     "output_type": "stream",
     "text": [
      "Line one text\n",
      "This is demo text file.\n",
      "Here is the text data."
     ]
    }
   ],
   "source": [
    "with open(\"./data/example.txt\", \"r\") as file:\n",
    "    line = file.readline()\n",
    "    while line:\n",
    "        print(line, end='')\n",
    "        line = file.readline()"
   ]
  },
  {
   "cell_type": "code",
   "execution_count": 17,
   "id": "0559c26d-a86f-4457-84c9-b4e97f1a1a9b",
   "metadata": {},
   "outputs": [
    {
     "name": "stdout",
     "output_type": "stream",
     "text": [
      "['Line one text\\n', 'This is demo text file.\\n', 'Here is the text data.']\n",
      "Line one text\n",
      "This is demo text file.\n",
      "Here is the text data."
     ]
    }
   ],
   "source": [
    "with open(\"./data/example.txt\", \"r\") as file:\n",
    "    lines = file.readlines()\n",
    "    print(lines)\n",
    "    for line in lines:\n",
    "        print(line, end='')"
   ]
  },
  {
   "cell_type": "markdown",
   "id": "f2cdbd0a-84e3-4df6-8f2c-e23527393f9d",
   "metadata": {},
   "source": [
    "#### Writing to a File in Python\n",
    "Writing to a file in Python involves opening the file in a mode that allows writing, and then using various methods to add content to the file.<br>\n",
    "To write data to a file, use the write() or writelines() methods. When opening a file in write mode ('w'), the file's existing content is erased.\n",
    "\n",
    "**Using the write() method**<br>\n",
    "If the file is opened in 'w' mode, it will overwrite any existing content. <br>\n",
    "If the file is opened in 'a' mode, it will append the string to the end of the file"
   ]
  },
  {
   "cell_type": "code",
   "execution_count": 134,
   "id": "a788f569-ebb0-4c41-9994-270cbe8bf577",
   "metadata": {},
   "outputs": [
    {
     "name": "stdout",
     "output_type": "stream",
     "text": [
      "Content added Successfully!!\n"
     ]
    }
   ],
   "source": [
    "with open(\"./data/example1.txt\", \"w\") as file:\n",
    "    file.write(\"Hello, World! 1234\")\n",
    "    print (\"Content added Successfully!!\")"
   ]
  },
  {
   "cell_type": "markdown",
   "id": "6f01619e-95e4-4b30-9f61-4d81226ca6a8",
   "metadata": {},
   "source": [
    "**Using the writelines() method**<br>\n",
    "writelines() method to take a list of strings and writes each string to the file. <br>\n",
    "It is useful for writing multiple lines at once"
   ]
  },
  {
   "cell_type": "code",
   "execution_count": 138,
   "id": "c1d015aa-ccce-4ddd-8b5f-1d859465ac8c",
   "metadata": {},
   "outputs": [
    {
     "name": "stdout",
     "output_type": "stream",
     "text": [
      "Content added Successfully!!\n"
     ]
    }
   ],
   "source": [
    "lines = [\"First line1\\n\", \"Second line2\\n\", \"Third line3\\n\"]\n",
    "with open(\"./data/example2.txt\", \"w\") as file:\n",
    "    file.writelines(lines)\n",
    "    print (\"Content added Successfully!!\")"
   ]
  },
  {
   "cell_type": "markdown",
   "id": "b200e636-77b7-404f-8f3a-61a7d41509c9",
   "metadata": {},
   "source": [
    "#### Closing a File in Python\n",
    "We can close a file in Python using the **close()** method. <br>\n",
    "Closing a file is an essential step in file handling to ensure that **all resources** used by the file are **properly released.** <br>\n",
    "It is important to close files after operations are completed to **prevent data loss** and **free up system resources**."
   ]
  },
  {
   "cell_type": "code",
   "execution_count": 141,
   "id": "a967acc1-71aa-4aff-8b84-b4a7252223bc",
   "metadata": {},
   "outputs": [
    {
     "name": "stdout",
     "output_type": "stream",
     "text": [
      "Closed or not:  False\n",
      "Closed or not:  True\n"
     ]
    }
   ],
   "source": [
    "file = open(\"./data/example3.txt\", \"w\")\n",
    "file.write(\"This is an example.\")\n",
    "print (\"Closed or not: \", file.closed)\n",
    "file.close()\n",
    "print (\"Closed or not: \", file.closed)\n"
   ]
  },
  {
   "cell_type": "markdown",
   "id": "d17e22b5-3e23-4072-88d1-c492d178cd64",
   "metadata": {},
   "source": [
    "**Using \"with\" Statement for Automatic File Closing**<br>\n",
    "The with statement is a best practice in Python for file operations. <br>\n",
    "Because it ensures that the file is automatically closed when the block of code is exited, even if an exception occurs."
   ]
  },
  {
   "cell_type": "code",
   "execution_count": 35,
   "id": "312176b9-8f7b-40d6-a484-3bf775883e88",
   "metadata": {},
   "outputs": [
    {
     "name": "stdout",
     "output_type": "stream",
     "text": [
      "File closed successfully!!\n"
     ]
    }
   ],
   "source": [
    "with open(\"./data/example4.txt\", \"w\") as file:\n",
    "    file.write(\"This is an example using the with statement.\")\n",
    "    print (\"File closed successfully!!\")\n"
   ]
  },
  {
   "cell_type": "markdown",
   "id": "d68f8533-b97c-470f-8460-19274c0f174a",
   "metadata": {},
   "source": [
    "#### Handling Exceptions When Closing a File\n",
    "When performing file operations, it is important to handle potential exceptions to ensure your program can manage errors gracefully.<br>\n",
    "In Python, we use a try-finally block to handle exceptions when closing a file. <br>\n",
    "The \"finally\" block ensures that the file is closed regardless of whether an error occurs in the try block −"
   ]
  },
  {
   "cell_type": "code",
   "execution_count": 41,
   "id": "85cbb4b2-4590-47ee-bed3-b12b038913d6",
   "metadata": {},
   "outputs": [
    {
     "name": "stdout",
     "output_type": "stream",
     "text": [
      "File closed successfully!!\n"
     ]
    }
   ],
   "source": [
    "try:\n",
    "    file = open(\"./data/example5.txt\", \"w\")\n",
    "    file.write(\"This is an example with exception handling.\")\n",
    "finally:\n",
    "    file.close()\n",
    "    print (\"File closed successfully!!\")"
   ]
  },
  {
   "cell_type": "markdown",
   "id": "9e058701-4583-43d7-bb98-b57e2eb264ec",
   "metadata": {},
   "source": [
    "#### Renaming Files in Python\n",
    "To rename a file in Python, you can use the os.rename() function. <br>\n",
    "This function takes two arguments: the current filename and the new filename.\n"
   ]
  },
  {
   "cell_type": "code",
   "execution_count": 143,
   "id": "b18076dc-f817-406f-912a-636657c7861d",
   "metadata": {},
   "outputs": [
    {
     "name": "stdout",
     "output_type": "stream",
     "text": [
      "File './data/example.txt' renamed to './data/example_newname.txt' successfully.\n"
     ]
    }
   ],
   "source": [
    "import os\n",
    "\n",
    "# Current file name\n",
    "current_name = \"./data/example.txt\"\n",
    "\n",
    "# New file name\n",
    "new_name = \"./data/example_newname.txt\"\n",
    "\n",
    "# Rename the file\n",
    "os.rename(current_name, new_name)\n",
    "\n",
    "print(f\"File '{current_name}' renamed to '{new_name}' successfully.\")"
   ]
  },
  {
   "cell_type": "code",
   "execution_count": null,
   "id": "ae8144ee-15d1-4cca-8acc-779381d9ec4b",
   "metadata": {},
   "outputs": [],
   "source": []
  },
  {
   "cell_type": "markdown",
   "id": "de3e3ab3-ebf0-4e16-bb07-dd074f87bb6d",
   "metadata": {},
   "source": [
    "#### Deleting Files in Python\n",
    "You can delete a file in Python using the os.remove() function. <br>\n",
    "This function deletes a file specified by its filename."
   ]
  },
  {
   "cell_type": "code",
   "execution_count": 145,
   "id": "149f148c-07be-40a4-9a04-abd7d99d2c82",
   "metadata": {},
   "outputs": [
    {
     "name": "stdout",
     "output_type": "stream",
     "text": [
      "File './data/example_newname.txt' deleted successfully.\n"
     ]
    }
   ],
   "source": [
    "import os\n",
    "\n",
    "# File to be deleted\n",
    "file_to_delete = \"./data/example_newname.txt\"\n",
    "\n",
    "# Delete the file\n",
    "os.remove(file_to_delete)\n",
    "\n",
    "print(f\"File '{file_to_delete}' deleted successfully.\")"
   ]
  },
  {
   "cell_type": "markdown",
   "id": "a934f785-37b8-4760-9ffb-d8cb5c7a3280",
   "metadata": {},
   "source": [
    "**Checking if a Directory Exists**<br>\n",
    "os.path.exists()"
   ]
  },
  {
   "cell_type": "code",
   "execution_count": 150,
   "id": "4ad4b5d0-fa8b-4611-ad85-2d16cef4bf9b",
   "metadata": {},
   "outputs": [
    {
     "name": "stdout",
     "output_type": "stream",
     "text": [
      "The directory './data5' does not exist.\n"
     ]
    }
   ],
   "source": [
    "import os\n",
    "\n",
    "directory_path = \"./data5\"\n",
    "\n",
    "if os.path.exists(directory_path):\n",
    "   print(f\"The directory '{directory_path}' exists.\")\n",
    "else:\n",
    "   print(f\"The directory '{directory_path}' does not exist.\")"
   ]
  },
  {
   "cell_type": "markdown",
   "id": "517794bf-0e11-4e5e-a9d9-fd11780e50af",
   "metadata": {},
   "source": [
    "**Creating a Directory**<br>\n",
    "os.makedirs()"
   ]
  },
  {
   "cell_type": "code",
   "execution_count": 153,
   "id": "a165c65d-5536-43e5-ba41-d4b9275629a3",
   "metadata": {},
   "outputs": [
    {
     "name": "stdout",
     "output_type": "stream",
     "text": [
      "Directory './data/data1/data2' created successfully.\n"
     ]
    }
   ],
   "source": [
    "import os\n",
    "\n",
    "new_directory = \"./data/data1/data2\"\n",
    "\n",
    "try:\n",
    "    os.makedirs(new_directory)\n",
    "    print(f\"Directory '{new_directory}' created successfully.\")\n",
    "except OSError as e:\n",
    "    print(f\"Error: Failed to create directory '{new_directory}'. {e}\")"
   ]
  },
  {
   "cell_type": "markdown",
   "id": "706fa469-8c52-4dcd-b01d-850fc45bf652",
   "metadata": {},
   "source": [
    "**Get Current Working Directory**<br>\n",
    "os.getcwd()"
   ]
  },
  {
   "cell_type": "code",
   "execution_count": 157,
   "id": "d2f20263-7ad0-4d22-85d0-e9dbc4ef944d",
   "metadata": {},
   "outputs": [
    {
     "name": "stdout",
     "output_type": "stream",
     "text": [
      "Current working directory: C:\\Users\\jlakh\\LJ\\PythonForDataScience\n"
     ]
    }
   ],
   "source": [
    "import os\n",
    "\n",
    "current_directory = os.getcwd()\n",
    "print(f\"Current working directory: {current_directory}\")"
   ]
  },
  {
   "cell_type": "markdown",
   "id": "932d7c6f-169d-4c04-97a8-1b5e7d7bd4b7",
   "metadata": {},
   "source": [
    "**Changing the Current Working Directory**<br>\n",
    "os.chdir(\"newdir\")"
   ]
  },
  {
   "cell_type": "code",
   "execution_count": 160,
   "id": "aecbdb4d-c8c6-47ad-a120-a16895a14281",
   "metadata": {},
   "outputs": [
    {
     "name": "stdout",
     "output_type": "stream",
     "text": [
      "Current working directory changed to 'C:\\Users\\jlakh\\LJ'.\n"
     ]
    }
   ],
   "source": [
    "import os\n",
    "\n",
    "new_directory = r\"C:\\Users\\jlakh\\LJ\"\n",
    "\n",
    "try:\n",
    "    os.chdir(new_directory)\n",
    "    print(f\"Current working directory changed to '{new_directory}'.\")\n",
    "except OSError as e:\n",
    "    print(f\"Error: Failed to change working directory to '{new_directory}'. {e}\")"
   ]
  },
  {
   "cell_type": "code",
   "execution_count": 162,
   "id": "05e07697-f741-4191-bb93-e18501bb86e0",
   "metadata": {},
   "outputs": [],
   "source": [
    "os.chdir(r\"C:\\Users\\jlakh\\LJ\\PythonForDataScience\")"
   ]
  },
  {
   "cell_type": "code",
   "execution_count": 176,
   "id": "11a8ad61-cd11-42e5-a2b1-291912ce932b",
   "metadata": {},
   "outputs": [
    {
     "data": {
      "text/plain": [
       "{1: 'one', 2: 'Two', 3: 'Three'}"
      ]
     },
     "execution_count": 176,
     "metadata": {},
     "output_type": "execute_result"
    }
   ],
   "source": [
    "d = {1:\"one\",\n",
    "     2:\"Two\",\n",
    "     3:\"Three\"}\n",
    "d"
   ]
  },
  {
   "cell_type": "code",
   "execution_count": 174,
   "id": "90e728bd-2bca-436e-a9e3-b29bae238bc9",
   "metadata": {},
   "outputs": [],
   "source": [
    "import pickle"
   ]
  },
  {
   "cell_type": "code",
   "execution_count": 178,
   "id": "16734e17-5d5e-4b61-9d2c-99ea5cee70d5",
   "metadata": {},
   "outputs": [],
   "source": [
    "with open(\"./data/example_pkl.pkl\", \"wb\") as file:\n",
    "    pickle.dump(d, file)\n"
   ]
  },
  {
   "cell_type": "code",
   "execution_count": 184,
   "id": "d760e5ab-2799-4b5a-9ae0-90e841ae81bf",
   "metadata": {},
   "outputs": [
    {
     "data": {
      "text/plain": [
       "{1: 'one', 2: 'Two', 3: 'Three'}"
      ]
     },
     "execution_count": 184,
     "metadata": {},
     "output_type": "execute_result"
    }
   ],
   "source": [
    "d = pickle.load(open(\"./data/example_pkl.pkl\", \"rb\"))\n",
    "d"
   ]
  },
  {
   "cell_type": "code",
   "execution_count": 186,
   "id": "ed3222d5-2ccc-4365-a3fe-141be4898184",
   "metadata": {},
   "outputs": [
    {
     "data": {
      "text/plain": [
       "'one'"
      ]
     },
     "execution_count": 186,
     "metadata": {},
     "output_type": "execute_result"
    }
   ],
   "source": [
    "d[1]"
   ]
  },
  {
   "cell_type": "markdown",
   "id": "b2c71aa4-afbe-4c14-8333-e4c1eb5f9aa6",
   "metadata": {},
   "source": [
    "# Exception handeling\n",
    "Exception means **runtime errors**.<br>\n",
    "Exception handling in Python refers to **managing runtime errors** that may occur during the execution of a program. <br>\n",
    "In Python, exceptions are raised when errors or unexpected situations arise during program execution, such as **division by zero**, trying to **access a file that does not exist**, or attempting to perform an operation on incompatible data types.<br>\n",
    "\n",
    "Python provides two very important features to handle any unexpected error in your Python programs and to add debugging capabilities in them −<br>\n",
    "* **Exception Handling**\n",
    "* **Assertions**"
   ]
  },
  {
   "cell_type": "markdown",
   "id": "ed1fc1f1-1531-450b-b5c0-dc055c49d9b2",
   "metadata": {},
   "source": [
    "#### Assertions in Python\n",
    "An assertion is a sanity-check that you can turn on or turn off when you are done with your testing of the program.<br>\n",
    "\n",
    "The easiest way to think of an assertion is to liken it to a **raise-if statement** (or to be more accurate, a raise-if-not statement). An expression is tested, and if the result comes up false, an exception is raised.\n"
   ]
  },
  {
   "cell_type": "code",
   "execution_count": 70,
   "id": "c283eb26-36a6-4b60-b9cd-4634479385e9",
   "metadata": {},
   "outputs": [
    {
     "name": "stdout",
     "output_type": "stream",
     "text": [
      "32.0\n",
      "451\n"
     ]
    },
    {
     "ename": "AssertionError",
     "evalue": "Colder than absolute zero!",
     "output_type": "error",
     "traceback": [
      "\u001b[1;31m---------------------------------------------------------------------------\u001b[0m",
      "\u001b[1;31mAssertionError\u001b[0m                            Traceback (most recent call last)",
      "Cell \u001b[1;32mIn[70], line 6\u001b[0m\n\u001b[0;32m      4\u001b[0m \u001b[38;5;28mprint\u001b[39m (KelvinToFahrenheit(\u001b[38;5;241m273\u001b[39m))\n\u001b[0;32m      5\u001b[0m \u001b[38;5;28mprint\u001b[39m (\u001b[38;5;28mint\u001b[39m(KelvinToFahrenheit(\u001b[38;5;241m505.78\u001b[39m)))\n\u001b[1;32m----> 6\u001b[0m \u001b[38;5;28mprint\u001b[39m (KelvinToFahrenheit(\u001b[38;5;241m-\u001b[39m\u001b[38;5;241m5\u001b[39m))\n",
      "Cell \u001b[1;32mIn[70], line 2\u001b[0m, in \u001b[0;36mKelvinToFahrenheit\u001b[1;34m(Temperature)\u001b[0m\n\u001b[0;32m      1\u001b[0m \u001b[38;5;28;01mdef\u001b[39;00m \u001b[38;5;21mKelvinToFahrenheit\u001b[39m(Temperature):\n\u001b[1;32m----> 2\u001b[0m    \u001b[38;5;28;01massert\u001b[39;00m (Temperature \u001b[38;5;241m>\u001b[39m\u001b[38;5;241m=\u001b[39m \u001b[38;5;241m0\u001b[39m),\u001b[38;5;124m\"\u001b[39m\u001b[38;5;124mColder than absolute zero!\u001b[39m\u001b[38;5;124m\"\u001b[39m\n\u001b[0;32m      3\u001b[0m    \u001b[38;5;28;01mreturn\u001b[39;00m ((Temperature\u001b[38;5;241m-\u001b[39m\u001b[38;5;241m273\u001b[39m)\u001b[38;5;241m*\u001b[39m\u001b[38;5;241m1.8\u001b[39m)\u001b[38;5;241m+\u001b[39m\u001b[38;5;241m32\u001b[39m\n",
      "\u001b[1;31mAssertionError\u001b[0m: Colder than absolute zero!"
     ]
    }
   ],
   "source": [
    "def KelvinToFahrenheit(Temperature):\n",
    "   assert (Temperature >= 0),\"Colder than absolute zero!\"\n",
    "   return ((Temperature-273)*1.8)+32\n",
    "print (KelvinToFahrenheit(273))\n",
    "print (int(KelvinToFahrenheit(505.78)))\n",
    "print (KelvinToFahrenheit(-5))"
   ]
  },
  {
   "cell_type": "markdown",
   "id": "1ea1d813-4226-4768-b5a3-b404f3b7a760",
   "metadata": {},
   "source": [
    "#### What is Exception?\n",
    "An exception is an event, which occurs during the execution of a program that disrupts the normal flow of the program's instructions. <br>\n",
    "In general, when a Python script encounters a situation that it cannot cope with, it raises an exception. <br>\n",
    "An **exception** is a **Python object that represents an error**.\n",
    "\n",
    "When a Python script raises an exception, it must either handle the exception immediately otherwise it terminates and quits."
   ]
  },
  {
   "cell_type": "markdown",
   "id": "c94489b4-b550-405f-9448-08e3a86c1b61",
   "metadata": {},
   "source": [
    "#### Handling an Exception in Python\n",
    "If you have some suspicious code that may raise an exception, you can defend your program by placing the suspicious code in a try: block. <br>\n",
    "After the try: block, include an except: statement, followed by a block of code which handles the problem.\n",
    "\n",
    "**The try:** block contains statements which are susceptible for exception\n",
    "\n",
    "If exception occurs, the program jumps to the **except:** block.\n",
    "\n",
    "If no exception in the try: block, the except: block is skipped.\n",
    "\n",
    "A single try statement can have multiple except statements. <br>\n",
    "This is useful when the try block contains statements that may throw different types of exceptions.\n",
    "\n",
    "You can also provide a generic except clause, which handles any exception.\n",
    "\n",
    "After the except clause(s), you can include an else clause. <br>\n",
    "The code in the else block executes if the code in the try: block does not raise an exception.\n",
    "\n",
    "The else block is a good place for code that does not need the try: block's protection."
   ]
  },
  {
   "cell_type": "code",
   "execution_count": 190,
   "id": "75bc91f8-91fa-4c47-822c-30725eee8655",
   "metadata": {},
   "outputs": [
    {
     "name": "stdout",
     "output_type": "stream",
     "text": [
      "[Errno 2] No such file or directory: './data51/example_exception'\n"
     ]
    }
   ],
   "source": [
    "try:\n",
    "   fh = open(\"./data51/example_exception\", \"w\")\n",
    "   fh.write(\"This is my test file for exception handling!!\")\n",
    "except IOError as e:\n",
    "   print (e)\n",
    "else:\n",
    "   print (\"Written content in the file successfully\")\n",
    "   fh.close()"
   ]
  },
  {
   "cell_type": "markdown",
   "id": "22508889-388b-4527-b98c-5f6e8c326636",
   "metadata": {},
   "source": [
    "#### Raising an Exceptions\n",
    "You can raise exceptions in several ways by using the raise statement.\n",
    "\n",
    "**Syntax**<br>\n",
    "raise [Exception [, args [, traceback]]]\n",
    "\n",
    "Here, **Exception** is the type of exception (for example, NameError) and argument is a value for the exception argument. \n",
    "The argument is optional; if not supplied, the exception argument is None.\n",
    "\n",
    "The final argument, trace back, is also optional (and rarely used in practice), and if present, is the traceback object used for the exception."
   ]
  },
  {
   "cell_type": "code",
   "execution_count": 193,
   "id": "3814b41f-5696-4d5e-99ee-5d34109199c8",
   "metadata": {},
   "outputs": [],
   "source": [
    "def functionName( level ):\n",
    "   if level < 1:\n",
    "      raise (\"Invalid level!\", level)\n",
    "      # The code below to this would not be executed\n",
    "      # if we raise the exception"
   ]
  },
  {
   "cell_type": "code",
   "execution_count": 195,
   "id": "bc462879-2b0f-4544-9117-9f335c4dcbc0",
   "metadata": {},
   "outputs": [
    {
     "ename": "TypeError",
     "evalue": "catching classes that do not inherit from BaseException is not allowed",
     "output_type": "error",
     "traceback": [
      "\u001b[1;31m---------------------------------------------------------------------------\u001b[0m",
      "\u001b[1;31mTypeError\u001b[0m                                 Traceback (most recent call last)",
      "Cell \u001b[1;32mIn[195], line 3\u001b[0m\n\u001b[0;32m      1\u001b[0m \u001b[38;5;28;01mtry\u001b[39;00m:\n\u001b[0;32m      2\u001b[0m    \u001b[38;5;66;03m# Business Logic here...\u001b[39;00m\n\u001b[1;32m----> 3\u001b[0m     functionName(\u001b[38;5;241m-\u001b[39m\u001b[38;5;241m1\u001b[39m)\n\u001b[0;32m      4\u001b[0m \u001b[38;5;28;01mexcept\u001b[39;00m \u001b[38;5;124m\"\u001b[39m\u001b[38;5;124mInvalid level!\u001b[39m\u001b[38;5;124m\"\u001b[39m:\n\u001b[0;32m      5\u001b[0m    \u001b[38;5;66;03m# Exception handling here...\u001b[39;00m\n",
      "Cell \u001b[1;32mIn[193], line 3\u001b[0m, in \u001b[0;36mfunctionName\u001b[1;34m(level)\u001b[0m\n\u001b[0;32m      2\u001b[0m \u001b[38;5;28;01mif\u001b[39;00m level \u001b[38;5;241m<\u001b[39m \u001b[38;5;241m1\u001b[39m:\n\u001b[1;32m----> 3\u001b[0m    \u001b[38;5;28;01mraise\u001b[39;00m (\u001b[38;5;124m\"\u001b[39m\u001b[38;5;124mInvalid level!\u001b[39m\u001b[38;5;124m\"\u001b[39m, level)\n",
      "\u001b[1;31mTypeError\u001b[0m: exceptions must derive from BaseException",
      "\nDuring handling of the above exception, another exception occurred:\n",
      "\u001b[1;31mTypeError\u001b[0m                                 Traceback (most recent call last)",
      "Cell \u001b[1;32mIn[195], line 4\u001b[0m\n\u001b[0;32m      1\u001b[0m \u001b[38;5;28;01mtry\u001b[39;00m:\n\u001b[0;32m      2\u001b[0m    \u001b[38;5;66;03m# Business Logic here...\u001b[39;00m\n\u001b[0;32m      3\u001b[0m     functionName(\u001b[38;5;241m-\u001b[39m\u001b[38;5;241m1\u001b[39m)\n\u001b[1;32m----> 4\u001b[0m \u001b[38;5;28;01mexcept\u001b[39;00m \u001b[38;5;124m\"\u001b[39m\u001b[38;5;124mInvalid level!\u001b[39m\u001b[38;5;124m\"\u001b[39m:\n\u001b[0;32m      5\u001b[0m    \u001b[38;5;66;03m# Exception handling here...\u001b[39;00m\n\u001b[0;32m      6\u001b[0m     \u001b[38;5;28mprint\u001b[39m(\u001b[38;5;124m\"\u001b[39m\u001b[38;5;124mException raised\u001b[39m\u001b[38;5;124m\"\u001b[39m)\n\u001b[0;32m      7\u001b[0m \u001b[38;5;28;01melse\u001b[39;00m:\n",
      "\u001b[1;31mTypeError\u001b[0m: catching classes that do not inherit from BaseException is not allowed"
     ]
    }
   ],
   "source": [
    "try:\n",
    "   # Business Logic here...\n",
    "    functionName(-1)\n",
    "except \"Invalid level!\":\n",
    "   # Exception handling here...\n",
    "    print(\"Exception raised\")\n",
    "else:\n",
    "    pass\n",
    "   # Rest of the code here..."
   ]
  },
  {
   "cell_type": "markdown",
   "id": "7e63e586-86d3-40bc-8fa8-43a4239a25d9",
   "metadata": {},
   "source": [
    "#### User-Defined Exceptions\n",
    "Python also allows you to create your own exceptions by deriving classes from the standard built-in exceptions.\n",
    "\n",
    "Here is an example related to RuntimeError. Here, a class is created that is subclassed from RuntimeError. <br>\n",
    "This is useful when you need to display more specific information when an exception is caught.\n",
    "\n",
    "In the try block, the user-defined exception is raised and caught in the except block. The variable e is used to create an instance of the class Networkerror."
   ]
  },
  {
   "cell_type": "code",
   "execution_count": 197,
   "id": "932e11f9-1f1b-4922-871a-9b4e1a31a8af",
   "metadata": {},
   "outputs": [],
   "source": [
    "class Networkerror(RuntimeError):\n",
    "   def __init__(self, arg):\n",
    "      self.args = arg"
   ]
  },
  {
   "cell_type": "code",
   "execution_count": 199,
   "id": "380d6e80-b387-4185-a489-623625cdc029",
   "metadata": {},
   "outputs": [
    {
     "name": "stdout",
     "output_type": "stream",
     "text": [
      "('Bad hostname',)\n"
     ]
    }
   ],
   "source": [
    "try:\n",
    "   raise Networkerror((\"Bad hostname\",) )\n",
    "except Networkerror as e:\n",
    "   print (e.args)"
   ]
  },
  {
   "cell_type": "markdown",
   "id": "43913f41-1f16-4604-bca3-6c776f314a3c",
   "metadata": {},
   "source": [
    "#### Standard Exceptions\n",
    "* **Exception:** Base class for all exceptions\n",
    "* **StopIteration:** Raised when the next() method of an iterator does not point to any object.\n",
    "* **SystemExit:** Raised by the sys.exit() function.\n",
    "* **StandardError:** Base class for all built-in exceptions except StopIteration and SystemExit.\n",
    "* **ArithmeticError:** Base class for all errors that occur for numeric calculation.\n",
    "* **OverflowError:** Raised when a calculation exceeds maximum limit for a numeric type.\n",
    "* **FloatingPointError:** Raised when a floating point calculation fails.\n",
    "* **ZeroDivisionError:** Raised when division or modulo by zero takes place for all numeric types.\n",
    "* **AssertionError:** Raised in case of failure of the Assert statement.\n",
    "* **AttributeError:** Raised in case of failure of attribute reference or assignment.\n",
    "* **EOFError:** Raised when there is no input from either the raw_input() or input() function and the end of file is reached.\n",
    "* **ImportError:** Raised when an import statement fails.\n",
    "* **KeyboardInterrupt:** Raised when the user interrupts program execution, usually by pressing Ctrl+c.\n",
    "* **LookupError:** Base class for all lookup errors.\n",
    "* **IndexError:** Raised when an index is not found in a sequence.\n",
    "* **KeyError:** Raised when the specified key is not found in the dictionary.\n",
    "* **NameError:** Raised when an identifier is not found in the local or global namespace.\n",
    "* **UnboundLocalError:** Raised when trying to access a local variable in a function or method but no value has been assigned to it.\n",
    "* **EnvironmentError:** Base class for all exceptions that occur outside the Python environment.\n",
    "* **IOError:** Raised when an input/ output operation fails, such as the print statement or the open() function when trying to open a file that does not exist.\n",
    "* **IOError:** Raised for operating system-related errors.\n",
    "* **SyntaxError:** Raised when there is an error in Python syntax.\n",
    "* **IndentationError:** Raised when indentation is not specified properly.\n",
    "* **SystemError:** Raised when the interpreter finds an internal problem, but when this error is encountered the Python interpreter does not exit.\n",
    "* **SystemExit:** Raised when Python interpreter is quit by using the sys.exit() function. If not handled in the code, causes the interpreter to exit.\n",
    "* **TypeError:** Raised when an operation or function is attempted that is invalid for the specified data type.\n",
    "* **ValueError:** Raised when the built-in function for a data type has the valid type of arguments, but the arguments have invalid values specified.\n",
    "* **RuntimeError:** Raised when a generated error does not fall into any category.\n",
    "* **NotImplementedError:** Raised when an abstract method that needs to be implemented in an inherited class is not actually implemented."
   ]
  },
  {
   "cell_type": "markdown",
   "id": "6c67aac7-ce4e-4afe-a78e-1ca97201585e",
   "metadata": {},
   "source": [
    "#### Python Try-Except Block\n",
    "In Python, the try-except block is used to handle exceptions and errors gracefully, ensuring that your program can continue running even when something goes wrong.\n",
    "\n",
    "The try-except block in Python is used to catch and handle exceptions. The code that might cause an exception is placed inside the try block, and the code to handle the exception is placed inside the except block."
   ]
  },
  {
   "cell_type": "code",
   "execution_count": 205,
   "id": "ced4a56d-a579-4904-983a-e97f4c0b65dc",
   "metadata": {},
   "outputs": [
    {
     "name": "stdin",
     "output_type": "stream",
     "text": [
      "Enter a number:  2\n"
     ]
    },
    {
     "name": "stdout",
     "output_type": "stream",
     "text": [
      "Result: 5.0\n"
     ]
    }
   ],
   "source": [
    "try:\n",
    "   number = int(input(\"Enter a number: \"))\n",
    "   result = 10 / number\n",
    "   print(f\"Result: {result}\")\n",
    "except ZeroDivisionError as e:\n",
    "   print(\"Error: Cannot divide by zero.\")\n",
    "except ValueError as e:\n",
    "   print(\"Error: Invalid input. Please enter a valid number.\")"
   ]
  },
  {
   "cell_type": "markdown",
   "id": "f716189b-e341-46f3-8c73-3cfc2ec75ae7",
   "metadata": {},
   "source": [
    "#### Handling Multiple Exceptions\n",
    "In Python, you can handle multiple types of exceptions using multiple except blocks within a single try-except statement. <br>\n",
    "This allows your code to respond differently to different types of errors that may occur during execution."
   ]
  },
  {
   "cell_type": "code",
   "execution_count": 109,
   "id": "67a433fe-e3cd-4ab0-be44-28f453206b8d",
   "metadata": {},
   "outputs": [
    {
     "name": "stdin",
     "output_type": "stream",
     "text": [
      "Enter the dividend:  asd\n"
     ]
    },
    {
     "name": "stdout",
     "output_type": "stream",
     "text": [
      "Error: Invalid input. Please enter valid integers.\n"
     ]
    }
   ],
   "source": [
    "try:\n",
    "   dividend = int(input(\"Enter the dividend: \"))\n",
    "   divisor = int(input(\"Enter the divisor: \"))\n",
    "   result = dividend / divisor\n",
    "   print(f\"Result of division: {result}\")\n",
    "except ZeroDivisionError:\n",
    "   print(\"Error: Cannot divide by zero.\")\n",
    "except ValueError:\n",
    "   print(\"Error: Invalid input. Please enter valid integers.\")"
   ]
  },
  {
   "cell_type": "markdown",
   "id": "b9bad528-7c07-4d06-a106-2fcb1b069dec",
   "metadata": {},
   "source": [
    "#### Using Else Clause with Try-Except Block\n",
    "In Python, the else clause can be used in conjunction with the try-except block to specify code that should run only if no exceptions occur in the try block. \n",
    "\n",
    "This provides a way to differentiate between the main code that may raise exceptions and additional code that should only execute under normal conditions."
   ]
  },
  {
   "cell_type": "code",
   "execution_count": 211,
   "id": "6555fb3d-fa25-4036-97c2-26d4675e46fe",
   "metadata": {},
   "outputs": [
    {
     "name": "stdin",
     "output_type": "stream",
     "text": [
      "Enter the numerator:  2\n",
      "Enter the denominator:  1\n"
     ]
    },
    {
     "name": "stdout",
     "output_type": "stream",
     "text": [
      "Result of division: 2.0\n"
     ]
    }
   ],
   "source": [
    "try:\n",
    "   numerator = int(input(\"Enter the numerator: \"))\n",
    "   denominator = int(input(\"Enter the denominator: \"))\n",
    "   result = numerator / denominator\n",
    "    \n",
    "except ValueError:\n",
    "   print(\"Error: Invalid input. Please enter valid integers.\")\n",
    "except ZeroDivisionError:\n",
    "   print(\"Error: Cannot divide by zero.\")\n",
    "else:\n",
    "   print(f\"Result of division: {result}\")"
   ]
  },
  {
   "cell_type": "markdown",
   "id": "add2a7a5-1f73-4e00-9541-0ec450c6a59d",
   "metadata": {},
   "source": [
    "#### The Finally Clause\n",
    "The finally clause provides a mechanism to guarantee that specific code will be executed, regardless of whether an exception is raised or not. \n",
    "\n",
    "This is useful for performing cleanup actions such as closing files or network connections, releasing locks, or freeing up resources."
   ]
  },
  {
   "cell_type": "code",
   "execution_count": 117,
   "id": "6f65d673-f118-4d00-95cf-0685300145c9",
   "metadata": {},
   "outputs": [
    {
     "name": "stdout",
     "output_type": "stream",
     "text": [
      "Line one text\n",
      "This is demo text file.\n",
      "Here is the text data.\n",
      "File read operation successful.\n",
      "File operation is complete.\n"
     ]
    }
   ],
   "source": [
    "try:\n",
    "   file = open(\"./data/example.txt\", \"r\")\n",
    "   content = file.read()\n",
    "   print(content)\n",
    "except FileNotFoundError:\n",
    "   print(\"Error: The file was not found.\")\n",
    "else:\n",
    "   print(\"File read operation successful.\")\n",
    "finally:\n",
    "   if 'file' in locals():\n",
    "      file.close()\n",
    "   print(\"File operation is complete.\")"
   ]
  },
  {
   "cell_type": "code",
   "execution_count": null,
   "id": "590d5b93-d5f5-4827-be28-8111cbc81b99",
   "metadata": {},
   "outputs": [],
   "source": []
  }
 ],
 "metadata": {
  "kernelspec": {
   "display_name": "Python [conda env:base] *",
   "language": "python",
   "name": "conda-base-py"
  },
  "language_info": {
   "codemirror_mode": {
    "name": "ipython",
    "version": 3
   },
   "file_extension": ".py",
   "mimetype": "text/x-python",
   "name": "python",
   "nbconvert_exporter": "python",
   "pygments_lexer": "ipython3",
   "version": "3.12.7"
  }
 },
 "nbformat": 4,
 "nbformat_minor": 5
}
