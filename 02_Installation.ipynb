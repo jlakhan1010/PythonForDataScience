{
 "cells": [
  {
   "cell_type": "markdown",
   "id": "6cb472cd-e30d-49be-9a31-2a8e754eb775",
   "metadata": {},
   "source": [
    "# Installation \n",
    "## Python"
   ]
  },
  {
   "cell_type": "code",
   "execution_count": null,
   "id": "d936b7f6-2297-47d2-98b9-3417a02262e9",
   "metadata": {},
   "outputs": [],
   "source": []
  },
  {
   "cell_type": "markdown",
   "id": "cea4b1e7-68cb-434d-b65b-7ec1074bf228",
   "metadata": {},
   "source": [
    "## Anaconda"
   ]
  },
  {
   "cell_type": "code",
   "execution_count": null,
   "id": "37c0cf40-9b86-4233-9917-c8b42dd905a5",
   "metadata": {},
   "outputs": [],
   "source": []
  },
  {
   "cell_type": "markdown",
   "id": "76eaf551-b526-4158-b178-5689c294fb2e",
   "metadata": {},
   "source": [
    "## Miniconda"
   ]
  },
  {
   "cell_type": "code",
   "execution_count": null,
   "id": "6970dd4d-96a1-45f9-a433-e9efd944e464",
   "metadata": {},
   "outputs": [],
   "source": []
  },
  {
   "cell_type": "markdown",
   "id": "1d3a0df1-1844-4201-82b9-52cc1d465ba4",
   "metadata": {},
   "source": [
    "## PyCharm"
   ]
  },
  {
   "cell_type": "code",
   "execution_count": null,
   "id": "d11c97f6-e154-4dce-8c41-86c343383072",
   "metadata": {},
   "outputs": [],
   "source": []
  },
  {
   "cell_type": "markdown",
   "id": "e4e1b69d-7653-4893-95ca-dd73c0e9ac77",
   "metadata": {},
   "source": [
    "# Using Python\n",
    "## Prompt"
   ]
  },
  {
   "cell_type": "code",
   "execution_count": null,
   "id": "c429895d-a3e6-4270-b4c6-c55892192b7c",
   "metadata": {},
   "outputs": [],
   "source": []
  },
  {
   "cell_type": "markdown",
   "id": "c5528861-281a-491a-8e22-7c2a9e95c1b4",
   "metadata": {},
   "source": [
    "## Editor"
   ]
  },
  {
   "cell_type": "code",
   "execution_count": null,
   "id": "a8ade09b-5451-4b62-ada3-83fe68926dd6",
   "metadata": {},
   "outputs": [],
   "source": []
  },
  {
   "cell_type": "markdown",
   "id": "1cbb89e1-77af-4193-8ea1-a6f3f5f7920f",
   "metadata": {},
   "source": [
    "## Jupyter Notebook"
   ]
  },
  {
   "cell_type": "code",
   "execution_count": null,
   "id": "dcce78e8-c53d-437b-8a49-c7bad7e55773",
   "metadata": {},
   "outputs": [],
   "source": []
  },
  {
   "cell_type": "markdown",
   "id": "2046ea23-ad65-4b1d-a79f-c9ada693f89c",
   "metadata": {},
   "source": [
    "## VSCode"
   ]
  },
  {
   "cell_type": "code",
   "execution_count": null,
   "id": "2dbd7b33-712f-47c3-947a-02ed44d49fdd",
   "metadata": {},
   "outputs": [],
   "source": []
  },
  {
   "cell_type": "markdown",
   "id": "2e8446d6-0a26-450e-8dff-5a6a5e567b8f",
   "metadata": {},
   "source": [
    "## PyCharm"
   ]
  },
  {
   "cell_type": "code",
   "execution_count": null,
   "id": "96cf8ce5-1c96-4529-bf2c-7e4a881e0b18",
   "metadata": {},
   "outputs": [],
   "source": []
  },
  {
   "cell_type": "markdown",
   "id": "aad30d1a-70bd-4120-bda0-138581276cf5",
   "metadata": {},
   "source": [
    "## Virtual Environment"
   ]
  },
  {
   "cell_type": "code",
   "execution_count": null,
   "id": "4653d3d5-bb55-4214-8a0b-f84fe2083618",
   "metadata": {},
   "outputs": [],
   "source": []
  }
 ],
 "metadata": {
  "kernelspec": {
   "display_name": "Python [conda env:base] *",
   "language": "python",
   "name": "conda-base-py"
  },
  "language_info": {
   "codemirror_mode": {
    "name": "ipython",
    "version": 3
   },
   "file_extension": ".py",
   "mimetype": "text/x-python",
   "name": "python",
   "nbconvert_exporter": "python",
   "pygments_lexer": "ipython3",
   "version": "3.12.7"
  }
 },
 "nbformat": 4,
 "nbformat_minor": 5
}
