{
 "cells": [
  {
   "cell_type": "markdown",
   "id": "b7a33ddb-9ea9-4b04-a194-07692b671593",
   "metadata": {},
   "source": [
    "### Arithmetic Operators"
   ]
  },
  {
   "cell_type": "code",
   "execution_count": 58,
   "id": "cf3a76f2",
   "metadata": {},
   "outputs": [
    {
     "data": {
      "text/plain": [
       "1024"
      ]
     },
     "execution_count": 58,
     "metadata": {},
     "output_type": "execute_result"
    }
   ],
   "source": [
    "+ Addition\n",
    "-  Subtraction\n",
    "* Multiplication\n",
    "/ Division\n",
    "// Floor Division\n",
    "% Modulus\n",
    "** Exponent"
   ]
  },
  {
   "cell_type": "code",
   "execution_count": 44,
   "id": "3d906c98-f22c-4e10-9f8d-bd2dcf0a659c",
   "metadata": {},
   "outputs": [
    {
     "data": {
      "text/plain": [
       "1.25"
      ]
     },
     "execution_count": 44,
     "metadata": {},
     "output_type": "execute_result"
    }
   ],
   "source": [
    "n1 = 5\n",
    "n2 = 4\n",
    "n1/n2"
   ]
  },
  {
   "cell_type": "code",
   "execution_count": 46,
   "id": "06b3f692-2d8a-41ef-9dfc-2182d44dc551",
   "metadata": {},
   "outputs": [
    {
     "data": {
      "text/plain": [
       "2.5"
      ]
     },
     "execution_count": 46,
     "metadata": {},
     "output_type": "execute_result"
    }
   ],
   "source": [
    "n1/2"
   ]
  },
  {
   "cell_type": "code",
   "execution_count": null,
   "id": "c0d403ab-ad92-483c-bc7e-08decec0ca28",
   "metadata": {},
   "outputs": [],
   "source": []
  },
  {
   "cell_type": "code",
   "execution_count": null,
   "id": "072a74a3-c18c-4a73-8f7f-863388be2abe",
   "metadata": {},
   "outputs": [],
   "source": []
  },
  {
   "cell_type": "code",
   "execution_count": null,
   "id": "e043c233-2309-498e-b08e-b215d88475a9",
   "metadata": {},
   "outputs": [],
   "source": []
  },
  {
   "cell_type": "markdown",
   "id": "985edd34-f762-4554-aa47-66fe1bf12cad",
   "metadata": {},
   "source": [
    "### Comparison Operators"
   ]
  },
  {
   "cell_type": "code",
   "execution_count": null,
   "id": "c189ca68-f620-4224-85b5-f91191abde0c",
   "metadata": {},
   "outputs": [],
   "source": [
    "== Equal to\n",
    "!= not equal to\n",
    "< Less than\n",
    "> Greater than\n",
    "<= Less than equal to\n",
    ">= Greater than equal to"
   ]
  },
  {
   "cell_type": "code",
   "execution_count": 60,
   "id": "7c8d0038-5ab0-4683-93c3-df6cddb732f4",
   "metadata": {},
   "outputs": [],
   "source": [
    "n1 = 2\n",
    "n2 = 3\n",
    "n3 = 10"
   ]
  },
  {
   "cell_type": "code",
   "execution_count": 76,
   "id": "fb4117af-603e-4799-ab6b-67df23569258",
   "metadata": {},
   "outputs": [
    {
     "data": {
      "text/plain": [
       "False"
      ]
     },
     "execution_count": 76,
     "metadata": {},
     "output_type": "execute_result"
    }
   ],
   "source": [
    "n1 > n2"
   ]
  },
  {
   "cell_type": "code",
   "execution_count": 82,
   "id": "d8b9da00-ed50-4dcb-afbe-85b933d93634",
   "metadata": {},
   "outputs": [
    {
     "data": {
      "text/plain": [
       "True"
      ]
     },
     "execution_count": 82,
     "metadata": {},
     "output_type": "execute_result"
    }
   ],
   "source": [
    "1 <= 2"
   ]
  },
  {
   "cell_type": "markdown",
   "id": "19ba83a6-89cb-44cd-9e9c-e91c82e7c522",
   "metadata": {},
   "source": [
    "### Assignment Operators"
   ]
  },
  {
   "cell_type": "code",
   "execution_count": 104,
   "id": "54bc949f-d9da-4341-9af6-6f96d7f68e70",
   "metadata": {},
   "outputs": [],
   "source": [
    "n1 , n2 , n3 = 2, 3, 4"
   ]
  },
  {
   "cell_type": "code",
   "execution_count": 106,
   "id": "403c9170-5fbf-4e03-92fb-12a96579a156",
   "metadata": {},
   "outputs": [
    {
     "data": {
      "text/plain": [
       "(2, 3, 4)"
      ]
     },
     "execution_count": 106,
     "metadata": {},
     "output_type": "execute_result"
    }
   ],
   "source": [
    "n1, n2, n3"
   ]
  },
  {
   "cell_type": "code",
   "execution_count": 114,
   "id": "b9e854b1-6ab6-4885-9243-cbd1d402f647",
   "metadata": {},
   "outputs": [],
   "source": [
    "n1 &= 5"
   ]
  },
  {
   "cell_type": "code",
   "execution_count": 116,
   "id": "b589e40e-31a3-4c77-8a98-2e12ad83290f",
   "metadata": {},
   "outputs": [
    {
     "data": {
      "text/plain": [
       "5"
      ]
     },
     "execution_count": 116,
     "metadata": {},
     "output_type": "execute_result"
    }
   ],
   "source": [
    "n1"
   ]
  },
  {
   "cell_type": "markdown",
   "id": "9e905d93-e666-44c1-82f7-2069fe2a6412",
   "metadata": {},
   "source": [
    "### Bitwise Operators"
   ]
  },
  {
   "cell_type": "code",
   "execution_count": 130,
   "id": "53f37ab2-c84d-4890-90f0-05f0f6769151",
   "metadata": {},
   "outputs": [],
   "source": [
    "n1 = 5\n",
    "n2 = 6"
   ]
  },
  {
   "cell_type": "code",
   "execution_count": 132,
   "id": "50ee53dc-64ad-45a2-8c96-c7901ec68130",
   "metadata": {},
   "outputs": [
    {
     "data": {
      "text/plain": [
       "('0b101', '0b110')"
      ]
     },
     "execution_count": 132,
     "metadata": {},
     "output_type": "execute_result"
    }
   ],
   "source": [
    "bin(5), bin(6)"
   ]
  },
  {
   "cell_type": "code",
   "execution_count": 138,
   "id": "82112c01-2d69-4492-8ad5-eb0f8dac602c",
   "metadata": {},
   "outputs": [
    {
     "data": {
      "text/plain": [
       "3"
      ]
     },
     "execution_count": 138,
     "metadata": {},
     "output_type": "execute_result"
    }
   ],
   "source": [
    "n1 ^ n2"
   ]
  },
  {
   "cell_type": "code",
   "execution_count": 146,
   "id": "a9b4d1cc-c3fa-46f8-ad61-89558ace392f",
   "metadata": {},
   "outputs": [
    {
     "data": {
      "text/plain": [
       "1"
      ]
     },
     "execution_count": 146,
     "metadata": {},
     "output_type": "execute_result"
    }
   ],
   "source": [
    "n1 >>2   # 001  10100"
   ]
  },
  {
   "cell_type": "markdown",
   "id": "706fbc1c-e132-42bd-badd-0d233a393f4d",
   "metadata": {},
   "source": [
    "      1  0  1\n",
    "      1  1  0\n",
    "&     1  0  0 =>  4\n",
    "|     1  1  1  => 7\n",
    "^     0  1  1 => 3\n",
    "~     0  1  0\n",
    "<<\n",
    ">>"
   ]
  },
  {
   "cell_type": "code",
   "execution_count": null,
   "id": "aad38538-8485-40df-adcf-38bfa0977651",
   "metadata": {},
   "outputs": [],
   "source": []
  },
  {
   "cell_type": "markdown",
   "id": "e3720ade-4d9d-4a24-8b3e-a87cbcffb9bc",
   "metadata": {},
   "source": [
    "### Logical Operators"
   ]
  },
  {
   "cell_type": "code",
   "execution_count": null,
   "id": "096180f5-32b8-48ea-9a14-527c279be008",
   "metadata": {},
   "outputs": [],
   "source": [
    "and\n",
    "or\n",
    "not"
   ]
  },
  {
   "cell_type": "code",
   "execution_count": 148,
   "id": "45456ad7-71b1-438e-b0f7-9267f29f7bb9",
   "metadata": {},
   "outputs": [
    {
     "name": "stdout",
     "output_type": "stream",
     "text": [
      "Pass\n"
     ]
    }
   ],
   "source": [
    "marks = 60\n",
    "if marks>40 and marks <=60:\n",
    "    print(\"Pass\")"
   ]
  },
  {
   "cell_type": "code",
   "execution_count": 150,
   "id": "b4fbb221-3716-4ff2-b66c-92c50e571899",
   "metadata": {},
   "outputs": [
    {
     "name": "stdout",
     "output_type": "stream",
     "text": [
      "True\n",
      "False\n",
      "False\n",
      "False\n"
     ]
    }
   ],
   "source": [
    "# and\n",
    "print(True and True)\n",
    "print(True and False)\n",
    "print(False and True)\n",
    "print(False and False)\n"
   ]
  },
  {
   "cell_type": "code",
   "execution_count": 152,
   "id": "2b7a8854-33ef-4710-9517-940ea50b8ce3",
   "metadata": {},
   "outputs": [
    {
     "name": "stdout",
     "output_type": "stream",
     "text": [
      "True\n",
      "True\n",
      "True\n",
      "False\n"
     ]
    }
   ],
   "source": [
    "# or\n",
    "print(True or True)\n",
    "print(True or False)\n",
    "print(False or True)\n",
    "print(False or False)"
   ]
  },
  {
   "cell_type": "code",
   "execution_count": 156,
   "id": "6fbe699f-6012-420a-b815-4a3e473e8a97",
   "metadata": {},
   "outputs": [
    {
     "name": "stdout",
     "output_type": "stream",
     "text": [
      "False\n",
      "True\n"
     ]
    }
   ],
   "source": [
    "# not\n",
    "print(not True)\n",
    "print(not False)"
   ]
  },
  {
   "cell_type": "markdown",
   "id": "934ffdde-4d00-43f6-9428-f9fe7407a7e4",
   "metadata": {},
   "source": [
    "### Membership Operators"
   ]
  },
  {
   "cell_type": "code",
   "execution_count": null,
   "id": "c22564e7-08e8-4f92-a903-00557d9c1a98",
   "metadata": {},
   "outputs": [],
   "source": [
    "in\n",
    "not in"
   ]
  },
  {
   "cell_type": "code",
   "execution_count": 164,
   "id": "ca7ad255-fa59-46b8-b620-c12d77a9ec45",
   "metadata": {},
   "outputs": [
    {
     "data": {
      "text/plain": [
       "True"
      ]
     },
     "execution_count": 164,
     "metadata": {},
     "output_type": "execute_result"
    }
   ],
   "source": [
    "\"a\" not in \"hello\""
   ]
  },
  {
   "cell_type": "code",
   "execution_count": 166,
   "id": "9dc4a8ed-3adb-4252-8732-5c166936486f",
   "metadata": {},
   "outputs": [
    {
     "data": {
      "text/plain": [
       "True"
      ]
     },
     "execution_count": 166,
     "metadata": {},
     "output_type": "execute_result"
    }
   ],
   "source": [
    "1 not in [2,3,4]"
   ]
  },
  {
   "cell_type": "code",
   "execution_count": null,
   "id": "09e995d7-c439-45be-a6a9-b988d59de6a5",
   "metadata": {},
   "outputs": [],
   "source": []
  },
  {
   "cell_type": "markdown",
   "id": "013a357a-8ec0-45a6-8383-372725968b09",
   "metadata": {},
   "source": [
    "### Identity Operators"
   ]
  },
  {
   "cell_type": "code",
   "execution_count": null,
   "id": "f2452809-ea38-4b49-8d61-cc7dacc3ccdc",
   "metadata": {},
   "outputs": [],
   "source": [
    "is \n",
    "is not"
   ]
  },
  {
   "cell_type": "code",
   "execution_count": 170,
   "id": "e5f5ad97-6828-4b1e-89fe-84faddc91de9",
   "metadata": {},
   "outputs": [],
   "source": [
    "n1 = 2\n",
    "n2 =2\n",
    "n3 = 8"
   ]
  },
  {
   "cell_type": "code",
   "execution_count": 188,
   "id": "abd85cb6-d1f5-4018-af1b-227642e67513",
   "metadata": {},
   "outputs": [
    {
     "data": {
      "text/plain": [
       "True"
      ]
     },
     "execution_count": 188,
     "metadata": {},
     "output_type": "execute_result"
    }
   ],
   "source": [
    "n1 is n4"
   ]
  },
  {
   "cell_type": "code",
   "execution_count": 174,
   "id": "166fb603-c514-46e3-9473-47ecaecb5b0c",
   "metadata": {},
   "outputs": [
    {
     "data": {
      "text/plain": [
       "2"
      ]
     },
     "execution_count": 174,
     "metadata": {},
     "output_type": "execute_result"
    }
   ],
   "source": [
    "n1 "
   ]
  },
  {
   "cell_type": "code",
   "execution_count": 176,
   "id": "06337065-b913-4a1e-9d9c-3a6007ecf7c1",
   "metadata": {},
   "outputs": [
    {
     "data": {
      "text/plain": [
       "2"
      ]
     },
     "execution_count": 176,
     "metadata": {},
     "output_type": "execute_result"
    }
   ],
   "source": [
    "n2"
   ]
  },
  {
   "cell_type": "code",
   "execution_count": 178,
   "id": "7a04dd4a-1757-403c-9911-cb7e103d694a",
   "metadata": {},
   "outputs": [],
   "source": [
    "import copy\n",
    "n4 = copy.copy(n1)"
   ]
  },
  {
   "cell_type": "code",
   "execution_count": 186,
   "id": "c9c67a80-f743-430b-a2b4-3786505ca8e3",
   "metadata": {},
   "outputs": [
    {
     "data": {
      "text/plain": [
       "(140718425385432, 140718425385432)"
      ]
     },
     "execution_count": 186,
     "metadata": {},
     "output_type": "execute_result"
    }
   ],
   "source": [
    "id(n4), id(n1)"
   ]
  },
  {
   "cell_type": "code",
   "execution_count": 190,
   "id": "8ec6275e-bff6-4941-a088-74df839f21f3",
   "metadata": {},
   "outputs": [],
   "source": [
    "l1 = [1,2]\n",
    "l2 = copy.copy(l1)"
   ]
  },
  {
   "cell_type": "code",
   "execution_count": 192,
   "id": "495bd962-e8ad-456a-97df-89cbbfad8016",
   "metadata": {},
   "outputs": [
    {
     "data": {
      "text/plain": [
       "False"
      ]
     },
     "execution_count": 192,
     "metadata": {},
     "output_type": "execute_result"
    }
   ],
   "source": [
    "l1 is l2"
   ]
  },
  {
   "cell_type": "code",
   "execution_count": 198,
   "id": "1e2df199-01ca-4b3d-a88d-78a1def42f41",
   "metadata": {},
   "outputs": [
    {
     "data": {
      "text/plain": [
       "([1, 2], 2192924717504)"
      ]
     },
     "execution_count": 198,
     "metadata": {},
     "output_type": "execute_result"
    }
   ],
   "source": [
    "l1, id(l1)"
   ]
  },
  {
   "cell_type": "code",
   "execution_count": 200,
   "id": "68d0577d-3c72-4798-8e61-5f108abd4bf7",
   "metadata": {},
   "outputs": [
    {
     "data": {
      "text/plain": [
       "([1, 2], 2192924715648)"
      ]
     },
     "execution_count": 200,
     "metadata": {},
     "output_type": "execute_result"
    }
   ],
   "source": [
    "l2, id(l2)"
   ]
  },
  {
   "cell_type": "code",
   "execution_count": 206,
   "id": "e8b301fe-4e45-4a5b-b501-69643e261980",
   "metadata": {},
   "outputs": [
    {
     "data": {
      "text/plain": [
       "True"
      ]
     },
     "execution_count": 206,
     "metadata": {},
     "output_type": "execute_result"
    }
   ],
   "source": [
    "l1 is not l2"
   ]
  },
  {
   "cell_type": "code",
   "execution_count": null,
   "id": "a4d8764f-6197-46e6-8238-ea3eb8ef7e5f",
   "metadata": {},
   "outputs": [],
   "source": []
  }
 ],
 "metadata": {
  "kernelspec": {
   "display_name": "Python [conda env:base] *",
   "language": "python",
   "name": "conda-base-py"
  },
  "language_info": {
   "codemirror_mode": {
    "name": "ipython",
    "version": 3
   },
   "file_extension": ".py",
   "mimetype": "text/x-python",
   "name": "python",
   "nbconvert_exporter": "python",
   "pygments_lexer": "ipython3",
   "version": "3.12.7"
  }
 },
 "nbformat": 4,
 "nbformat_minor": 5
}
