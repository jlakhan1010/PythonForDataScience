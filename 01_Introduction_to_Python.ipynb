{
 "cells": [
  {
   "cell_type": "markdown",
   "id": "2e000f0d-9604-4e18-9cbb-d15c0f5c9421",
   "metadata": {},
   "source": [
    "# What is Python?\n",
    "* Python is a very popular **general-purpose interpreted, interactive, object-oriented, and high-level** programming language. <br>\n",
    "* Python is **dynamically-typed and garbage-collected** programming language. <br>\n",
    "* It was created by Guido van Rossum during 1985- 1990. <br>\n",
    "* Python source code is also available under the GNU General Public License (GPL).<br>\n",
    "\n",
    "* Python supports multiple programming paradigms, including **Procedural, Object Oriented and Functional** programming language. "
   ]
  },
  {
   "cell_type": "markdown",
   "id": "ec5993ae-699f-44f9-b8db-80cb601526b0",
   "metadata": {},
   "source": [
    "# Features of Python\n",
    "**Easy-to-learn −** Python has few keywords, simple structure, and a clearly defined syntax. <br>\n",
    "**Easy-to-read −** Python code is more clearly defined and visible to the eyes.<br>\n",
    "**Easy-to-maintain −** Python's source code is fairly easy-to-maintain.<br>\n",
    "**A broad standard library −** Python's bulk of the library is very portable and cross-platform compatible on UNIX, Windows, and Macintosh.<br>\n",
    "**Interactive Mode −** Python has support for an interactive mode that allows interactive testing and debugging of snippets of code.<br>\n",
    "**Portable −** Python can run on a wide variety of hardware platforms and has the same interface on all platforms.<br>\n",
    "**Extendable −** You can add low-level modules to the Python interpreter. These modules enable programmers to add to or customize their tools to be more efficient.<br>\n",
    "**Databases −** Python provides interfaces to all major commercial databases.<br>\n",
    "**GUI Programming −** Python supports GUI applications that can be created and ported to many system calls, libraries, and Windows systems, such as Windows MFC, Macintosh, and the X Window system of Unix.<br>\n",
    "**Scalable −** Python provides a better structure and support for large programs than shell scripting.,br>"
   ]
  },
  {
   "cell_type": "markdown",
   "id": "3fdf2860-03a7-45d3-a959-efac7875207a",
   "metadata": {},
   "source": [
    "# Why Python?\n",
    "* Python is **open source**, which means it's available free of cost.\n",
    "* Python is **simple** and so **easy to learn**.\n",
    "* Python is **versatile** and can be used to create many different things.\n",
    "* Python has **powerful development libraries**, including AI, ML, etc.\n",
    "* Python is **much in demand** and ensures a **high salary**.\n",
    "  \n",
    "* **Python is Interpreted −** Python is processed at runtime by the interpreter. You do not need to compile your program before executing it.\n",
    "* **Python is Interactive −** You can actually sit at a Python prompt and interact with the interpreter directly to write your programs.\n",
    "* **Python is Object-Oriented −** Python supports Object-Oriented style or technique of programming that encapsulates code within objects.\n",
    "* **Python is a Beginner's Language −** Python is a great language for the beginner-level programmers and supports the development of a wide range of applications from simple text processing to WWW browsers to games."
   ]
  },
  {
   "cell_type": "markdown",
   "id": "f07715dc-d512-46bc-b252-8ac696f237f6",
   "metadata": {},
   "source": [
    "# Careers with Python\n",
    "* Game developer\n",
    "* Web designer\n",
    "* Python developer\n",
    "* Full-stack developer\n",
    "* Machine learning engineer\n",
    "* Data scientist\n",
    "* Data analyst\n",
    "* Data engineer\n",
    "* DevOps engineer\n",
    "* Many more other roles"
   ]
  },
  {
   "cell_type": "markdown",
   "id": "e43b0d5a-4b5e-4587-9c54-46b48eeefd8b",
   "metadata": {},
   "source": [
    "# Python Reference\n",
    "Official Python website : __[python.org](https://www.python.org/)__ <br>\n",
    "Python Downloads : __[Downloads](https://www.python.org/downloads/)__ <br>\n",
    "Python Documentation : __[Documentation](https://docs.python.org/3/)__ <br>\n",
    "Python Tutorials : __[Tutorials](https://docs.python.org/3/tutorial/index.html)__ <br>"
   ]
  },
  {
   "cell_type": "code",
   "execution_count": null,
   "id": "0b2da548-125a-408d-b88a-572fae2eae70",
   "metadata": {},
   "outputs": [],
   "source": []
  }
 ],
 "metadata": {
  "kernelspec": {
   "display_name": "Python [conda env:base] *",
   "language": "python",
   "name": "conda-base-py"
  },
  "language_info": {
   "codemirror_mode": {
    "name": "ipython",
    "version": 3
   },
   "file_extension": ".py",
   "mimetype": "text/x-python",
   "name": "python",
   "nbconvert_exporter": "python",
   "pygments_lexer": "ipython3",
   "version": "3.12.7"
  }
 },
 "nbformat": 4,
 "nbformat_minor": 5
}
