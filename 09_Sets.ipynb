{
 "cells": [
  {
   "cell_type": "markdown",
   "id": "c20a7a39-3ac1-42d8-8f2e-cfa59aaba6fb",
   "metadata": {},
   "source": [
    "A set is an unordered collection of unique elements. <br>\n",
    "Unlike lists or tuples, sets do not allow duplicate values i.e. each element in a set must be unique. <br>\n",
    "Sets are mutable, meaning you can add or remove items after a set has been created.<br>\n",
    "\n",
    "Sets are defined using curly braces {} or the built-in set() function. <br>\n",
    "They are particularly useful for membership testing, removing duplicates from a sequence, and performing common mathematical set operations like union, intersection, and difference.\n",
    "\n",
    "A set refers to a collection of distinct objects. It is used to group objects together and to study their properties and relationships. The objects in a set are called elements or members of the set."
   ]
  },
  {
   "cell_type": "code",
   "execution_count": null,
   "id": "a10d72f1-479a-4271-b7d8-f9ef3b046ffe",
   "metadata": {},
   "outputs": [],
   "source": []
  },
  {
   "cell_type": "code",
   "execution_count": null,
   "id": "ca8e9ad1-2f0b-4ddb-a700-ef24842ee51a",
   "metadata": {},
   "outputs": [],
   "source": []
  },
  {
   "cell_type": "markdown",
   "id": "fe07c66c-a806-4c1f-a405-470de4ce525e",
   "metadata": {},
   "source": [
    "### Creating a Set in Python\n"
   ]
  },
  {
   "cell_type": "code",
   "execution_count": 41,
   "id": "3c9fb108-01fd-4904-8344-24cefd1f8965",
   "metadata": {},
   "outputs": [
    {
     "name": "stdout",
     "output_type": "stream",
     "text": [
      "{1, 2, 3, 4, 5}\n"
     ]
    }
   ],
   "source": [
    "my_set = {1, 2, 3, 4, 5,2,3}\n",
    "print (my_set)"
   ]
  },
  {
   "cell_type": "code",
   "execution_count": null,
   "id": "cefeb98b-8ec3-4f92-939d-166925e0195f",
   "metadata": {},
   "outputs": [],
   "source": []
  },
  {
   "cell_type": "code",
   "execution_count": 45,
   "id": "407423b4-0828-4cb7-821b-b292b5d6e835",
   "metadata": {},
   "outputs": [
    {
     "name": "stdout",
     "output_type": "stream",
     "text": [
      "{1, 2, 3, 4, 5, 7}\n"
     ]
    }
   ],
   "source": [
    "my_set = set([1, 7, 2, 3, 4, 5,1,4,2])\n",
    "print (my_set)"
   ]
  },
  {
   "cell_type": "code",
   "execution_count": null,
   "id": "904dccb0-76fb-4505-a92d-33a9831e6f3e",
   "metadata": {},
   "outputs": [],
   "source": []
  },
  {
   "cell_type": "markdown",
   "id": "3cbddd64-f502-4dc2-8c8b-4478f6212671",
   "metadata": {},
   "source": [
    "### Adding Elements in a Set"
   ]
  },
  {
   "cell_type": "code",
   "execution_count": null,
   "id": "2c1228f1-78b7-412c-bfe6-2676c13d7d7b",
   "metadata": {},
   "outputs": [],
   "source": [
    "add() update()"
   ]
  },
  {
   "cell_type": "code",
   "execution_count": 47,
   "id": "a682d5cf-50f4-4886-b753-9810d0bcb2b9",
   "metadata": {},
   "outputs": [
    {
     "data": {
      "text/plain": [
       "{1, 2, 3, 4}"
      ]
     },
     "execution_count": 47,
     "metadata": {},
     "output_type": "execute_result"
    }
   ],
   "source": [
    "s1 = {1,4,2,3}\n",
    "s1"
   ]
  },
  {
   "cell_type": "code",
   "execution_count": 49,
   "id": "b99148c7-101a-4a22-b97a-11191bde9975",
   "metadata": {},
   "outputs": [
    {
     "data": {
      "text/plain": [
       "{1, 2, 3, 4, 5}"
      ]
     },
     "execution_count": 49,
     "metadata": {},
     "output_type": "execute_result"
    }
   ],
   "source": [
    "s1.add(5)\n",
    "s1"
   ]
  },
  {
   "cell_type": "code",
   "execution_count": 51,
   "id": "fc88bb91-3848-4c33-bc11-bc3dbb75fd4f",
   "metadata": {},
   "outputs": [
    {
     "data": {
      "text/plain": [
       "{1, 2, 3, 4, 5, 11, 12}"
      ]
     },
     "execution_count": 51,
     "metadata": {},
     "output_type": "execute_result"
    }
   ],
   "source": [
    "s1.update({11,12})\n",
    "s1"
   ]
  },
  {
   "cell_type": "markdown",
   "id": "e4cc2eb0-02dc-4c4d-aecd-8924255fff0c",
   "metadata": {},
   "source": [
    "### Removing Elements from a Set"
   ]
  },
  {
   "cell_type": "code",
   "execution_count": null,
   "id": "98ed98d7-f31b-4218-8934-0925c7ac491b",
   "metadata": {},
   "outputs": [],
   "source": [
    "remove() discard() clear() pop()"
   ]
  },
  {
   "cell_type": "code",
   "execution_count": 53,
   "id": "0d365b7a-23dd-4177-a1e6-d6180b120bc8",
   "metadata": {},
   "outputs": [
    {
     "data": {
      "text/plain": [
       "{1, 2, 3, 4, 5, 11, 12}"
      ]
     },
     "execution_count": 53,
     "metadata": {},
     "output_type": "execute_result"
    }
   ],
   "source": [
    "s1\n"
   ]
  },
  {
   "cell_type": "code",
   "execution_count": 55,
   "id": "3879bff6-8925-4452-af23-41f072b101c5",
   "metadata": {},
   "outputs": [
    {
     "data": {
      "text/plain": [
       "{1, 2, 3, 4, 5, 11}"
      ]
     },
     "execution_count": 55,
     "metadata": {},
     "output_type": "execute_result"
    }
   ],
   "source": [
    "s1.remove(12)\n",
    "s1"
   ]
  },
  {
   "cell_type": "code",
   "execution_count": 57,
   "id": "0f33774b-1fec-4d88-955b-d6972817c638",
   "metadata": {},
   "outputs": [
    {
     "ename": "KeyError",
     "evalue": "100",
     "output_type": "error",
     "traceback": [
      "\u001b[1;31m---------------------------------------------------------------------------\u001b[0m",
      "\u001b[1;31mKeyError\u001b[0m                                  Traceback (most recent call last)",
      "Cell \u001b[1;32mIn[57], line 1\u001b[0m\n\u001b[1;32m----> 1\u001b[0m s1\u001b[38;5;241m.\u001b[39mremove(\u001b[38;5;241m100\u001b[39m)\n",
      "\u001b[1;31mKeyError\u001b[0m: 100"
     ]
    }
   ],
   "source": [
    "s1.remove(100)"
   ]
  },
  {
   "cell_type": "code",
   "execution_count": 61,
   "id": "0e001e24-0108-4e02-b917-9f1a560dac71",
   "metadata": {},
   "outputs": [
    {
     "data": {
      "text/plain": [
       "(2, {3, 4, 5, 11})"
      ]
     },
     "execution_count": 61,
     "metadata": {},
     "output_type": "execute_result"
    }
   ],
   "source": [
    "s1.pop(), s1"
   ]
  },
  {
   "cell_type": "code",
   "execution_count": 63,
   "id": "cde6521d-8b94-4a2d-8531-f0a68a5bb8b7",
   "metadata": {},
   "outputs": [
    {
     "data": {
      "text/plain": [
       "{3, 4, 5, 11}"
      ]
     },
     "execution_count": 63,
     "metadata": {},
     "output_type": "execute_result"
    }
   ],
   "source": [
    "s1"
   ]
  },
  {
   "cell_type": "code",
   "execution_count": 65,
   "id": "d35df1b0-666f-4d6d-9372-aea534cf45f1",
   "metadata": {},
   "outputs": [
    {
     "data": {
      "text/plain": [
       "set()"
      ]
     },
     "execution_count": 65,
     "metadata": {},
     "output_type": "execute_result"
    }
   ],
   "source": [
    "s1.clear()\n",
    "s1"
   ]
  },
  {
   "cell_type": "code",
   "execution_count": 67,
   "id": "043d78ac-b062-42e5-b4ef-674a1bf04f58",
   "metadata": {},
   "outputs": [
    {
     "data": {
      "text/plain": [
       "{1, 2, 3, 4}"
      ]
     },
     "execution_count": 67,
     "metadata": {},
     "output_type": "execute_result"
    }
   ],
   "source": [
    "s1 = {1,2,3,4}\n",
    "s1"
   ]
  },
  {
   "cell_type": "code",
   "execution_count": 71,
   "id": "11111ef6-8e21-4dc0-8868-c554bbbbd093",
   "metadata": {},
   "outputs": [
    {
     "data": {
      "text/plain": [
       "{1, 2, 3}"
      ]
     },
     "execution_count": 71,
     "metadata": {},
     "output_type": "execute_result"
    }
   ],
   "source": [
    "s1.discard(4)\n",
    "s1"
   ]
  },
  {
   "cell_type": "markdown",
   "id": "cc9f134f-7213-4c4b-9cab-bbab82097720",
   "metadata": {},
   "source": [
    "### Membership Testing in a Set"
   ]
  },
  {
   "cell_type": "code",
   "execution_count": 73,
   "id": "44ae68cc-fd58-4133-b191-1622e378def8",
   "metadata": {},
   "outputs": [
    {
     "data": {
      "text/plain": [
       "{1, 2, 3, 4}"
      ]
     },
     "execution_count": 73,
     "metadata": {},
     "output_type": "execute_result"
    }
   ],
   "source": [
    "s1 = {1,2,3,4}\n",
    "s1"
   ]
  },
  {
   "cell_type": "code",
   "execution_count": 75,
   "id": "8618510f-1daf-4bab-9efb-4d4adfa033ab",
   "metadata": {},
   "outputs": [
    {
     "data": {
      "text/plain": [
       "True"
      ]
     },
     "execution_count": 75,
     "metadata": {},
     "output_type": "execute_result"
    }
   ],
   "source": [
    "1 in s1"
   ]
  },
  {
   "cell_type": "code",
   "execution_count": 77,
   "id": "ab3a7419-1baf-404e-9960-d146fb1b2338",
   "metadata": {},
   "outputs": [
    {
     "data": {
      "text/plain": [
       "False"
      ]
     },
     "execution_count": 77,
     "metadata": {},
     "output_type": "execute_result"
    }
   ],
   "source": [
    "100 in s1"
   ]
  },
  {
   "cell_type": "code",
   "execution_count": 79,
   "id": "bb9aa902-d0aa-40b3-96d0-0625eb6a0d3e",
   "metadata": {},
   "outputs": [
    {
     "data": {
      "text/plain": [
       "False"
      ]
     },
     "execution_count": 79,
     "metadata": {},
     "output_type": "execute_result"
    }
   ],
   "source": [
    "1 not in s1"
   ]
  },
  {
   "cell_type": "code",
   "execution_count": 81,
   "id": "eda24a0f-f049-4eb9-86d3-cfb87b575a75",
   "metadata": {},
   "outputs": [
    {
     "data": {
      "text/plain": [
       "True"
      ]
     },
     "execution_count": 81,
     "metadata": {},
     "output_type": "execute_result"
    }
   ],
   "source": [
    "100 not in s1"
   ]
  },
  {
   "cell_type": "code",
   "execution_count": 87,
   "id": "d7ee8c55-841d-4110-a298-2cc53f5be006",
   "metadata": {},
   "outputs": [
    {
     "data": {
      "text/plain": [
       "{('asd', 1, 2.5), 1, 1.5, 2, 'asd'}"
      ]
     },
     "execution_count": 87,
     "metadata": {},
     "output_type": "execute_result"
    }
   ],
   "source": [
    "s1 = {1,2,\"asd\", 1.5, (\"asd\", 1, 2.5)}\n",
    "s1"
   ]
  },
  {
   "cell_type": "markdown",
   "id": "d622eb00-6f38-4607-ace6-e18eb5860e8e",
   "metadata": {},
   "source": [
    "### Set operations\n",
    "\n",
    "Union − It combine elements from both sets using the union() function or the | operator.\n",
    "\n",
    "Intersection − It is used to get common elements using the intersection() function or the & operator.\n",
    "\n",
    "Difference − It is used to get elements that are in one set but not the other using the difference() function or the - operator.\n",
    "\n",
    "Symmetric Difference − It is used to get elements that are in either of the sets but not in both using the symmetric_difference() method or the ^ operator."
   ]
  },
  {
   "cell_type": "code",
   "execution_count": 89,
   "id": "1b51d57d-0520-49bf-8dd0-bb124da0dfbd",
   "metadata": {},
   "outputs": [
    {
     "data": {
      "text/plain": [
       "({1, 2, 3, 4, 5}, {5, 6, 7, 8, 9})"
      ]
     },
     "execution_count": 89,
     "metadata": {},
     "output_type": "execute_result"
    }
   ],
   "source": [
    "s1 = {1,2,3,4,5}\n",
    "s2 = {9,8,7,6,5}\n",
    "s1, s2"
   ]
  },
  {
   "cell_type": "code",
   "execution_count": 91,
   "id": "ba4a070a-f67d-49ae-95dd-258606c0233b",
   "metadata": {},
   "outputs": [
    {
     "data": {
      "text/plain": [
       "{1, 2, 3, 4, 5, 6, 7, 8, 9}"
      ]
     },
     "execution_count": 91,
     "metadata": {},
     "output_type": "execute_result"
    }
   ],
   "source": [
    "s1 | s2"
   ]
  },
  {
   "cell_type": "code",
   "execution_count": 93,
   "id": "9aaa5b1a-8317-4197-a549-90b1a838cd73",
   "metadata": {},
   "outputs": [
    {
     "data": {
      "text/plain": [
       "{5}"
      ]
     },
     "execution_count": 93,
     "metadata": {},
     "output_type": "execute_result"
    }
   ],
   "source": [
    "s1 & s2"
   ]
  },
  {
   "cell_type": "code",
   "execution_count": 95,
   "id": "aa0dd249-bb34-4c40-b9a7-d852077e4f8d",
   "metadata": {},
   "outputs": [
    {
     "data": {
      "text/plain": [
       "{1, 2, 3, 4}"
      ]
     },
     "execution_count": 95,
     "metadata": {},
     "output_type": "execute_result"
    }
   ],
   "source": [
    "s1 - s2"
   ]
  },
  {
   "cell_type": "code",
   "execution_count": 97,
   "id": "e7f64892-2ae8-4eff-8759-0322ce9f5a9a",
   "metadata": {},
   "outputs": [
    {
     "data": {
      "text/plain": [
       "{6, 7, 8, 9}"
      ]
     },
     "execution_count": 97,
     "metadata": {},
     "output_type": "execute_result"
    }
   ],
   "source": [
    "s2 -s1"
   ]
  },
  {
   "cell_type": "code",
   "execution_count": 99,
   "id": "17f9efd6-d074-4f65-84f6-16213a7b4b40",
   "metadata": {},
   "outputs": [
    {
     "data": {
      "text/plain": [
       "{1, 2, 3, 4, 6, 7, 8, 9}"
      ]
     },
     "execution_count": 99,
     "metadata": {},
     "output_type": "execute_result"
    }
   ],
   "source": [
    "s1 ^ s2"
   ]
  },
  {
   "cell_type": "markdown",
   "id": "2a8e6396-ca17-41df-a2d9-dfeb96bb4a66",
   "metadata": {},
   "source": [
    "### Frozen Sets\n",
    "\n",
    "A frozen set is an immutable collection of unique elements, similar to a regular set but with the distinction that it cannot be modified after creation.<br>\n",
    "Once created, the elements within a frozen set cannot be added, removed, or modified, making it a suitable choice when you need an immutable set.<br>\n",
    "\n",
    "You can create a frozen set in Python using the frozenset() function by passing an iterable (such as a list, tuple, or another set) containing the elements you want to include in the frozen set.\n"
   ]
  },
  {
   "cell_type": "code",
   "execution_count": 101,
   "id": "99f18a63-a4f9-4edd-920d-81d64bb64b17",
   "metadata": {},
   "outputs": [
    {
     "name": "stdout",
     "output_type": "stream",
     "text": [
      "frozenset({1, 2, 3})\n"
     ]
    }
   ],
   "source": [
    "frozen_set = frozenset([1, 2, 3])\n",
    "print(frozen_set) \n"
   ]
  },
  {
   "cell_type": "code",
   "execution_count": 103,
   "id": "55eac19d-9518-4bad-b57d-f76fc6ed3fde",
   "metadata": {},
   "outputs": [
    {
     "ename": "AttributeError",
     "evalue": "'frozenset' object has no attribute 'add'",
     "output_type": "error",
     "traceback": [
      "\u001b[1;31m---------------------------------------------------------------------------\u001b[0m",
      "\u001b[1;31mAttributeError\u001b[0m                            Traceback (most recent call last)",
      "Cell \u001b[1;32mIn[103], line 1\u001b[0m\n\u001b[1;32m----> 1\u001b[0m frozen_set\u001b[38;5;241m.\u001b[39madd(\u001b[38;5;241m4\u001b[39m)\n",
      "\u001b[1;31mAttributeError\u001b[0m: 'frozenset' object has no attribute 'add'"
     ]
    }
   ],
   "source": [
    "frozen_set.add(4)"
   ]
  },
  {
   "cell_type": "code",
   "execution_count": null,
   "id": "49d26a61-9b57-4d6c-b277-54562ca75b0b",
   "metadata": {},
   "outputs": [],
   "source": []
  },
  {
   "cell_type": "code",
   "execution_count": null,
   "id": "745ddd96-fa28-469c-87f4-439503cfc7c3",
   "metadata": {},
   "outputs": [],
   "source": []
  },
  {
   "cell_type": "markdown",
   "id": "20c0e20f-8a77-4061-b3a4-3ffdd5ae221e",
   "metadata": {},
   "source": [
    "### Access Set Items\n"
   ]
  },
  {
   "cell_type": "code",
   "execution_count": 105,
   "id": "67153470-fd54-4bd4-ac57-008b5ed7b5b8",
   "metadata": {},
   "outputs": [
    {
     "data": {
      "text/plain": [
       "{1, 2, 3, 4, 5}"
      ]
     },
     "execution_count": 105,
     "metadata": {},
     "output_type": "execute_result"
    }
   ],
   "source": [
    "s1"
   ]
  },
  {
   "cell_type": "code",
   "execution_count": 109,
   "id": "23383fe0-1b12-4409-a071-36599a5b769f",
   "metadata": {},
   "outputs": [
    {
     "name": "stdout",
     "output_type": "stream",
     "text": [
      "1\n",
      "2\n",
      "3\n",
      "4\n",
      "5\n"
     ]
    }
   ],
   "source": [
    "for i in s1:\n",
    "    print(i)"
   ]
  },
  {
   "cell_type": "code",
   "execution_count": null,
   "id": "95335476-e72e-431d-b38d-7e89705d0795",
   "metadata": {},
   "outputs": [],
   "source": []
  },
  {
   "cell_type": "markdown",
   "id": "8de1d0c2-4fb2-42b9-adef-155e9b5d5216",
   "metadata": {},
   "source": [
    "### Methods"
   ]
  },
  {
   "cell_type": "code",
   "execution_count": 111,
   "id": "b8cfdfdd-82db-48f3-99a9-3920965d06d5",
   "metadata": {},
   "outputs": [
    {
     "name": "stdout",
     "output_type": "stream",
     "text": [
      "s1 =  {1, 2, 3, 4, 5} id(s1) =  2741935324768\n",
      "s2 =  {1, 2, 3, 4, 5} id(s2) =  2741935323200\n"
     ]
    }
   ],
   "source": [
    "s2 = s1.copy()\n",
    "print(\"s1 = \", s1, \"id(s1) = \", id(s1))\n",
    "print(\"s2 = \", s2, \"id(s2) = \", id(s2))\n"
   ]
  },
  {
   "cell_type": "code",
   "execution_count": 113,
   "id": "032e9f2b-3bfa-48ab-a9d1-d592fb029c6f",
   "metadata": {},
   "outputs": [],
   "source": [
    "s1.add(7)"
   ]
  },
  {
   "cell_type": "code",
   "execution_count": 116,
   "id": "c5f93b2f-9458-4ca3-a864-1ccde98ca82d",
   "metadata": {},
   "outputs": [
    {
     "data": {
      "text/plain": [
       "({1, 2, 3, 4, 5, 7}, {1, 2, 3, 4, 5})"
      ]
     },
     "execution_count": 116,
     "metadata": {},
     "output_type": "execute_result"
    }
   ],
   "source": [
    "s1, s2"
   ]
  },
  {
   "cell_type": "code",
   "execution_count": 129,
   "id": "63d55e33-3ebb-434c-82c5-0eb283bf6d0a",
   "metadata": {},
   "outputs": [
    {
     "data": {
      "text/plain": [
       "({1, 2, 3, 4, 5}, {5, 6, 7, 8, 9})"
      ]
     },
     "execution_count": 129,
     "metadata": {},
     "output_type": "execute_result"
    }
   ],
   "source": [
    "s1 = {1,2,3,4, 5}\n",
    "s2 = {5,6,7,8,9}\n",
    "s1, s2"
   ]
  },
  {
   "cell_type": "code",
   "execution_count": 125,
   "id": "97f9517c-78e1-4ead-a526-e16eef7b1df0",
   "metadata": {},
   "outputs": [
    {
     "data": {
      "text/plain": [
       "{1, 2, 3, 4}"
      ]
     },
     "execution_count": 125,
     "metadata": {},
     "output_type": "execute_result"
    }
   ],
   "source": [
    "s1.difference(s2)"
   ]
  },
  {
   "cell_type": "code",
   "execution_count": 131,
   "id": "2aceccd0-78c3-455d-a26d-1df55a6f4574",
   "metadata": {},
   "outputs": [
    {
     "data": {
      "text/plain": [
       "False"
      ]
     },
     "execution_count": 131,
     "metadata": {},
     "output_type": "execute_result"
    }
   ],
   "source": [
    "s1.isdisjoint(s2)"
   ]
  },
  {
   "cell_type": "code",
   "execution_count": null,
   "id": "87bcf17d-25b4-4716-b062-9a1a41b4eca9",
   "metadata": {},
   "outputs": [],
   "source": [
    "s1."
   ]
  },
  {
   "cell_type": "markdown",
   "id": "4f6e2bb9-c38a-4355-865c-d3804ee360f1",
   "metadata": {},
   "source": [
    "### Operations"
   ]
  },
  {
   "cell_type": "code",
   "execution_count": null,
   "id": "79fd5e57-c6ad-435b-bcee-9bfe12b893a1",
   "metadata": {},
   "outputs": [],
   "source": []
  }
 ],
 "metadata": {
  "kernelspec": {
   "display_name": "Python [conda env:base] *",
   "language": "python",
   "name": "conda-base-py"
  },
  "language_info": {
   "codemirror_mode": {
    "name": "ipython",
    "version": 3
   },
   "file_extension": ".py",
   "mimetype": "text/x-python",
   "name": "python",
   "nbconvert_exporter": "python",
   "pygments_lexer": "ipython3",
   "version": "3.12.7"
  }
 },
 "nbformat": 4,
 "nbformat_minor": 5
}
