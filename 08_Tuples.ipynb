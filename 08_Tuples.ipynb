{
 "cells": [
  {
   "cell_type": "markdown",
   "id": "a86aba19-1ae5-4611-a31c-0733828586d0",
   "metadata": {},
   "source": [
    "Tuple is one of the built-in data types in Python.<br>\n",
    "A Python tuple is a sequence of comma separated items, enclosed in parentheses (). <br>\n",
    "The items in a Python tuple need not be of same data type.<br>\n",
    "Tuples are immutable"
   ]
  },
  {
   "cell_type": "code",
   "execution_count": 24,
   "id": "69248c21-f28c-44b8-8f01-ce59cbd3f60a",
   "metadata": {},
   "outputs": [
    {
     "data": {
      "text/plain": [
       "(1, 2, 'marks', 'maths')"
      ]
     },
     "execution_count": 24,
     "metadata": {},
     "output_type": "execute_result"
    }
   ],
   "source": [
    "tup1 = (1,2,\"marks\", \"maths\")\n",
    "tup1"
   ]
  },
  {
   "cell_type": "code",
   "execution_count": 26,
   "id": "a927cd92-6867-463e-acf8-f3a77abc8f51",
   "metadata": {},
   "outputs": [
    {
     "data": {
      "text/plain": [
       "()"
      ]
     },
     "execution_count": 26,
     "metadata": {},
     "output_type": "execute_result"
    }
   ],
   "source": [
    "tup2 = tuple()\n",
    "tup2"
   ]
  },
  {
   "cell_type": "code",
   "execution_count": 34,
   "id": "db8a4e0b-74d2-425e-9d98-d7e64171d41c",
   "metadata": {},
   "outputs": [
    {
     "data": {
      "text/plain": [
       "((), tuple)"
      ]
     },
     "execution_count": 34,
     "metadata": {},
     "output_type": "execute_result"
    }
   ],
   "source": [
    "t1 = ()\n",
    "t1, type(t1)"
   ]
  },
  {
   "cell_type": "code",
   "execution_count": 38,
   "id": "74eef1dd-ada0-4ba1-a7bf-1b7291f6a832",
   "metadata": {},
   "outputs": [
    {
     "data": {
      "text/plain": [
       "((1,), tuple)"
      ]
     },
     "execution_count": 38,
     "metadata": {},
     "output_type": "execute_result"
    }
   ],
   "source": [
    "t2 = (1,)\n",
    "t2, type(t2)"
   ]
  },
  {
   "cell_type": "code",
   "execution_count": 30,
   "id": "b0bd8502-75a2-4175-89a4-c6dfc76d741b",
   "metadata": {},
   "outputs": [
    {
     "data": {
      "text/plain": [
       "(0, 1, 2)"
      ]
     },
     "execution_count": 30,
     "metadata": {},
     "output_type": "execute_result"
    }
   ],
   "source": [
    "tup3 = tuple(range(3))\n",
    "tup3"
   ]
  },
  {
   "cell_type": "code",
   "execution_count": 32,
   "id": "eb13d251-8523-4628-817d-8c11c29f57d5",
   "metadata": {},
   "outputs": [
    {
     "data": {
      "text/plain": [
       "('asd', 1, 4, 9.2)"
      ]
     },
     "execution_count": 32,
     "metadata": {},
     "output_type": "execute_result"
    }
   ],
   "source": [
    "tup4 = tuple([\"asd\", 1, 4, 9.2])\n",
    "tup4"
   ]
  },
  {
   "cell_type": "code",
   "execution_count": null,
   "id": "21d6eed6-ab96-4498-b17e-ecc5f4f685b6",
   "metadata": {},
   "outputs": [],
   "source": []
  },
  {
   "cell_type": "markdown",
   "id": "a8fef213-607e-4a63-8c53-cc5a47e556d0",
   "metadata": {},
   "source": [
    "### Accessing Values in Tuples\n"
   ]
  },
  {
   "cell_type": "code",
   "execution_count": 40,
   "id": "d7e9c269-9160-493d-a9fd-b7747c331e7c",
   "metadata": {},
   "outputs": [
    {
     "data": {
      "text/plain": [
       "('asd', 1, 4, 9.2)"
      ]
     },
     "execution_count": 40,
     "metadata": {},
     "output_type": "execute_result"
    }
   ],
   "source": [
    "tup4 = tuple([\"asd\", 1, 4, 9.2])\n",
    "tup4"
   ]
  },
  {
   "cell_type": "code",
   "execution_count": 42,
   "id": "3389996e-0bbf-4a70-99c6-98fe773eb3f9",
   "metadata": {},
   "outputs": [
    {
     "data": {
      "text/plain": [
       "'asd'"
      ]
     },
     "execution_count": 42,
     "metadata": {},
     "output_type": "execute_result"
    }
   ],
   "source": [
    "tup4[0]"
   ]
  },
  {
   "cell_type": "code",
   "execution_count": 44,
   "id": "e4607f02-3e70-4eb3-9e20-0167b1d00397",
   "metadata": {},
   "outputs": [
    {
     "data": {
      "text/plain": [
       "4"
      ]
     },
     "execution_count": 44,
     "metadata": {},
     "output_type": "execute_result"
    }
   ],
   "source": [
    "tup4[-2]"
   ]
  },
  {
   "cell_type": "code",
   "execution_count": 46,
   "id": "522f9b0f-52d8-4937-bb65-f2292133ed9e",
   "metadata": {},
   "outputs": [
    {
     "data": {
      "text/plain": [
       "('asd', 1)"
      ]
     },
     "execution_count": 46,
     "metadata": {},
     "output_type": "execute_result"
    }
   ],
   "source": [
    "tup4[:2]"
   ]
  },
  {
   "cell_type": "code",
   "execution_count": null,
   "id": "d7ec781c-016d-4a2a-b803-ee2705a5bb56",
   "metadata": {},
   "outputs": [],
   "source": []
  },
  {
   "cell_type": "code",
   "execution_count": null,
   "id": "eb681f66-e973-4539-a97d-6e6c9910a0cf",
   "metadata": {},
   "outputs": [],
   "source": []
  },
  {
   "cell_type": "markdown",
   "id": "609413fa-8eb3-4ca3-971b-64998181a61e",
   "metadata": {},
   "source": [
    "### Updating Tuples\n"
   ]
  },
  {
   "cell_type": "code",
   "execution_count": 48,
   "id": "8332377e-c098-4a63-86a0-e640c2a08311",
   "metadata": {},
   "outputs": [
    {
     "data": {
      "text/plain": [
       "('asd', 1, 4, 9.2)"
      ]
     },
     "execution_count": 48,
     "metadata": {},
     "output_type": "execute_result"
    }
   ],
   "source": [
    "tup4 = tuple([\"asd\", 1, 4, 9.2])\n",
    "tup4"
   ]
  },
  {
   "cell_type": "code",
   "execution_count": 50,
   "id": "e084ca3e-eca9-44b2-870f-6931345f7520",
   "metadata": {},
   "outputs": [
    {
     "ename": "TypeError",
     "evalue": "'tuple' object does not support item assignment",
     "output_type": "error",
     "traceback": [
      "\u001b[1;31m---------------------------------------------------------------------------\u001b[0m",
      "\u001b[1;31mTypeError\u001b[0m                                 Traceback (most recent call last)",
      "Cell \u001b[1;32mIn[50], line 1\u001b[0m\n\u001b[1;32m----> 1\u001b[0m tup4[\u001b[38;5;241m2\u001b[39m] \u001b[38;5;241m=\u001b[39m \u001b[38;5;241m40\u001b[39m\n",
      "\u001b[1;31mTypeError\u001b[0m: 'tuple' object does not support item assignment"
     ]
    }
   ],
   "source": [
    "tup4[2] = 40"
   ]
  },
  {
   "cell_type": "code",
   "execution_count": null,
   "id": "e9911bb3-c83a-4075-bb24-004a07a31e2f",
   "metadata": {},
   "outputs": [],
   "source": []
  },
  {
   "cell_type": "markdown",
   "id": "f95e8be9-fd3f-4b5a-a1c2-6222fb42f5a5",
   "metadata": {},
   "source": [
    "### Delete Tuple Elements\n"
   ]
  },
  {
   "cell_type": "code",
   "execution_count": 52,
   "id": "bdb688d7-f9b5-4848-a115-9d5143a0a9a3",
   "metadata": {},
   "outputs": [
    {
     "data": {
      "text/plain": [
       "('asd', 1, 4, 9.2)"
      ]
     },
     "execution_count": 52,
     "metadata": {},
     "output_type": "execute_result"
    }
   ],
   "source": [
    "tup4"
   ]
  },
  {
   "cell_type": "code",
   "execution_count": 56,
   "id": "75ced574-dac3-476d-965e-b5bd7614a3bc",
   "metadata": {},
   "outputs": [],
   "source": [
    "del tup4"
   ]
  },
  {
   "cell_type": "code",
   "execution_count": null,
   "id": "7af332d6-c6b8-4478-a76b-98dfacd5b355",
   "metadata": {},
   "outputs": [],
   "source": []
  },
  {
   "cell_type": "markdown",
   "id": "49e4cf27-94d1-438d-b407-c13c1be55d06",
   "metadata": {},
   "source": [
    "### Updating Tuples"
   ]
  },
  {
   "cell_type": "code",
   "execution_count": null,
   "id": "f39b6ae0-4db1-474e-84ae-c27c6eb66d53",
   "metadata": {},
   "outputs": [],
   "source": [
    "Concatenation"
   ]
  },
  {
   "cell_type": "code",
   "execution_count": 63,
   "id": "6a14ffa9-0d01-4fbd-b762-f8593e6be490",
   "metadata": {},
   "outputs": [
    {
     "name": "stdout",
     "output_type": "stream",
     "text": [
      "t1 =  (1, 2, 3)  id(t1) =  3213891142656\n",
      "t2 =  (4, 5, 6)  id(t2) =  3213889246336\n"
     ]
    }
   ],
   "source": [
    "t1 = (1,2,3)\n",
    "t2 = (4,5,6)\n",
    "print(\"t1 = \", t1, \" id(t1) = \", id(t1))\n",
    "print(\"t2 = \", t2, \" id(t2) = \", id(t2))\n"
   ]
  },
  {
   "cell_type": "code",
   "execution_count": 67,
   "id": "cf039eef-6670-47c0-a8a4-785e90a4e14b",
   "metadata": {},
   "outputs": [
    {
     "data": {
      "text/plain": [
       "((1, 2, 3, 4, 5, 6), 3213891128384)"
      ]
     },
     "execution_count": 67,
     "metadata": {},
     "output_type": "execute_result"
    }
   ],
   "source": [
    "t1+t2, id(t1+t2)"
   ]
  },
  {
   "cell_type": "code",
   "execution_count": null,
   "id": "3951f071-c52a-4347-bd0b-931cfe0aa62d",
   "metadata": {},
   "outputs": [],
   "source": []
  },
  {
   "cell_type": "code",
   "execution_count": null,
   "id": "f18446bf-8a06-4067-8719-c4dc8cd23073",
   "metadata": {},
   "outputs": [],
   "source": []
  },
  {
   "cell_type": "code",
   "execution_count": null,
   "id": "ca661ffb-e820-4cae-94f8-bfcacee630a5",
   "metadata": {},
   "outputs": [],
   "source": [
    "Slicing"
   ]
  },
  {
   "cell_type": "code",
   "execution_count": 70,
   "id": "fe19e4a5-4cb0-4f82-b59e-2f2bd62d533d",
   "metadata": {},
   "outputs": [],
   "source": [
    "t1 = (1,2,3)\n"
   ]
  },
  {
   "cell_type": "code",
   "execution_count": 72,
   "id": "78f3b25f-a111-4958-9461-83a12b27a108",
   "metadata": {},
   "outputs": [
    {
     "data": {
      "text/plain": [
       "(1, 2)"
      ]
     },
     "execution_count": 72,
     "metadata": {},
     "output_type": "execute_result"
    }
   ],
   "source": [
    "t1[:2]"
   ]
  },
  {
   "cell_type": "markdown",
   "id": "ef2e8e47-1b73-4472-9035-d877c7a008a3",
   "metadata": {},
   "source": [
    "### Unpack Tuple Items"
   ]
  },
  {
   "cell_type": "code",
   "execution_count": 74,
   "id": "0ba57029-4d75-42d6-a150-ff2cc6c6b200",
   "metadata": {},
   "outputs": [
    {
     "data": {
      "text/plain": [
       "(1, 2, 3)"
      ]
     },
     "execution_count": 74,
     "metadata": {},
     "output_type": "execute_result"
    }
   ],
   "source": [
    "t1 = (1,2,3)\n",
    "t1"
   ]
  },
  {
   "cell_type": "code",
   "execution_count": 76,
   "id": "cb2ca029-35bf-414c-a8e5-9a004b45d6c2",
   "metadata": {},
   "outputs": [
    {
     "name": "stdout",
     "output_type": "stream",
     "text": [
      "1\n",
      "2\n",
      "3\n"
     ]
    }
   ],
   "source": [
    "a,b,c =t1 # a,b,c = 1,2,3\n",
    "print(a)\n",
    "print(b)\n",
    "print(c)"
   ]
  },
  {
   "cell_type": "code",
   "execution_count": 78,
   "id": "e23e6178-0b91-4ec5-97f9-19a4816b5515",
   "metadata": {},
   "outputs": [
    {
     "ename": "ValueError",
     "evalue": "too many values to unpack (expected 2)",
     "output_type": "error",
     "traceback": [
      "\u001b[1;31m---------------------------------------------------------------------------\u001b[0m",
      "\u001b[1;31mValueError\u001b[0m                                Traceback (most recent call last)",
      "Cell \u001b[1;32mIn[78], line 1\u001b[0m\n\u001b[1;32m----> 1\u001b[0m a,b \u001b[38;5;241m=\u001b[39mt1\n",
      "\u001b[1;31mValueError\u001b[0m: too many values to unpack (expected 2)"
     ]
    }
   ],
   "source": [
    "a,b =t1\n"
   ]
  },
  {
   "cell_type": "markdown",
   "id": "7276aa48-af94-4fa6-913d-f5124265bb34",
   "metadata": {},
   "source": [
    "### Loop Through Tuple Items\n"
   ]
  },
  {
   "cell_type": "code",
   "execution_count": 85,
   "id": "db6963bc-db18-4c90-bc0e-3d23b70303df",
   "metadata": {},
   "outputs": [
    {
     "name": "stdout",
     "output_type": "stream",
     "text": [
      "1\n",
      "2\n",
      "3\n"
     ]
    }
   ],
   "source": [
    "t1 = (1,2,3)\n",
    "for i in t1:\n",
    "    print(i)"
   ]
  },
  {
   "cell_type": "code",
   "execution_count": 87,
   "id": "21de4230-381a-4a48-b121-b06b506fa40f",
   "metadata": {},
   "outputs": [
    {
     "name": "stdout",
     "output_type": "stream",
     "text": [
      "1\n",
      "2\n",
      "3\n"
     ]
    }
   ],
   "source": [
    "i = 0\n",
    "while i in range(len(t1)):\n",
    "    print(t1[i])\n",
    "    i+=1"
   ]
  },
  {
   "cell_type": "code",
   "execution_count": null,
   "id": "b0c6de8a-02c1-4f47-ac1b-7b5e72ad7f14",
   "metadata": {},
   "outputs": [],
   "source": []
  },
  {
   "cell_type": "markdown",
   "id": "d1b2c7eb-e3fb-4051-986f-9f9c45f872e7",
   "metadata": {},
   "source": [
    "### Tuple methods"
   ]
  },
  {
   "cell_type": "code",
   "execution_count": 89,
   "id": "a8425d33-64a7-4a4e-acfd-d529bd11cf46",
   "metadata": {},
   "outputs": [
    {
     "data": {
      "text/plain": [
       "1"
      ]
     },
     "execution_count": 89,
     "metadata": {},
     "output_type": "execute_result"
    }
   ],
   "source": [
    "t1 = (1,2,3)\n",
    "t1.count(2)"
   ]
  },
  {
   "cell_type": "code",
   "execution_count": 91,
   "id": "f7c5d1b8-5ca8-442f-b99d-8125c6e51711",
   "metadata": {},
   "outputs": [
    {
     "data": {
      "text/plain": [
       "2"
      ]
     },
     "execution_count": 91,
     "metadata": {},
     "output_type": "execute_result"
    }
   ],
   "source": [
    "t1.index(3)"
   ]
  },
  {
   "cell_type": "code",
   "execution_count": 93,
   "id": "69ec0291-3780-4e62-80ad-ccf82af8c409",
   "metadata": {},
   "outputs": [
    {
     "data": {
      "text/plain": [
       "3"
      ]
     },
     "execution_count": 93,
     "metadata": {},
     "output_type": "execute_result"
    }
   ],
   "source": [
    "len(t1)"
   ]
  },
  {
   "cell_type": "code",
   "execution_count": 95,
   "id": "5d35f026-3ae6-4ea6-9966-0589709403e4",
   "metadata": {},
   "outputs": [
    {
     "data": {
      "text/plain": [
       "3"
      ]
     },
     "execution_count": 95,
     "metadata": {},
     "output_type": "execute_result"
    }
   ],
   "source": [
    "max(t1)"
   ]
  },
  {
   "cell_type": "code",
   "execution_count": 97,
   "id": "1037a01c-7013-4e31-86f3-ed26d8f8ad67",
   "metadata": {},
   "outputs": [
    {
     "data": {
      "text/plain": [
       "1"
      ]
     },
     "execution_count": 97,
     "metadata": {},
     "output_type": "execute_result"
    }
   ],
   "source": [
    "min(t1)"
   ]
  },
  {
   "cell_type": "code",
   "execution_count": null,
   "id": "953f4b6b-73a8-4f45-8072-5e4d30d3df83",
   "metadata": {},
   "outputs": [],
   "source": []
  }
 ],
 "metadata": {
  "kernelspec": {
   "display_name": "Python [conda env:base] *",
   "language": "python",
   "name": "conda-base-py"
  },
  "language_info": {
   "codemirror_mode": {
    "name": "ipython",
    "version": 3
   },
   "file_extension": ".py",
   "mimetype": "text/x-python",
   "name": "python",
   "nbconvert_exporter": "python",
   "pygments_lexer": "ipython3",
   "version": "3.12.7"
  }
 },
 "nbformat": 4,
 "nbformat_minor": 5
}
