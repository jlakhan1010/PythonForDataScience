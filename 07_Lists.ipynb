{
 "cells": [
  {
   "cell_type": "markdown",
   "id": "00cc75b8-d4c4-4d6e-8eb2-582a0d7f24ec",
   "metadata": {},
   "source": [
    "List is one of the built-in data types in Python.<br> \n",
    "A Python list is a sequence of comma separated items, enclosed in square brackets [ ]. <br>\n",
    "The items in a Python list can be of the different data type."
   ]
  },
  {
   "cell_type": "code",
   "execution_count": 2,
   "id": "6b18d587-50b2-4660-8690-5c7d842aeeb6",
   "metadata": {},
   "outputs": [],
   "source": [
    "list1 = [\"Maths\", \"Chemestry\", 21, 69.75, 100]\n",
    "list2 = [1, 2, 3, 4, 5]\n",
    "list3 = [\"a\", \"b\", \"c\", \"d\"]\n",
    "list4 = [25.50, True, -55, 1+2j, \"asd\"]"
   ]
  },
  {
   "cell_type": "markdown",
   "id": "f91df9cd-6a87-4fe4-99da-0a2ff41ae9ed",
   "metadata": {},
   "source": [
    "List is an ordered collection of items. Each item in a list has a unique position index, starting from 0. <br>\n",
    "A Python list is mutable. Any item from the list can be accessed using its index, and can be modified. <br>\n",
    "One or more objects from the list can be removed or added. <br>\n",
    "A list may have same item at more than one index positions."
   ]
  },
  {
   "cell_type": "code",
   "execution_count": 37,
   "id": "e73c79d8-9987-4a4e-be36-002708a6072a",
   "metadata": {},
   "outputs": [
    {
     "data": {
      "text/plain": [
       "[1, 3, 'asd']"
      ]
     },
     "execution_count": 37,
     "metadata": {},
     "output_type": "execute_result"
    }
   ],
   "source": [
    "list1 = [ 1, 3, \"asd\"]\n",
    "list1"
   ]
  },
  {
   "cell_type": "code",
   "execution_count": 41,
   "id": "ed2d8e80-cfb7-4fdb-8ccd-feb274140043",
   "metadata": {},
   "outputs": [
    {
     "data": {
      "text/plain": [
       "[0, 1, 2, 3, 4]"
      ]
     },
     "execution_count": 41,
     "metadata": {},
     "output_type": "execute_result"
    }
   ],
   "source": [
    "list2 = list(range(5))\n",
    "list2"
   ]
  },
  {
   "cell_type": "code",
   "execution_count": 43,
   "id": "0f210d3a-0ebc-4b3c-a8d1-549ff96a4132",
   "metadata": {},
   "outputs": [
    {
     "data": {
      "text/plain": [
       "['H', 'e', 'l', 'l', 'o']"
      ]
     },
     "execution_count": 43,
     "metadata": {},
     "output_type": "execute_result"
    }
   ],
   "source": [
    "list(\"Hello\")"
   ]
  },
  {
   "cell_type": "markdown",
   "id": "72a3580e-4192-4340-92f4-1914fd3db235",
   "metadata": {},
   "source": [
    "### Accessing Values in Lists\n"
   ]
  },
  {
   "cell_type": "code",
   "execution_count": 45,
   "id": "b8eb886c-be5e-4220-9e65-688a59d16c75",
   "metadata": {},
   "outputs": [],
   "source": [
    "list1 = [\"Maths\", \"Chemestry\", 21, 69.75, 100]\n"
   ]
  },
  {
   "cell_type": "code",
   "execution_count": 49,
   "id": "b11d037f-0a67-4ced-8d0d-2b6a136a73b8",
   "metadata": {},
   "outputs": [
    {
     "data": {
      "text/plain": [
       "69.75"
      ]
     },
     "execution_count": 49,
     "metadata": {},
     "output_type": "execute_result"
    }
   ],
   "source": [
    "list1[3]"
   ]
  },
  {
   "cell_type": "code",
   "execution_count": 51,
   "id": "5ceb7da0-c88e-40b5-a63d-c9b3618ddc0f",
   "metadata": {},
   "outputs": [
    {
     "data": {
      "text/plain": [
       "100"
      ]
     },
     "execution_count": 51,
     "metadata": {},
     "output_type": "execute_result"
    }
   ],
   "source": [
    "list1[-1]"
   ]
  },
  {
   "cell_type": "code",
   "execution_count": 53,
   "id": "7a106493-b28e-48ca-b213-8755bccc87fe",
   "metadata": {},
   "outputs": [
    {
     "data": {
      "text/plain": [
       "21"
      ]
     },
     "execution_count": 53,
     "metadata": {},
     "output_type": "execute_result"
    }
   ],
   "source": [
    "list1[-3]"
   ]
  },
  {
   "cell_type": "code",
   "execution_count": 57,
   "id": "e53739eb-d081-4e43-91a9-3bd8330cd77d",
   "metadata": {},
   "outputs": [
    {
     "ename": "IndexError",
     "evalue": "list index out of range",
     "output_type": "error",
     "traceback": [
      "\u001b[1;31m---------------------------------------------------------------------------\u001b[0m",
      "\u001b[1;31mIndexError\u001b[0m                                Traceback (most recent call last)",
      "Cell \u001b[1;32mIn[57], line 1\u001b[0m\n\u001b[1;32m----> 1\u001b[0m list1[\u001b[38;5;241m-\u001b[39m\u001b[38;5;241m10\u001b[39m]\n",
      "\u001b[1;31mIndexError\u001b[0m: list index out of range"
     ]
    }
   ],
   "source": [
    "list1[-10]"
   ]
  },
  {
   "cell_type": "code",
   "execution_count": 59,
   "id": "2cf21457-da0f-460f-ae0c-e13604235499",
   "metadata": {},
   "outputs": [
    {
     "data": {
      "text/plain": [
       "['Maths', 'Chemestry', 21, 69.75]"
      ]
     },
     "execution_count": 59,
     "metadata": {},
     "output_type": "execute_result"
    }
   ],
   "source": [
    "list1[:4] # Syntax list_name[start:end] "
   ]
  },
  {
   "cell_type": "code",
   "execution_count": 61,
   "id": "d6396a41-0911-4646-aba0-91e207efbc30",
   "metadata": {},
   "outputs": [
    {
     "data": {
      "text/plain": [
       "[21, 69.75]"
      ]
     },
     "execution_count": 61,
     "metadata": {},
     "output_type": "execute_result"
    }
   ],
   "source": [
    "list1[2:4]"
   ]
  },
  {
   "cell_type": "code",
   "execution_count": 63,
   "id": "204dffd2-d7d2-44e1-b705-9f1feb36ec08",
   "metadata": {},
   "outputs": [
    {
     "data": {
      "text/plain": [
       "[69.75, 100]"
      ]
     },
     "execution_count": 63,
     "metadata": {},
     "output_type": "execute_result"
    }
   ],
   "source": [
    "list1[-2:]"
   ]
  },
  {
   "cell_type": "markdown",
   "id": "f5346394-4c02-4827-8f7c-bcfefe481e57",
   "metadata": {},
   "source": [
    "### Updating Lists\n"
   ]
  },
  {
   "cell_type": "code",
   "execution_count": 73,
   "id": "ce9fbd52-1a4d-473a-a9be-469b05eac894",
   "metadata": {},
   "outputs": [
    {
     "data": {
      "text/plain": [
       "[1, 2, 1, 3, 6]"
      ]
     },
     "execution_count": 73,
     "metadata": {},
     "output_type": "execute_result"
    }
   ],
   "source": [
    "l1 = [1,2,1,3,6]\n",
    "l1"
   ]
  },
  {
   "cell_type": "code",
   "execution_count": 75,
   "id": "9dcc3d15-a239-4ea6-8065-5f0e952c08f2",
   "metadata": {},
   "outputs": [
    {
     "data": {
      "text/plain": [
       "[1, 2, 1, 3, 6, 7]"
      ]
     },
     "execution_count": 75,
     "metadata": {},
     "output_type": "execute_result"
    }
   ],
   "source": [
    "l1.append(7)\n",
    "l1"
   ]
  },
  {
   "cell_type": "code",
   "execution_count": 77,
   "id": "78e4246f-8002-45a7-979a-1ad8f8988867",
   "metadata": {},
   "outputs": [
    {
     "data": {
      "text/plain": [
       "[11, 12, 13]"
      ]
     },
     "execution_count": 77,
     "metadata": {},
     "output_type": "execute_result"
    }
   ],
   "source": [
    "l2 = [11, 12, 13]\n",
    "l2"
   ]
  },
  {
   "cell_type": "code",
   "execution_count": 79,
   "id": "840ce0e4-4612-4d42-9c5b-cd05fa4e0ecf",
   "metadata": {},
   "outputs": [
    {
     "data": {
      "text/plain": [
       "[1, 2, 1, 3, 6, 7, 11, 12, 13]"
      ]
     },
     "execution_count": 79,
     "metadata": {},
     "output_type": "execute_result"
    }
   ],
   "source": [
    "l1.extend(l2)\n",
    "l1"
   ]
  },
  {
   "cell_type": "code",
   "execution_count": 87,
   "id": "5245bc14-cd35-4915-ac36-7c51b18b2690",
   "metadata": {},
   "outputs": [],
   "source": [
    "l1.insert(1,21) # syntax list_name.insert(index, element)"
   ]
  },
  {
   "cell_type": "code",
   "execution_count": 91,
   "id": "237fc4b7-824f-4ff9-8fb2-5f0ff4c449cb",
   "metadata": {},
   "outputs": [
    {
     "data": {
      "text/plain": [
       "[1, 21, 2, 1, 3, 6, 7, 11, 12, 13, 1]"
      ]
     },
     "execution_count": 91,
     "metadata": {},
     "output_type": "execute_result"
    }
   ],
   "source": [
    "l1"
   ]
  },
  {
   "cell_type": "code",
   "execution_count": 93,
   "id": "f1644c30-c6b7-43b7-9561-a450ca9c9768",
   "metadata": {},
   "outputs": [
    {
     "data": {
      "text/plain": [
       "[1, 21, 22, 1, 3, 6, 7, 11, 12, 13, 1]"
      ]
     },
     "execution_count": 93,
     "metadata": {},
     "output_type": "execute_result"
    }
   ],
   "source": [
    "l1[2] = 22\n",
    "l1"
   ]
  },
  {
   "cell_type": "code",
   "execution_count": 95,
   "id": "43969959-05dc-4fc8-a6cc-280e3eb44816",
   "metadata": {},
   "outputs": [
    {
     "data": {
      "text/plain": [
       "[31, 32, 22, 1, 3, 6, 7, 11, 12, 13, 1]"
      ]
     },
     "execution_count": 95,
     "metadata": {},
     "output_type": "execute_result"
    }
   ],
   "source": [
    "l1[:2] = [31, 32]\n",
    "l1\n"
   ]
  },
  {
   "cell_type": "code",
   "execution_count": null,
   "id": "23122575-ab03-468d-b0ea-a75f9278646c",
   "metadata": {},
   "outputs": [],
   "source": [
    "append()"
   ]
  },
  {
   "cell_type": "code",
   "execution_count": null,
   "id": "4a847c5c-1f32-4507-b5a1-65e9725265e0",
   "metadata": {},
   "outputs": [],
   "source": [
    "extend()\n"
   ]
  },
  {
   "cell_type": "code",
   "execution_count": null,
   "id": "f0bc3f6a-da01-4320-8c61-84724b48a750",
   "metadata": {},
   "outputs": [],
   "source": [
    "insert()"
   ]
  },
  {
   "cell_type": "markdown",
   "id": "05c44487-2200-4b00-94a1-4dffd9f2fc17",
   "metadata": {},
   "source": [
    "### Delete List Elements\n"
   ]
  },
  {
   "cell_type": "code",
   "execution_count": null,
   "id": "fa5eb56f-dd0b-4da9-989a-946bf1b75820",
   "metadata": {},
   "outputs": [],
   "source": [
    "del"
   ]
  },
  {
   "cell_type": "code",
   "execution_count": null,
   "id": "4be86dc7-1c56-494b-81de-145cd6ef380e",
   "metadata": {},
   "outputs": [],
   "source": [
    "remove()"
   ]
  },
  {
   "cell_type": "code",
   "execution_count": null,
   "id": "124f7bbf-eeef-43f3-a98d-9e32db862759",
   "metadata": {},
   "outputs": [],
   "source": [
    "pop()"
   ]
  },
  {
   "cell_type": "code",
   "execution_count": null,
   "id": "322ab3c6-80c4-4ee1-9589-f089dfa27b56",
   "metadata": {},
   "outputs": [],
   "source": [
    "clear()"
   ]
  },
  {
   "cell_type": "code",
   "execution_count": 97,
   "id": "12e7c9fd-ce47-4596-a2f5-4edd9aae5e00",
   "metadata": {},
   "outputs": [
    {
     "data": {
      "text/plain": [
       "[31, 32, 22, 1, 3, 6, 7, 11, 12, 13, 1]"
      ]
     },
     "execution_count": 97,
     "metadata": {},
     "output_type": "execute_result"
    }
   ],
   "source": [
    "l1"
   ]
  },
  {
   "cell_type": "code",
   "execution_count": 101,
   "id": "54dcb051-c591-429e-9086-a416f9bb29ec",
   "metadata": {},
   "outputs": [
    {
     "data": {
      "text/plain": [
       "[31, 32, 22, 3, 6, 7, 11, 12, 13]"
      ]
     },
     "execution_count": 101,
     "metadata": {},
     "output_type": "execute_result"
    }
   ],
   "source": [
    "del l1[3]\n",
    "l1"
   ]
  },
  {
   "cell_type": "code",
   "execution_count": 107,
   "id": "998200b6-bca0-40cc-a7d9-bf46e2723595",
   "metadata": {},
   "outputs": [
    {
     "data": {
      "text/plain": [
       "[31, 32, 22, 3, 6, 7, 13]"
      ]
     },
     "execution_count": 107,
     "metadata": {},
     "output_type": "execute_result"
    }
   ],
   "source": [
    "l1.remove(11)\n",
    "l1"
   ]
  },
  {
   "cell_type": "code",
   "execution_count": 109,
   "id": "7717707a-18fd-4670-8a40-195a8181902f",
   "metadata": {},
   "outputs": [
    {
     "data": {
      "text/plain": [
       "13"
      ]
     },
     "execution_count": 109,
     "metadata": {},
     "output_type": "execute_result"
    }
   ],
   "source": [
    "l1.pop()"
   ]
  },
  {
   "cell_type": "code",
   "execution_count": 111,
   "id": "dde99631-4e5f-465f-9b0c-bcc2603558eb",
   "metadata": {},
   "outputs": [
    {
     "data": {
      "text/plain": [
       "[31, 32, 22, 3, 6, 7]"
      ]
     },
     "execution_count": 111,
     "metadata": {},
     "output_type": "execute_result"
    }
   ],
   "source": [
    "l1"
   ]
  },
  {
   "cell_type": "code",
   "execution_count": null,
   "id": "952c40e1-5aab-4680-b4b1-1cc1d2a9f100",
   "metadata": {},
   "outputs": [],
   "source": []
  },
  {
   "cell_type": "markdown",
   "id": "38d1779c-8a84-4bc0-901b-35190e3c9066",
   "metadata": {},
   "source": [
    "### List methods"
   ]
  },
  {
   "cell_type": "code",
   "execution_count": 117,
   "id": "42c5ee85-899d-4fef-90e2-65639456d3b7",
   "metadata": {},
   "outputs": [
    {
     "data": {
      "text/plain": [
       "[31, 32, 22, 3, 6, 7]"
      ]
     },
     "execution_count": 117,
     "metadata": {},
     "output_type": "execute_result"
    }
   ],
   "source": [
    "l1 = [31, 32, 22, 3, 6, 7]\n",
    "l1\n"
   ]
  },
  {
   "cell_type": "code",
   "execution_count": 125,
   "id": "e71204d4-22be-4d16-a973-e7c056dd6b5f",
   "metadata": {},
   "outputs": [
    {
     "data": {
      "text/plain": [
       "2"
      ]
     },
     "execution_count": 125,
     "metadata": {},
     "output_type": "execute_result"
    }
   ],
   "source": [
    "l1.index(22)\n"
   ]
  },
  {
   "cell_type": "code",
   "execution_count": null,
   "id": "a321d2c1-19a6-4a40-9ab3-20587f0c50c6",
   "metadata": {},
   "outputs": [],
   "source": []
  },
  {
   "cell_type": "markdown",
   "id": "cfdb2b4e-7756-4d6f-97f9-56ab2b551c89",
   "metadata": {},
   "source": [
    "### Built in functions"
   ]
  },
  {
   "cell_type": "code",
   "execution_count": 127,
   "id": "0dcfee2d-c083-4619-b18e-43cbb66cb678",
   "metadata": {},
   "outputs": [
    {
     "data": {
      "text/plain": [
       "[31, 32, 22, 3, 6, 7]"
      ]
     },
     "execution_count": 127,
     "metadata": {},
     "output_type": "execute_result"
    }
   ],
   "source": [
    "l1"
   ]
  },
  {
   "cell_type": "code",
   "execution_count": 129,
   "id": "92f7ab20-5563-4275-8e7a-cd8f29191481",
   "metadata": {},
   "outputs": [
    {
     "data": {
      "text/plain": [
       "6"
      ]
     },
     "execution_count": 129,
     "metadata": {},
     "output_type": "execute_result"
    }
   ],
   "source": [
    "len(l1)"
   ]
  },
  {
   "cell_type": "code",
   "execution_count": 131,
   "id": "2693abcf-cbf6-46cf-bf25-7fe33d91b3cf",
   "metadata": {},
   "outputs": [
    {
     "data": {
      "text/plain": [
       "32"
      ]
     },
     "execution_count": 131,
     "metadata": {},
     "output_type": "execute_result"
    }
   ],
   "source": [
    "max(l1)"
   ]
  },
  {
   "cell_type": "code",
   "execution_count": null,
   "id": "1247a63c-d1a8-419f-8817-1cf38c63d358",
   "metadata": {},
   "outputs": [],
   "source": []
  },
  {
   "cell_type": "code",
   "execution_count": 133,
   "id": "9f245b8d-f180-460e-96bc-0be5c192bcff",
   "metadata": {},
   "outputs": [
    {
     "data": {
      "text/plain": [
       "[1, 2, 3, 11, 22, 33]"
      ]
     },
     "execution_count": 133,
     "metadata": {},
     "output_type": "execute_result"
    }
   ],
   "source": [
    "[1,2,3] + [11,22,33]"
   ]
  },
  {
   "cell_type": "code",
   "execution_count": 137,
   "id": "10881af8-f0da-47f1-ab8f-bc5b1adba95b",
   "metadata": {},
   "outputs": [
    {
     "data": {
      "text/plain": [
       "[1, 2, 3, 1, 2, 3, 1, 2, 3, 1, 2, 3, 1, 2, 3]"
      ]
     },
     "execution_count": 137,
     "metadata": {},
     "output_type": "execute_result"
    }
   ],
   "source": [
    "[1,2,3] * 5"
   ]
  },
  {
   "cell_type": "markdown",
   "id": "ee4fb8a4-7fae-4d29-97a6-8d0a092c5b24",
   "metadata": {},
   "source": [
    "### List traversing"
   ]
  },
  {
   "cell_type": "code",
   "execution_count": null,
   "id": "f68c5f16-ded3-4278-aae3-95530d336940",
   "metadata": {},
   "outputs": [],
   "source": [
    "for loop"
   ]
  },
  {
   "cell_type": "code",
   "execution_count": null,
   "id": "cc336ab5-f254-4309-b868-15ebe9808f91",
   "metadata": {},
   "outputs": [],
   "source": [
    "while loop"
   ]
  },
  {
   "cell_type": "code",
   "execution_count": null,
   "id": "407ec1ac-d8e0-4ec4-902b-71ad2123fe13",
   "metadata": {},
   "outputs": [],
   "source": [
    "loop through indexes"
   ]
  },
  {
   "cell_type": "code",
   "execution_count": null,
   "id": "f9628867-cf95-4073-b923-a93b18be7ae1",
   "metadata": {},
   "outputs": [],
   "source": [
    "enumerate"
   ]
  },
  {
   "cell_type": "code",
   "execution_count": 139,
   "id": "68be8ac7-0268-4b45-9a5e-fa8ea46bebe9",
   "metadata": {},
   "outputs": [
    {
     "data": {
      "text/plain": [
       "[1, 2, 4, 6, 8, 7]"
      ]
     },
     "execution_count": 139,
     "metadata": {},
     "output_type": "execute_result"
    }
   ],
   "source": [
    "l1 = [1,2,4,6,8,7]\n",
    "l1"
   ]
  },
  {
   "cell_type": "code",
   "execution_count": 141,
   "id": "df23a22b-5fe2-494e-b604-42e2f5dbaf20",
   "metadata": {},
   "outputs": [
    {
     "name": "stdout",
     "output_type": "stream",
     "text": [
      "1\n",
      "2\n",
      "4\n",
      "6\n",
      "8\n",
      "7\n"
     ]
    }
   ],
   "source": [
    "for item in l1:\n",
    "    print(item)"
   ]
  },
  {
   "cell_type": "code",
   "execution_count": 143,
   "id": "1aac66ae-4225-4441-8f23-acb4cdafe2c1",
   "metadata": {},
   "outputs": [
    {
     "name": "stdout",
     "output_type": "stream",
     "text": [
      "1\n",
      "2\n",
      "4\n",
      "6\n",
      "8\n",
      "7\n"
     ]
    }
   ],
   "source": [
    "\n",
    "i=0\n",
    "while i<len(l1):\n",
    "    print(l1[i])\n",
    "    i+=1"
   ]
  },
  {
   "cell_type": "code",
   "execution_count": 145,
   "id": "7f6a03fb-c696-4fd0-9313-9fd7ff9e271d",
   "metadata": {},
   "outputs": [
    {
     "name": "stdout",
     "output_type": "stream",
     "text": [
      "0  :  1\n",
      "1  :  2\n",
      "2  :  4\n",
      "3  :  6\n",
      "4  :  8\n",
      "5  :  7\n"
     ]
    }
   ],
   "source": [
    "for index, item in enumerate(l1):\n",
    "    print(index, \" : \", item)"
   ]
  },
  {
   "cell_type": "code",
   "execution_count": null,
   "id": "510aa1e6-d890-40f2-855e-384ec9e2f36c",
   "metadata": {},
   "outputs": [],
   "source": []
  },
  {
   "cell_type": "code",
   "execution_count": null,
   "id": "d04c4cd4-f338-434c-88bd-1e5aad6a44b5",
   "metadata": {},
   "outputs": [],
   "source": []
  },
  {
   "cell_type": "markdown",
   "id": "1d850081-ee93-4d0a-9770-9056e2b81c38",
   "metadata": {},
   "source": [
    "### Sorting List (Sort vs Sorted)"
   ]
  },
  {
   "cell_type": "code",
   "execution_count": 147,
   "id": "d9f4798d-cdea-4341-b3f5-c7a36260002b",
   "metadata": {},
   "outputs": [
    {
     "data": {
      "text/plain": [
       "[1, 2, 2, 3, 4, 7, 9]"
      ]
     },
     "execution_count": 147,
     "metadata": {},
     "output_type": "execute_result"
    }
   ],
   "source": [
    "list1 = [2,4,7,3,1,9,2]\n",
    "list1.sort()\n",
    "list1"
   ]
  },
  {
   "cell_type": "code",
   "execution_count": null,
   "id": "aca3d374-69df-46e8-888f-5216dfa29707",
   "metadata": {},
   "outputs": [],
   "source": []
  },
  {
   "cell_type": "markdown",
   "id": "6753b572-4295-4d3d-9b50-6991b40fc48f",
   "metadata": {},
   "source": [
    "#### sort()\n",
    "#### Syntax:\n",
    "list_name.sort(key=None, reverse=False)  <br>\n",
    "list_name is the name of the list to be sorted. <br>\n",
    "key (optional) is a function that defines the sorting criterion. If provided, it is applied to each element of the list for sorting. Default is None. <br>\n",
    "reverse (optional) is a boolean value. If True, the list will be sorted in descending order. If False (default), the list will be sorted in ascending order."
   ]
  },
  {
   "cell_type": "code",
   "execution_count": null,
   "id": "d9b0f260-71b4-4636-a7d4-23540ac53744",
   "metadata": {},
   "outputs": [],
   "source": []
  },
  {
   "cell_type": "code",
   "execution_count": null,
   "id": "29d7ac66-a9ee-458f-a60e-cad8eac01527",
   "metadata": {},
   "outputs": [],
   "source": []
  },
  {
   "cell_type": "markdown",
   "id": "6416f3a7-a9c4-48f1-b9c5-bf848f7b1ee7",
   "metadata": {},
   "source": [
    "#### sorted() \n",
    "The sorted() function in Python is a built-in function used to sort the elements of an iterable (such as a list, tuple, or string).<br>\n",
    "It returns a new sorted list, leaving the original iterable unchanged."
   ]
  },
  {
   "cell_type": "markdown",
   "id": "0d9189f1-2875-4a2a-a481-15331cc251b6",
   "metadata": {},
   "source": [
    "#### Syntax:\n",
    "sorted(iterable, key=None, reverse=False)\n",
    "\n",
    "iterable is the iterable (e.g., list, tuple, string) whose elements are to be sorted. <br>\n",
    "key (optional) is a function that defines the sorting criterion. If provided, it is applied to each element of the iterable for sorting. Default is None.<br>\n",
    "reverse (optional) is a boolean value. If True, the iterable will be sorted in descending order. If False (default), the iterable will be sorted in ascending order.<br>"
   ]
  },
  {
   "cell_type": "code",
   "execution_count": 155,
   "id": "97b33bf7-3e6a-4460-aabe-8ee2a1062c8e",
   "metadata": {},
   "outputs": [
    {
     "data": {
      "text/plain": [
       "[1, 2, 2, 3, 4, 7, 9]"
      ]
     },
     "execution_count": 155,
     "metadata": {},
     "output_type": "execute_result"
    }
   ],
   "source": [
    "list1 = [2,4,7,3,1,9,2]\n",
    "l2 = sorted(list1)\n",
    "l2"
   ]
  },
  {
   "cell_type": "code",
   "execution_count": 157,
   "id": "5421cf33-e7b3-4009-9590-29d2c81411c9",
   "metadata": {},
   "outputs": [
    {
     "data": {
      "text/plain": [
       "[2, 4, 7, 3, 1, 9, 2]"
      ]
     },
     "execution_count": 157,
     "metadata": {},
     "output_type": "execute_result"
    }
   ],
   "source": [
    "list1"
   ]
  },
  {
   "cell_type": "code",
   "execution_count": null,
   "id": "3fc54a46-5682-4120-b945-9138b9d31e36",
   "metadata": {},
   "outputs": [],
   "source": []
  },
  {
   "cell_type": "markdown",
   "id": "df5257b8-8da0-4bdc-a9e4-76305fdee408",
   "metadata": {},
   "source": [
    "### Copying a List in Python\n",
    "#### Shallow Copy vs Deep Copy"
   ]
  },
  {
   "cell_type": "code",
   "execution_count": 175,
   "id": "8ccf4c39-2295-4bdd-b671-50d5a871ceea",
   "metadata": {},
   "outputs": [
    {
     "data": {
      "text/plain": [
       "([1, 2, 3, 4], [1, 2, 3, 4])"
      ]
     },
     "execution_count": 175,
     "metadata": {},
     "output_type": "execute_result"
    }
   ],
   "source": [
    "l1 = [1,2,3,4]\n",
    "l2 = l1\n",
    "l1,l2"
   ]
  },
  {
   "cell_type": "code",
   "execution_count": 177,
   "id": "97a53040-9b9c-466d-bf61-8291f44cf90b",
   "metadata": {},
   "outputs": [
    {
     "data": {
      "text/plain": [
       "([1, 2, 3, 4, 8], [1, 2, 3, 4, 8])"
      ]
     },
     "execution_count": 177,
     "metadata": {},
     "output_type": "execute_result"
    }
   ],
   "source": [
    "l1.append(8)\n",
    "l1,l2"
   ]
  },
  {
   "cell_type": "code",
   "execution_count": 179,
   "id": "94a150bd-cb42-4177-b285-1e4b278a6c68",
   "metadata": {},
   "outputs": [
    {
     "data": {
      "text/plain": [
       "(3222083909376, 3222083909376)"
      ]
     },
     "execution_count": 179,
     "metadata": {},
     "output_type": "execute_result"
    }
   ],
   "source": [
    "id(l1), id(l2)"
   ]
  },
  {
   "cell_type": "code",
   "execution_count": 167,
   "id": "42923391-c7bd-41b9-8305-7c38d8ac75b4",
   "metadata": {},
   "outputs": [
    {
     "data": {
      "text/plain": [
       "[1, 2, 3, 4, 8]"
      ]
     },
     "execution_count": 167,
     "metadata": {},
     "output_type": "execute_result"
    }
   ],
   "source": [
    "l1"
   ]
  },
  {
   "cell_type": "code",
   "execution_count": 181,
   "id": "205ec1c5-7f3d-43e7-a381-033dc529995f",
   "metadata": {},
   "outputs": [
    {
     "data": {
      "text/plain": [
       "([1, 2, 3, 4, 8], [1, 2, 3, 4, 8])"
      ]
     },
     "execution_count": 181,
     "metadata": {},
     "output_type": "execute_result"
    }
   ],
   "source": [
    "import copy\n",
    "l2 = copy.copy(l1)\n",
    "l1,l2"
   ]
  },
  {
   "cell_type": "code",
   "execution_count": 183,
   "id": "9095746c-072d-407b-9db9-5ebb1f5bc80e",
   "metadata": {},
   "outputs": [
    {
     "data": {
      "text/plain": [
       "([1, 2, 3, 4, 8, 9], [1, 2, 3, 4, 8])"
      ]
     },
     "execution_count": 183,
     "metadata": {},
     "output_type": "execute_result"
    }
   ],
   "source": [
    "l1.append(9)\n",
    "l1,l2"
   ]
  },
  {
   "cell_type": "code",
   "execution_count": 173,
   "id": "f90917d1-5c0a-42b7-a469-223171105c81",
   "metadata": {},
   "outputs": [
    {
     "data": {
      "text/plain": [
       "(3222083558336, 3222084030848)"
      ]
     },
     "execution_count": 173,
     "metadata": {},
     "output_type": "execute_result"
    }
   ],
   "source": [
    "id(l1), id(l2)"
   ]
  },
  {
   "cell_type": "code",
   "execution_count": 31,
   "id": "3dadd26a-9f18-4806-984f-140e4c1dd452",
   "metadata": {},
   "outputs": [
    {
     "name": "stdout",
     "output_type": "stream",
     "text": [
      "Original List: [[100, 2, 3], [4, 5, 6], [7, 8, 9]]\n",
      "Shallow Copied List: [[100, 2, 3], [4, 5, 6], [7, 8, 9]]\n"
     ]
    }
   ],
   "source": [
    "import copy\n",
    "# Original list\n",
    "original_list = [[1, 2, 3], [4, 5, 6], [7, 8, 9]]\n",
    "# Creating a shallow copy\n",
    "shallow_copied_list = copy.copy(original_list)\n",
    "# Modifying an element in the shallow copied list\n",
    "shallow_copied_list[0][0] = 100\n",
    "# Printing both lists\n",
    "print(\"Original List:\", original_list)\n",
    "print(\"Shallow Copied List:\", shallow_copied_list)"
   ]
  },
  {
   "cell_type": "code",
   "execution_count": 33,
   "id": "f4570b86-29c6-46dc-85df-f14353e845ee",
   "metadata": {},
   "outputs": [
    {
     "name": "stdout",
     "output_type": "stream",
     "text": [
      "Original List: [[1, 2, 3], [4, 5, 6], [7, 8, 9]]\n",
      "Deep Copied List: [[100, 2, 3], [4, 5, 6], [7, 8, 9]]\n"
     ]
    }
   ],
   "source": [
    "import copy\n",
    "# Original list\n",
    "original_list = [[1, 2, 3], [4, 5, 6], [7, 8, 9]]\n",
    "# Creating a deep copy\n",
    "deep_copied_list = copy.deepcopy(original_list)\n",
    "# Modifying an element in the deep copied list\n",
    "deep_copied_list[0][0] = 100\n",
    "# Printing both lists\n",
    "print(\"Original List:\", original_list)\n",
    "print(\"Deep Copied List:\", deep_copied_list)"
   ]
  },
  {
   "cell_type": "code",
   "execution_count": null,
   "id": "c4e41b32-1829-41c5-ad64-3b353b17693a",
   "metadata": {},
   "outputs": [],
   "source": []
  }
 ],
 "metadata": {
  "kernelspec": {
   "display_name": "Python [conda env:base] *",
   "language": "python",
   "name": "conda-base-py"
  },
  "language_info": {
   "codemirror_mode": {
    "name": "ipython",
    "version": 3
   },
   "file_extension": ".py",
   "mimetype": "text/x-python",
   "name": "python",
   "nbconvert_exporter": "python",
   "pygments_lexer": "ipython3",
   "version": "3.12.7"
  }
 },
 "nbformat": 4,
 "nbformat_minor": 5
}
