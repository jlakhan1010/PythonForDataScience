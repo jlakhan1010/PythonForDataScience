{
 "cells": [
  {
   "cell_type": "markdown",
   "id": "8b6a4453-f6e1-4ec6-b6fc-832c97f77999",
   "metadata": {},
   "source": [
    "#### Procedural Oriented Approach\n",
    "A computer program describes procedure of performing certain task by writing a series of instructions in a logical order. <br>\n",
    "Logic of a more complex program is broken down into smaller but **independent and reusable** blocks of statements called functions.<br>\n",
    "Every function is written in such a way that it can interface with other functions in the program. <br>\n",
    "Data belonging to a function can be easily shared with other in the form of arguments, and called function can return its result back to calling function.<br>\n",
    "\n",
    "#### Problems in Procedural Oriented Approach\n",
    "* Its **top-down approach** makes the program **difficult to maintain**.\n",
    "* It uses a **lot of global data items**, which is undesired. Too many global data items would **increase memory overhead**.\n",
    "* It gives **more importance to process** and **doesn't consider data of same importance** and takes it for granted. \n",
    "* **Data moves freely** across the program."
   ]
  },
  {
   "cell_type": "markdown",
   "id": "75bbd7e7-135a-4dfc-894d-85ace9cc736c",
   "metadata": {},
   "source": [
    "#### Object Oriented Approach\n",
    "Defined as a programming model that uses the concept of objects which refers to real-world entities with state and behavior.<br>\n",
    "\n",
    "In the real world, we deal with process objects, such as student, employee, invoice, car, etc. <br>\n",
    "Objects are not only data and not only functions, but combination of both. <br>\n",
    "Each real-world object has **attributes** and **behavior** associated with it.\n",
    "\n",
    "**Attributes**<br>\n",
    "Each attribute will have a value associated with it. Attribute is equivalent to data.<br>\n",
    "\n",
    "* Name, class, subjects, marks, etc., of student\n",
    "* Name, designation, department, salary, etc., of employee\n",
    "* Invoice number, customer, product code and name, price and quantity, etc., in an invoice\n",
    "* Registration number, owner, company, brand, horsepower, speed, etc., of car\n",
    "\n",
    "**Behavior**<br>\n",
    "Behavior is equivalent to function. <br>\n",
    "In real life, attributes and behavior are not independent of each other, rather they co-exist.<br>\n",
    "\n",
    "* Compute percentage of student's marks\n",
    "* Calculate incentives payable to employee\n",
    "* Apply GST to invoice value\n",
    "* Measure speed of car\n",
    "\n",
    "The most important feature of object-oriented approach is defining attributes and their functionality as a single unit called class.<br>\n",
    "It serves as a blueprint for all objects having similar attributes and behavior.<br>\n",
    "Object, on the other hand, is an instance of the class.<br>\n",
    "In OOP, class defines what are the attributes its object has, and how is its behavior. "
   ]
  },
  {
   "cell_type": "markdown",
   "id": "0ee2a768-8a07-44fc-8509-3740c0c93026",
   "metadata": {},
   "source": [
    "#### Principles of OOPs\n",
    "* Class\n",
    "* Object\n",
    "* Encapsulation\n",
    "* Inheritance\n",
    "* Polymorphism"
   ]
  },
  {
   "cell_type": "markdown",
   "id": "78599749-97e0-40d8-ab2f-6097811a22ba",
   "metadata": {},
   "source": [
    "## Class & Object\n",
    "A **class** is an **user-defined prototype** for an object that defines a set of attributes that characterize any object of the class. <br>\n",
    "\n",
    "An **object** refers to an **instance** of a certain class.<br>\n",
    "An object comprises both data members (class variables and instance variables) and methods.\n",
    "\n",
    "#### Creating Classes in Python\n",
    "class ClassName:\n",
    ">'Optional class documentation string'<br>\n",
    ">class_suite"
   ]
  },
  {
   "cell_type": "code",
   "execution_count": 5,
   "id": "7d475ad0-2d13-45a2-8e95-36c8e259ae79",
   "metadata": {},
   "outputs": [],
   "source": [
    "class Employee:\n",
    "   'Common base class for all employees'\n",
    "   empCount = 0\n",
    "\n",
    "   def __init__(self, name, salary):\n",
    "      self.name = name\n",
    "      self.salary = salary\n",
    "      Employee.empCount += 1\n",
    "   \n",
    "   def displayCount(self):\n",
    "     print(f\"Total Employee {Employee.empCount}\")\n",
    "\n",
    "   def displayEmployee(self):\n",
    "      print(f\"Name : {self.name} Salary: {self.salary}\")"
   ]
  },
  {
   "cell_type": "markdown",
   "id": "288c469c-2849-4b91-bea2-12786c773ada",
   "metadata": {},
   "source": [
    "The variable empCount is a **class variable** whose value is shared among all instances of a this class. <br>\n",
    "This can be accessed as Employee.empCount from inside the class or outside the class.\n",
    "\n",
    "The first method **\\_\\_init\\_\\_()** is a special method, which is called class **constructor** or **initialization method** that Python calls when you create a new instance of this class.\n",
    "\n",
    "You declare other class methods like normal functions with the exception that the **first argument** to each method is **self**. <br>\n",
    "Python adds the self argument to the list for you; you do not need to include it when you call the methods."
   ]
  },
  {
   "cell_type": "markdown",
   "id": "5e5951e5-66ad-4105-a2b8-da165819fb5d",
   "metadata": {},
   "source": [
    "#### Creating Objects of Classes in Python"
   ]
  },
  {
   "cell_type": "code",
   "execution_count": 9,
   "id": "0b38d6ca-0851-456a-90bf-8148ec07c807",
   "metadata": {},
   "outputs": [],
   "source": [
    "# This would create first object of Employee class\n",
    "emp1 = Employee(\"Zara\", 2000)\n",
    "# This would create second object of Employee class\n",
    "emp2 = Employee(\"Manni\", 5000)"
   ]
  },
  {
   "cell_type": "markdown",
   "id": "ca39cc29-4397-42c3-a99e-4091e244f757",
   "metadata": {},
   "source": [
    "#### Accessing Attributes of Objects in Python\n"
   ]
  },
  {
   "cell_type": "code",
   "execution_count": 12,
   "id": "be8a7d04-188d-44eb-9c5f-d8ec1f20c84b",
   "metadata": {},
   "outputs": [
    {
     "name": "stdout",
     "output_type": "stream",
     "text": [
      "Name : Zara Salary: 2000\n",
      "Name : Manni Salary: 5000\n",
      "Total Employee 2\n"
     ]
    }
   ],
   "source": [
    "emp1.displayEmployee()\n",
    "emp2.displayEmployee()\n",
    "print (\"Total Employee %d\" % Employee.empCount)"
   ]
  },
  {
   "cell_type": "code",
   "execution_count": 14,
   "id": "9be0da55-a071-4265-a714-fbfc5fa4ffbc",
   "metadata": {},
   "outputs": [
    {
     "name": "stdout",
     "output_type": "stream",
     "text": [
      "Name :  Zara , Salary:  2000\n",
      "Name :  Manni , Salary:  5000\n",
      "Total Employee 2\n",
      "Total Employee 2\n",
      "Total Employee 2\n"
     ]
    }
   ],
   "source": [
    "class Employee:\n",
    "   \"Common base class for all employees\"\n",
    "   empCount = 0\n",
    "\n",
    "   def __init__(self, name, salary):\n",
    "      self.name = name\n",
    "      self.salary = salary\n",
    "      Employee.empCount += 1\n",
    "   \n",
    "   def displayCount(self):\n",
    "     print (\"Total Employee %d\" % Employee.empCount)\n",
    "\n",
    "   def displayEmployee(self):\n",
    "      print (\"Name : \", self.name,  \", Salary: \", self.salary)\n",
    "\n",
    "# This would create first object of Employee class\n",
    "emp1 = Employee(\"Zara\", 2000)\n",
    "# This would create second object of Employee class\n",
    "emp2 = Employee(\"Manni\", 5000)\n",
    "emp1.displayEmployee()\n",
    "emp2.displayEmployee()\n",
    "print (\"Total Employee %d\" % Employee.empCount)\n",
    "print (\"Total Employee %d\" % emp1.empCount)\n",
    "print (\"Total Employee %d\" % emp2.empCount)"
   ]
  },
  {
   "cell_type": "markdown",
   "id": "58aeec38-3950-45d2-95b7-8cdf687a98df",
   "metadata": {},
   "source": [
    "#### Class Attributes (Variables)\n",
    "* Class attributes are variables that belong to a class and whose value is shared among all the instances of that class. <br>\n",
    "* A class attribute remains the same for every instance of the class.<br>\n",
    "* Class attributes are defined in the class but outside any method.<br>\n",
    "* They cannot be initialized inside \\_\\_init\\_\\_() constructor.<br>\n",
    "* They can be accessed by the name of the class in addition to the object.<br>\n",
    "* In other words, a class attribute is available to the class as well as its object.<br>\n",
    "\n",
    "#### Significance of Class Attributes\n",
    "* They are used to define those properties of a class that should have the same value for every object of that class.\n",
    "* Class attributes can be used to set default values for objects.\n",
    "* This is also useful in creating singletons. They are objects that are instantiated only once and used in different parts of the code.\n",
    "#### Built-In Class Attributes in Python\n",
    "* **\\_\\_dict\\_\\_** Dictionary containing the class's namespace.\n",
    "* **\\_\\_doc\\_\\_** Class documentation string or none, if undefined.\n",
    "* **\\_\\_name\\_\\_** Class name\n",
    "* **\\_\\_module\\_\\_** Module name in which the class is defined. This attribute is \"\\_\\_main\\_\\_\" in interactive mode.\n",
    "* **\\_\\_bases\\_\\_** A possibly empty tuple containing the base classes, in the order of their occurrence in the base class list."
   ]
  },
  {
   "cell_type": "code",
   "execution_count": null,
   "id": "bee085fd-77ef-4721-831a-3cea1ab6acfc",
   "metadata": {},
   "outputs": [],
   "source": []
  },
  {
   "cell_type": "code",
   "execution_count": 18,
   "id": "fe232274-1548-4939-91fb-d2b27442e137",
   "metadata": {},
   "outputs": [
    {
     "name": "stdout",
     "output_type": "stream",
     "text": [
      "Employee.__doc__: Common base class for all employees\n",
      "Employee.__name__: Employee\n",
      "Employee.__module__: __main__\n",
      "Employee.__bases__: (<class 'object'>,)\n",
      "Employee.__dict__: {'__module__': '__main__', '__doc__': 'Common base class for all employees', 'empCount': 2, '__init__': <function Employee.__init__ at 0x0000027A7F064E00>, 'displayCount': <function Employee.displayCount at 0x0000027A7F064EA0>, 'displayEmployee': <function Employee.displayEmployee at 0x0000027A7F064F40>, '__dict__': <attribute '__dict__' of 'Employee' objects>, '__weakref__': <attribute '__weakref__' of 'Employee' objects>}\n"
     ]
    }
   ],
   "source": [
    "print (\"Employee.__doc__:\", Employee.__doc__)\n",
    "print (\"Employee.__name__:\", Employee.__name__)\n",
    "print (\"Employee.__module__:\", Employee.__module__)\n",
    "print (\"Employee.__bases__:\", Employee.__bases__)\n",
    "print (\"Employee.__dict__:\", Employee.__dict__)"
   ]
  },
  {
   "cell_type": "markdown",
   "id": "36a5a9b4-34ff-4ceb-8128-956590f31a9b",
   "metadata": {},
   "source": [
    "#### Instance Attributes\n",
    "* As stated earlier, an instance attribute in Python is a **variable that is specific to an individual object** of a class. \n",
    "* It is **defined inside the \\_\\_init\\_\\_()** method.\n",
    "* The **first parameter** of this method is **self** and using this parameter the instance attributes are defined."
   ]
  },
  {
   "cell_type": "markdown",
   "id": "a3bcb263-03e5-4d30-9d64-de65fb1a2f54",
   "metadata": {},
   "source": [
    "#### Built-in Class of Python datatypes\n",
    "* Entities like strings, lists and data types belongs to one or another built-in class\n",
    "* If we want to see which data type belongs to which built-in class, we can use the Python type() function.\n",
    "  "
   ]
  },
  {
   "cell_type": "code",
   "execution_count": 22,
   "id": "2c224d52-72f6-40d7-9f38-3c4073bcb00a",
   "metadata": {},
   "outputs": [
    {
     "name": "stdout",
     "output_type": "stream",
     "text": [
      "<class 'int'>\n",
      "<class 'float'>\n",
      "<class 'str'>\n",
      "<class 'list'>\n",
      "<class 'tuple'>\n",
      "<class 'set'>\n",
      "<class 'dict'>\n"
     ]
    }
   ],
   "source": [
    "print(type(1))\n",
    "print(type(1.2))\n",
    "print(type(\"asd\"))\n",
    "print(type([1,2,3]))\n",
    "print(type((1,2,3)))\n",
    "print(type({1,2,3}))\n",
    "print(type({1:\"one\", 2: \"Two\", 3:\"Three\"}))\n"
   ]
  },
  {
   "cell_type": "code",
   "execution_count": null,
   "id": "a45b5f63-49c1-48e1-bacf-9162b33152b2",
   "metadata": {},
   "outputs": [],
   "source": []
  },
  {
   "cell_type": "markdown",
   "id": "2889d396-5383-4b27-8b1c-b3c478fb1393",
   "metadata": {},
   "source": [
    "#### Data Hiding in Python\n",
    "* An object's attributes may or may not be visible outside the class definition.\n",
    "* You need to name attributes with a double underscore prefix, and those attributes then are not be directly visible to outsiders."
   ]
  },
  {
   "cell_type": "code",
   "execution_count": 26,
   "id": "4d1f6aae-1bdd-4be4-bbc8-c03e1e06a73e",
   "metadata": {},
   "outputs": [
    {
     "name": "stdout",
     "output_type": "stream",
     "text": [
      "1\n",
      "2\n"
     ]
    },
    {
     "ename": "AttributeError",
     "evalue": "'JustCounter' object has no attribute '__secretCount'",
     "output_type": "error",
     "traceback": [
      "\u001b[1;31m---------------------------------------------------------------------------\u001b[0m",
      "\u001b[1;31mAttributeError\u001b[0m                            Traceback (most recent call last)",
      "Cell \u001b[1;32mIn[26], line 11\u001b[0m\n\u001b[0;32m      9\u001b[0m counter\u001b[38;5;241m.\u001b[39mcount()\n\u001b[0;32m     10\u001b[0m counter\u001b[38;5;241m.\u001b[39mcount()\n\u001b[1;32m---> 11\u001b[0m \u001b[38;5;28mprint\u001b[39m(counter\u001b[38;5;241m.\u001b[39m__secretCount)\n",
      "\u001b[1;31mAttributeError\u001b[0m: 'JustCounter' object has no attribute '__secretCount'"
     ]
    }
   ],
   "source": [
    "class JustCounter:\n",
    "   __secretCount = 0\n",
    "  \n",
    "   def count(self):\n",
    "      self.__secretCount += 1\n",
    "      print(self.__secretCount)\n",
    "\n",
    "counter = JustCounter()\n",
    "counter.count()\n",
    "counter.count()\n",
    "print(counter.__secretCount)"
   ]
  },
  {
   "cell_type": "code",
   "execution_count": null,
   "id": "f4f29bad-3158-4dda-b68c-799ddac43392",
   "metadata": {},
   "outputs": [],
   "source": []
  },
  {
   "cell_type": "markdown",
   "id": "5f08c88f-7492-4bd3-b38a-62ab4babb34b",
   "metadata": {},
   "source": [
    "### Python - Class Methods\n",
    "Methods belongs to an object of a class and used to perform specific operations. <br>\n",
    "**Three types of methods**<br> \n",
    "* Class method\n",
    "* Instance method\n",
    "* Static method.\n",
    "\n",
    "\n",
    "A Python **class method** is a method that is bound to the class and not to the instance of the class. <br>\n",
    "It can be called on the class itself, rather than on an instance of the class.<br>\n",
    "\n",
    "Class methods and static methods are different. <br>\n",
    "**Both** are **called on the class**, static methods don't have access to the \"cls\" parameter and therefore it cannot modify the class state.<br>\n",
    "\n",
    "Unlike class method, the instance method can access the instance variables of the an object. <br>\n",
    "It can also access the class variable as it is common to all the objects."
   ]
  },
  {
   "cell_type": "markdown",
   "id": "d87306cc-be24-46c0-a40d-11efdaf2403e",
   "metadata": {},
   "source": [
    "#### Creating Class Methods in Python\n",
    "**Two ways**\n",
    "* Using **classmethod()** Function\n",
    "* Using **@classmethod** Decorator"
   ]
  },
  {
   "cell_type": "markdown",
   "id": "9efa860a-4217-48a0-abb3-ed74b83d25eb",
   "metadata": {},
   "source": [
    "#### Using classmethod() Function\n",
    "Python has a built-in function classmethod() which transforms an instance method to a class method.<br>\n",
    "which can be called with the reference to the class only and not the object.\n",
    "\n",
    "**Syntax**\n",
    "classmethod(instance_method)"
   ]
  },
  {
   "cell_type": "code",
   "execution_count": 32,
   "id": "44fa97c5-5df5-46b7-af89-16a8e9c86f9c",
   "metadata": {},
   "outputs": [
    {
     "name": "stdout",
     "output_type": "stream",
     "text": [
      "3\n",
      "3\n",
      "3\n"
     ]
    }
   ],
   "source": [
    "class Employee:\n",
    "   empCount = 0\n",
    "   def __init__(self, name, age):\n",
    "      self.__name = name\n",
    "      self.__age = age\n",
    "      Employee.empCount += 1\n",
    "   def showcount(self):\n",
    "      print (self.empCount)\n",
    "      \n",
    "   counter = classmethod(showcount)\n",
    "\n",
    "e1 = Employee(\"Bhavana\", 24)\n",
    "e2 = Employee(\"Rajesh\", 26)\n",
    "e3 = Employee(\"John\", 27)\n",
    "\n",
    "e1.showcount()\n",
    "Employee.counter()\n",
    "e1.counter()"
   ]
  },
  {
   "cell_type": "markdown",
   "id": "649ce76b-8b76-4561-abba-14d921a446ca",
   "metadata": {},
   "source": [
    "#### Using @classmethod Decorator\n",
    "Use of @classmethod() decorator is the prescribed way to define a class method as it is more convenient than first declaring an instance method and then transforming it into a class method.\n",
    "\n",
    "#### Access Class Attributes in Class Method\n",
    "Class attributes are those variables that belong to a class and whose value is shared among all the instances of that class.\n",
    "\n",
    "To access class attributes within a class method, use the cls parameter followed by dot (.) notation and name of the attribute.\n",
    "\n",
    "**Syntax**<br>\n",
    "@classmethod <br>\n",
    "def method_name():\n",
    "> your code"
   ]
  },
  {
   "cell_type": "code",
   "execution_count": 35,
   "id": "beb1d503-90f5-4034-8398-d66564a7da6d",
   "metadata": {},
   "outputs": [
    {
     "name": "stdout",
     "output_type": "stream",
     "text": [
      "4\n"
     ]
    }
   ],
   "source": [
    "class Employee:\n",
    "    empCount = 0  # Class attribute\n",
    "    def __init__(self, name, age):  # Constructor\n",
    "        self.name = name\n",
    "        self.age = age\n",
    "        Employee.empCount += 1\n",
    "\n",
    "    @classmethod\n",
    "    def showcount(cls):\n",
    "        print (cls.empCount)\n",
    "\n",
    "    @classmethod\n",
    "    def newemployee(cls, name, age):  # Decorator\n",
    "        return cls(name, age)\n",
    "\n",
    "e1 = Employee(\"Bhavana\", 24)\n",
    "e2 = Employee(\"Rajesh\", 26)\n",
    "e3 = Employee(\"John\", 27)\n",
    "e4 = Employee.newemployee(\"Anil\", 21)\n",
    "\n",
    "Employee.showcount()"
   ]
  },
  {
   "cell_type": "markdown",
   "id": "f0a2ffcb-f3bd-45d3-8924-40c2be96ba44",
   "metadata": {},
   "source": [
    "### Static Method\n",
    "Static method is a type of method that does not require any instance to be called. <br>\n",
    "It is **very similar to the class method** but the **difference is** that the static method **doesn't have a mandatory argument** like reference to the object − **self** or reference to the class − **cls**.\n",
    "\n",
    "Static methods are used to access static fields of a given class. They cannot modify the state of a class since they are bound to the class, not instance."
   ]
  },
  {
   "cell_type": "markdown",
   "id": "89a27981-ee05-42b0-b522-398d60008e2b",
   "metadata": {},
   "source": [
    "#### Create Static Method in Python\n",
    "**Two ways**\n",
    "* Using staticmethod() Function\n",
    "* Using @staticmethod Decorator"
   ]
  },
  {
   "cell_type": "markdown",
   "id": "ee0009ff-a1f7-4226-b75d-48b2c5628863",
   "metadata": {},
   "source": [
    "#### Using staticmethod() Function\n",
    "Python's standard library function named staticmethod() is used to create a static method. <br>\n",
    "It accepts a method as an argument and converts it into a static method.\n",
    "\n",
    "**Syntax**\n",
    "staticmethod(method)\n"
   ]
  },
  {
   "cell_type": "code",
   "execution_count": 40,
   "id": "78e79fbb-9504-454d-b9d8-55b16ec58624",
   "metadata": {},
   "outputs": [
    {
     "name": "stdout",
     "output_type": "stream",
     "text": [
      "3\n",
      "3\n"
     ]
    }
   ],
   "source": [
    "class Employee:\n",
    "   empCount = 0\n",
    "   def __init__(self, name, age):\n",
    "      self.__name = name\n",
    "      self.__age = age\n",
    "      Employee.empCount += 1\n",
    "   \n",
    "   # creating staticmethod\n",
    "   def showcount():\n",
    "      print (Employee.empCount)\n",
    "      return\n",
    "   counter = staticmethod(showcount)\n",
    "\n",
    "e1 = Employee(\"Bhavana\", 24)\n",
    "e2 = Employee(\"Rajesh\", 26)\n",
    "e3 = Employee(\"John\", 27)\n",
    "\n",
    "e1.counter()\n",
    "Employee.counter()"
   ]
  },
  {
   "cell_type": "markdown",
   "id": "fb6d3ba7-6684-4efa-9937-2844cf451d12",
   "metadata": {},
   "source": [
    "#### Using @staticmethod Decorator\n",
    "The second way to create a static method is by using the Python @staticmethod decorator. <br>\n",
    "When we use this decorator with a method it indicates to the Interpreter that the specified method is static.\n",
    "\n",
    "**Syntax**<br>\n",
    "@staticmethod<br>\n",
    "def method_name():\n",
    ">your code\n"
   ]
  },
  {
   "cell_type": "code",
   "execution_count": 43,
   "id": "2d8d8c14-102a-4536-8e6e-fde29362077e",
   "metadata": {},
   "outputs": [
    {
     "name": "stdout",
     "output_type": "stream",
     "text": [
      "Number of Students:\n",
      "3\n"
     ]
    }
   ],
   "source": [
    "class Student:\n",
    "   stdCount = 0\n",
    "   def __init__(self, name, age):\n",
    "      self.__name = name\n",
    "      self.__age = age\n",
    "      Student.stdCount += 1\n",
    "   \n",
    "   # creating staticmethod\n",
    "   @staticmethod\n",
    "   def showcount():\n",
    "      print (Student.stdCount)\n",
    "\n",
    "e1 = Student(\"Bhavana\", 24)\n",
    "e2 = Student(\"Rajesh\", 26)\n",
    "e3 = Student(\"John\", 27)\n",
    "\n",
    "print(\"Number of Students:\")\n",
    "Student.showcount()"
   ]
  },
  {
   "cell_type": "code",
   "execution_count": null,
   "id": "3653e143-7003-4fd0-a933-8dcffe395a2c",
   "metadata": {},
   "outputs": [],
   "source": []
  },
  {
   "cell_type": "markdown",
   "id": "30357114-948d-474a-ac2e-c979b9c32d11",
   "metadata": {},
   "source": [
    "#### Advantages of Static Method\n",
    "* Since a static method cannot access class attributes, it can be used as a utility function to perform frequently re-used tasks.\n",
    "* We can invoke this method using the class name. Hence, it eliminates the dependency on the instances.\n",
    "* A static method is always predictable as its behavior remain unchanged regardless of the class state.\n",
    "* We can declare a method as a static method to prevent overriding."
   ]
  },
  {
   "cell_type": "code",
   "execution_count": null,
   "id": "d25351fe-c621-47b4-ab6a-7377231106c2",
   "metadata": {},
   "outputs": [],
   "source": []
  },
  {
   "cell_type": "code",
   "execution_count": null,
   "id": "e6e1784b-046d-49b6-81e2-b3a47ec80f8c",
   "metadata": {},
   "outputs": [],
   "source": []
  },
  {
   "cell_type": "markdown",
   "id": "2f32a841-2d14-4ea1-9178-7a082d00f8f3",
   "metadata": {},
   "source": [
    "## Constructors\n",
    "* Python constructor is an **instance method** in a class, that is **automatically called** whenever a **new object** of the class is created.\n",
    "* The constructor's **role** is to **assign value** to **instance variables** as soon as the object is declared.\n",
    "* Python uses a special method called **\\_\\_init\\_\\_()** to initialize the instance variables for the object, as soon as it is declared.\n",
    "\n",
    "#### Types of Constructor in Python\n",
    "* Default Constructor\n",
    "* Parameterized Constructor\n",
    "\n",
    "\n",
    "Unlike other programming languages like C++ and Java, **Python does not allow multiple constructors**.<br>\n",
    "If you try to create multiple constructors, Python will not throw an error.<br>\n",
    "But it will only consider the last \\_\\_init\\_\\_() method in your class. Its previous definition will be overridden by the last one."
   ]
  },
  {
   "cell_type": "code",
   "execution_count": null,
   "id": "4094bd6c-87ed-40e5-8813-92aff75b9436",
   "metadata": {},
   "outputs": [],
   "source": []
  },
  {
   "cell_type": "code",
   "execution_count": null,
   "id": "46fae8f0-4e30-437f-9f5a-aba708a2744e",
   "metadata": {},
   "outputs": [],
   "source": []
  },
  {
   "cell_type": "markdown",
   "id": "9b1040fc-b201-4075-a355-9effaedf4ac6",
   "metadata": {},
   "source": [
    "## Python - Access Modifiers\n",
    "The **Python access modifiers** are used to restrict access to class members (i.e., variables and methods) from outside the class. <br>\n",
    "There are **three types** of access modifiers namely **public, protected, and private**.\n",
    "\n",
    "* **Public members −** A class member is said to be public if it can be accessed from anywhere in the program.<br>\n",
    "* **Protected members −** They are accessible from within the class as well as by classes derived from that class.<br>\n",
    "* **Private members −** They can be accessed from within the class only.\n",
    "\n",
    "To indicate that an instance variable is **private**, prefix it with **double underscore** (such as \"\\_\\_age\").<br>\n",
    "To imply that a certain instance variable is **protected**, prefix it with **single underscore** (such as \"\\_salary\")."
   ]
  },
  {
   "cell_type": "code",
   "execution_count": 53,
   "id": "cf7c099b-e279-460f-bc80-5225d8b96faa",
   "metadata": {},
   "outputs": [
    {
     "name": "stdout",
     "output_type": "stream",
     "text": [
      "Bhavana\n",
      "10000\n"
     ]
    }
   ],
   "source": [
    "class Employee:\n",
    "   def __init__(self, name, age, salary):\n",
    "      self.name = name # public variable\n",
    "      self.__age = age # private variable\n",
    "      self._salary = salary # protected variable\n",
    "   def displayEmployee(self):\n",
    "      print (\"Name : \", self.name, \", age: \", self.__age, \", salary: \", self._salary)\n",
    "\n",
    "e1=Employee(\"Bhavana\", 24, 10000)\n",
    "\n",
    "print (e1.name)\n",
    "print (e1._salary)\n",
    "# print (e1.__age)"
   ]
  },
  {
   "cell_type": "code",
   "execution_count": 55,
   "id": "27e046ef-f3a9-4e15-8b2a-e105f918aa33",
   "metadata": {},
   "outputs": [
    {
     "ename": "AttributeError",
     "evalue": "'Employee' object has no attribute '__age'",
     "output_type": "error",
     "traceback": [
      "\u001b[1;31m---------------------------------------------------------------------------\u001b[0m",
      "\u001b[1;31mAttributeError\u001b[0m                            Traceback (most recent call last)",
      "Cell \u001b[1;32mIn[55], line 1\u001b[0m\n\u001b[1;32m----> 1\u001b[0m \u001b[38;5;28mprint\u001b[39m (e1\u001b[38;5;241m.\u001b[39m__age)\n",
      "\u001b[1;31mAttributeError\u001b[0m: 'Employee' object has no attribute '__age'"
     ]
    }
   ],
   "source": [
    "print (e1.__age)"
   ]
  },
  {
   "cell_type": "markdown",
   "id": "9ec00da8-50f1-4a78-90d4-17493730a113",
   "metadata": {},
   "source": [
    "#### Name Mangling\n",
    "Python doesn't block access to private data, it just leaves for the wisdom of the programmer, not to write any code that access it from outside the class.<br>\n",
    "You can still access the private members by Python's name mangling technique.<br>\n",
    "Name mangling is the process of changing name of a member with double underscore to the form **object._class__variable**. If so required, it can still be accessed from outside the class, but the practice should be refrained.\n"
   ]
  },
  {
   "cell_type": "code",
   "execution_count": 58,
   "id": "e406c311-1671-4194-804a-962bb8fd8887",
   "metadata": {},
   "outputs": [
    {
     "name": "stdout",
     "output_type": "stream",
     "text": [
      "24\n"
     ]
    }
   ],
   "source": [
    "print (e1._Employee__age)"
   ]
  },
  {
   "cell_type": "markdown",
   "id": "9c364065-cf93-4678-a318-ddbc282f961e",
   "metadata": {},
   "source": [
    "## Inheritance\n",
    "It is used to inherit the properties and behaviours of one class to another. <br>\n",
    "The class that inherits another class is called a **child class** and the class that gets inherited is called a **base class or parent class**.<br>\n",
    "\n",
    "If you have to design a new class whose most of the attributes are already well defined in an existing class, then why redefine them? <br>\n",
    "Inheritance allows capabilities of existing class to be reused and if required extended to design a new class.\n",
    "\n",
    "Inheritance comes into picture when a new class possesses 'IS A' relationship with an existing class. <br>\n",
    "For example, Employee IS a Person, Bus IS a vehicle, Bike IS also a vehicle.<br>\n",
    "Here, Vehicle is the parent class, whereas car, bus and bike are the child classes.<br>\n",
    "Person is parent class, Employee is Child class\n",
    "\n",
    "\n",
    "#### Types of Inheritance\n",
    "* Single Inheritance\n",
    "* Multiple Inheritance\n",
    "* Multilevel Inheritance\n",
    "* Hierarchical Inheritance\n",
    "* Hybrid Inheritance\n",
    "\n",
    "\n",
    "#### Single Inheritance\n"
   ]
  },
  {
   "cell_type": "code",
   "execution_count": 61,
   "id": "15588b46-a847-4f10-98a7-6b4be612a8d8",
   "metadata": {},
   "outputs": [
    {
     "name": "stdout",
     "output_type": "stream",
     "text": [
      "Calling child method\n",
      "Calling parent method\n"
     ]
    }
   ],
   "source": [
    "# parent class\n",
    "class Parent: \n",
    "   def parentMethod(self):\n",
    "      print (\"Calling parent method\")\n",
    "\n",
    "# child class\n",
    "class Child(Parent): \n",
    "   def childMethod(self):\n",
    "      print (\"Calling child method\")\n",
    "\n",
    "# instance of child\n",
    "c = Child()  \n",
    "# calling method of child class\n",
    "c.childMethod() \n",
    "# calling method of parent class\n",
    "c.parentMethod() "
   ]
  },
  {
   "cell_type": "code",
   "execution_count": null,
   "id": "f0b7b890-da60-4d63-a5f3-69470bc5b1b7",
   "metadata": {},
   "outputs": [],
   "source": []
  }
 ],
 "metadata": {
  "kernelspec": {
   "display_name": "Python [conda env:base] *",
   "language": "python",
   "name": "conda-base-py"
  },
  "language_info": {
   "codemirror_mode": {
    "name": "ipython",
    "version": 3
   },
   "file_extension": ".py",
   "mimetype": "text/x-python",
   "name": "python",
   "nbconvert_exporter": "python",
   "pygments_lexer": "ipython3",
   "version": "3.12.7"
  }
 },
 "nbformat": 4,
 "nbformat_minor": 5
}
