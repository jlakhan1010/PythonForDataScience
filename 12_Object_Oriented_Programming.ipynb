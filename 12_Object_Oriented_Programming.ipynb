{
 "cells": [
  {
   "cell_type": "markdown",
   "id": "8b6a4453-f6e1-4ec6-b6fc-832c97f77999",
   "metadata": {},
   "source": [
    "#### Procedural Oriented Approach\n",
    "A computer program describes procedure of performing certain task by writing a series of instructions in a logical order. <br>\n",
    "Logic of a more complex program is broken down into smaller but **independent and reusable** blocks of statements called functions.<br>\n",
    "Every function is written in such a way that it can interface with other functions in the program. <br>\n",
    "Data belonging to a function can be easily shared with other in the form of arguments, and called function can return its result back to calling function.<br>\n",
    "\n",
    "#### Problems in Procedural Oriented Approach\n",
    "* Its **top-down approach** makes the program **difficult to maintain**.\n",
    "* It uses a **lot of global data items**, which is undesired. Too many global data items would **increase memory overhead**.\n",
    "* It gives **more importance to process** and **doesn't consider data of same importance** and takes it for granted. \n",
    "* **Data moves freely** across the program."
   ]
  },
  {
   "cell_type": "markdown",
   "id": "75bbd7e7-135a-4dfc-894d-85ace9cc736c",
   "metadata": {},
   "source": [
    "#### Object Oriented Approach\n",
    "Defined as a programming model that uses the concept of objects which refers to real-world entities with state and behavior.<br>\n",
    "\n",
    "In the real world, we deal with process objects, such as student, employee, invoice, car, etc. <br>\n",
    "Objects are not only data and not only functions, but combination of both. <br>\n",
    "Each real-world object has **attributes** and **behavior** associated with it.\n",
    "\n",
    "**Attributes**<br>\n",
    "Each attribute will have a value associated with it. Attribute is equivalent to data.<br>\n",
    "\n",
    "* Name, class, subjects, marks, etc., of student\n",
    "* Name, designation, department, salary, etc., of employee\n",
    "* Invoice number, customer, product code and name, price and quantity, etc., in an invoice\n",
    "* Registration number, owner, company, brand, horsepower, speed, etc., of car\n",
    "\n",
    "**Behavior**<br>\n",
    "Behavior is equivalent to function. <br>\n",
    "In real life, attributes and behavior are not independent of each other, rather they co-exist.<br>\n",
    "\n",
    "* Compute percentage of student's marks\n",
    "* Calculate incentives payable to employee\n",
    "* Apply GST to invoice value\n",
    "* Measure speed of car\n",
    "\n",
    "The most important feature of object-oriented approach is defining attributes and their functionality as a single unit called class.<br>\n",
    "It serves as a blueprint for all objects having similar attributes and behavior.<br>\n",
    "Object, on the other hand, is an instance of the class.<br>\n",
    "In OOP, class defines what are the attributes its object has, and how is its behavior. "
   ]
  },
  {
   "cell_type": "markdown",
   "id": "0ee2a768-8a07-44fc-8509-3740c0c93026",
   "metadata": {},
   "source": [
    "#### Principles of OOPs\n",
    "* Class\n",
    "* Object\n",
    "* Encapsulation\n",
    "* Inheritance\n",
    "* Polymorphism"
   ]
  },
  {
   "cell_type": "markdown",
   "id": "78599749-97e0-40d8-ab2f-6097811a22ba",
   "metadata": {},
   "source": [
    "## Class & Object\n",
    "A **class** is an **user-defined prototype** for an object that defines a set of attributes that characterize any object of the class. <br>\n",
    "\n",
    "An **object** refers to an **instance** of a certain class.<br>\n",
    "An object comprises both data members (class variables and instance variables) and methods.\n",
    "\n",
    "#### Creating Classes in Python\n",
    "class ClassName:\n",
    ">'Optional class documentation string'<br>\n",
    ">class_suite"
   ]
  },
  {
   "cell_type": "code",
   "execution_count": 5,
   "id": "7d475ad0-2d13-45a2-8e95-36c8e259ae79",
   "metadata": {},
   "outputs": [],
   "source": [
    "class Employee:\n",
    "   'Common base class for all employees'\n",
    "   empCount = 0\n",
    "\n",
    "   def __init__(self, name, salary):\n",
    "      self.name = name\n",
    "      self.salary = salary\n",
    "      Employee.empCount += 1\n",
    "   \n",
    "   def displayCount(self):\n",
    "     print(f\"Total Employee {Employee.empCount}\")\n",
    "\n",
    "   def displayEmployee(self):\n",
    "      print(f\"Name : {self.name} Salary: {self.salary}\")"
   ]
  },
  {
   "cell_type": "markdown",
   "id": "288c469c-2849-4b91-bea2-12786c773ada",
   "metadata": {},
   "source": [
    "The variable empCount is a **class variable** whose value is shared among all instances of a this class. <br>\n",
    "This can be accessed as Employee.empCount from inside the class or outside the class.\n",
    "\n",
    "The first method **\\_\\_init\\_\\_()** is a special method, which is called class **constructor** or **initialization method** that Python calls when you create a new instance of this class.\n",
    "\n",
    "You declare other class methods like normal functions with the exception that the **first argument** to each method is **self**. <br>\n",
    "Python adds the self argument to the list for you; you do not need to include it when you call the methods."
   ]
  },
  {
   "cell_type": "markdown",
   "id": "5e5951e5-66ad-4105-a2b8-da165819fb5d",
   "metadata": {},
   "source": [
    "#### Creating Objects of Classes in Python"
   ]
  },
  {
   "cell_type": "code",
   "execution_count": 9,
   "id": "0b38d6ca-0851-456a-90bf-8148ec07c807",
   "metadata": {},
   "outputs": [],
   "source": [
    "# This would create first object of Employee class\n",
    "emp1 = Employee(\"Zara\", 2000)\n",
    "# This would create second object of Employee class\n",
    "emp2 = Employee(\"Manni\", 5000)"
   ]
  },
  {
   "cell_type": "markdown",
   "id": "ca39cc29-4397-42c3-a99e-4091e244f757",
   "metadata": {},
   "source": [
    "#### Accessing Attributes of Objects in Python\n"
   ]
  },
  {
   "cell_type": "code",
   "execution_count": 12,
   "id": "be8a7d04-188d-44eb-9c5f-d8ec1f20c84b",
   "metadata": {},
   "outputs": [
    {
     "name": "stdout",
     "output_type": "stream",
     "text": [
      "Name : Zara Salary: 2000\n",
      "Name : Manni Salary: 5000\n",
      "Total Employee 2\n"
     ]
    }
   ],
   "source": [
    "emp1.displayEmployee()\n",
    "emp2.displayEmployee()\n",
    "print (\"Total Employee %d\" % Employee.empCount)"
   ]
  },
  {
   "cell_type": "code",
   "execution_count": 14,
   "id": "9be0da55-a071-4265-a714-fbfc5fa4ffbc",
   "metadata": {},
   "outputs": [
    {
     "name": "stdout",
     "output_type": "stream",
     "text": [
      "Name :  Zara , Salary:  2000\n",
      "Name :  Manni , Salary:  5000\n",
      "Total Employee 2\n",
      "Total Employee 2\n",
      "Total Employee 2\n"
     ]
    }
   ],
   "source": [
    "class Employee:\n",
    "   \"Common base class for all employees\"\n",
    "   empCount = 0\n",
    "\n",
    "   def __init__(self, name, salary):\n",
    "      self.name = name\n",
    "      self.salary = salary\n",
    "      Employee.empCount += 1\n",
    "   \n",
    "   def displayCount(self):\n",
    "     print (\"Total Employee %d\" % Employee.empCount)\n",
    "\n",
    "   def displayEmployee(self):\n",
    "      print (\"Name : \", self.name,  \", Salary: \", self.salary)\n",
    "\n",
    "# This would create first object of Employee class\n",
    "emp1 = Employee(\"Zara\", 2000)\n",
    "# This would create second object of Employee class\n",
    "emp2 = Employee(\"Manni\", 5000)\n",
    "emp1.displayEmployee()\n",
    "emp2.displayEmployee()\n",
    "print (\"Total Employee %d\" % Employee.empCount)\n",
    "print (\"Total Employee %d\" % emp1.empCount)\n",
    "print (\"Total Employee %d\" % emp2.empCount)"
   ]
  },
  {
   "cell_type": "markdown",
   "id": "58aeec38-3950-45d2-95b7-8cdf687a98df",
   "metadata": {},
   "source": [
    "#### Class Attributes (Variables)\n",
    "* Class attributes are variables that belong to a class and whose value is shared among all the instances of that class. <br>\n",
    "* A class attribute remains the same for every instance of the class.<br>\n",
    "* Class attributes are defined in the class but outside any method.<br>\n",
    "* They cannot be initialized inside \\_\\_init\\_\\_() constructor.<br>\n",
    "* They can be accessed by the name of the class in addition to the object.<br>\n",
    "* In other words, a class attribute is available to the class as well as its object.<br>\n",
    "\n",
    "#### Significance of Class Attributes\n",
    "* They are used to define those properties of a class that should have the same value for every object of that class.\n",
    "* Class attributes can be used to set default values for objects.\n",
    "* This is also useful in creating singletons. They are objects that are instantiated only once and used in different parts of the code.\n",
    "#### Built-In Class Attributes in Python\n",
    "* **\\_\\_dict\\_\\_** Dictionary containing the class's namespace.\n",
    "* **\\_\\_doc\\_\\_** Class documentation string or none, if undefined.\n",
    "* **\\_\\_name\\_\\_** Class name\n",
    "* **\\_\\_module\\_\\_** Module name in which the class is defined. This attribute is \"\\_\\_main\\_\\_\" in interactive mode.\n",
    "* **\\_\\_bases\\_\\_** A possibly empty tuple containing the base classes, in the order of their occurrence in the base class list."
   ]
  },
  {
   "cell_type": "code",
   "execution_count": null,
   "id": "bee085fd-77ef-4721-831a-3cea1ab6acfc",
   "metadata": {},
   "outputs": [],
   "source": []
  },
  {
   "cell_type": "code",
   "execution_count": 18,
   "id": "fe232274-1548-4939-91fb-d2b27442e137",
   "metadata": {},
   "outputs": [
    {
     "name": "stdout",
     "output_type": "stream",
     "text": [
      "Employee.__doc__: Common base class for all employees\n",
      "Employee.__name__: Employee\n",
      "Employee.__module__: __main__\n",
      "Employee.__bases__: (<class 'object'>,)\n",
      "Employee.__dict__: {'__module__': '__main__', '__doc__': 'Common base class for all employees', 'empCount': 2, '__init__': <function Employee.__init__ at 0x0000027A7F064E00>, 'displayCount': <function Employee.displayCount at 0x0000027A7F064EA0>, 'displayEmployee': <function Employee.displayEmployee at 0x0000027A7F064F40>, '__dict__': <attribute '__dict__' of 'Employee' objects>, '__weakref__': <attribute '__weakref__' of 'Employee' objects>}\n"
     ]
    }
   ],
   "source": [
    "print (\"Employee.__doc__:\", Employee.__doc__)\n",
    "print (\"Employee.__name__:\", Employee.__name__)\n",
    "print (\"Employee.__module__:\", Employee.__module__)\n",
    "print (\"Employee.__bases__:\", Employee.__bases__)\n",
    "print (\"Employee.__dict__:\", Employee.__dict__)"
   ]
  },
  {
   "cell_type": "markdown",
   "id": "36a5a9b4-34ff-4ceb-8128-956590f31a9b",
   "metadata": {},
   "source": [
    "#### Instance Attributes\n",
    "* As stated earlier, an instance attribute in Python is a **variable that is specific to an individual object** of a class. \n",
    "* It is **defined inside the \\_\\_init\\_\\_()** method.\n",
    "* The **first parameter** of this method is **self** and using this parameter the instance attributes are defined."
   ]
  },
  {
   "cell_type": "markdown",
   "id": "a3bcb263-03e5-4d30-9d64-de65fb1a2f54",
   "metadata": {},
   "source": [
    "#### Built-in Class of Python datatypes\n",
    "* Entities like strings, lists and data types belongs to one or another built-in class\n",
    "* If we want to see which data type belongs to which built-in class, we can use the Python type() function.\n",
    "  "
   ]
  },
  {
   "cell_type": "code",
   "execution_count": 22,
   "id": "2c224d52-72f6-40d7-9f38-3c4073bcb00a",
   "metadata": {},
   "outputs": [
    {
     "name": "stdout",
     "output_type": "stream",
     "text": [
      "<class 'int'>\n",
      "<class 'float'>\n",
      "<class 'str'>\n",
      "<class 'list'>\n",
      "<class 'tuple'>\n",
      "<class 'set'>\n",
      "<class 'dict'>\n"
     ]
    }
   ],
   "source": [
    "print(type(1))\n",
    "print(type(1.2))\n",
    "print(type(\"asd\"))\n",
    "print(type([1,2,3]))\n",
    "print(type((1,2,3)))\n",
    "print(type({1,2,3}))\n",
    "print(type({1:\"one\", 2: \"Two\", 3:\"Three\"}))\n"
   ]
  },
  {
   "cell_type": "code",
   "execution_count": null,
   "id": "a45b5f63-49c1-48e1-bacf-9162b33152b2",
   "metadata": {},
   "outputs": [],
   "source": []
  },
  {
   "cell_type": "markdown",
   "id": "2889d396-5383-4b27-8b1c-b3c478fb1393",
   "metadata": {},
   "source": [
    "#### Data Hiding in Python\n",
    "* An object's attributes may or may not be visible outside the class definition.\n",
    "* You need to name attributes with a double underscore prefix, and those attributes then are not be directly visible to outsiders."
   ]
  },
  {
   "cell_type": "code",
   "execution_count": 26,
   "id": "4d1f6aae-1bdd-4be4-bbc8-c03e1e06a73e",
   "metadata": {},
   "outputs": [
    {
     "name": "stdout",
     "output_type": "stream",
     "text": [
      "1\n",
      "2\n"
     ]
    },
    {
     "ename": "AttributeError",
     "evalue": "'JustCounter' object has no attribute '__secretCount'",
     "output_type": "error",
     "traceback": [
      "\u001b[1;31m---------------------------------------------------------------------------\u001b[0m",
      "\u001b[1;31mAttributeError\u001b[0m                            Traceback (most recent call last)",
      "Cell \u001b[1;32mIn[26], line 11\u001b[0m\n\u001b[0;32m      9\u001b[0m counter\u001b[38;5;241m.\u001b[39mcount()\n\u001b[0;32m     10\u001b[0m counter\u001b[38;5;241m.\u001b[39mcount()\n\u001b[1;32m---> 11\u001b[0m \u001b[38;5;28mprint\u001b[39m(counter\u001b[38;5;241m.\u001b[39m__secretCount)\n",
      "\u001b[1;31mAttributeError\u001b[0m: 'JustCounter' object has no attribute '__secretCount'"
     ]
    }
   ],
   "source": [
    "class JustCounter:\n",
    "   __secretCount = 0\n",
    "  \n",
    "   def count(self):\n",
    "      self.__secretCount += 1\n",
    "      print(self.__secretCount)\n",
    "\n",
    "counter = JustCounter()\n",
    "counter.count()\n",
    "counter.count()\n",
    "print(counter.__secretCount)"
   ]
  },
  {
   "cell_type": "code",
   "execution_count": null,
   "id": "f4f29bad-3158-4dda-b68c-799ddac43392",
   "metadata": {},
   "outputs": [],
   "source": []
  },
  {
   "cell_type": "markdown",
   "id": "5f08c88f-7492-4bd3-b38a-62ab4babb34b",
   "metadata": {},
   "source": [
    "### Python - Class Methods\n",
    "Methods belongs to an object of a class and used to perform specific operations. <br>\n",
    "**Three types of methods**<br> \n",
    "* Class method\n",
    "* Instance method\n",
    "* Static method.\n",
    "\n",
    "\n",
    "A Python **class method** is a method that is bound to the class and not to the instance of the class. <br>\n",
    "It can be called on the class itself, rather than on an instance of the class.<br>\n",
    "\n",
    "Class methods and static methods are different. <br>\n",
    "**Both** are **called on the class**, static methods don't have access to the \"cls\" parameter and therefore it cannot modify the class state.<br>\n",
    "\n",
    "Unlike class method, the instance method can access the instance variables of the an object. <br>\n",
    "It can also access the class variable as it is common to all the objects."
   ]
  },
  {
   "cell_type": "markdown",
   "id": "d87306cc-be24-46c0-a40d-11efdaf2403e",
   "metadata": {},
   "source": [
    "#### Creating Class Methods in Python\n",
    "**Two ways**\n",
    "* Using **classmethod()** Function\n",
    "* Using **@classmethod** Decorator"
   ]
  },
  {
   "cell_type": "markdown",
   "id": "9efa860a-4217-48a0-abb3-ed74b83d25eb",
   "metadata": {},
   "source": [
    "#### Using classmethod() Function\n",
    "Python has a built-in function classmethod() which transforms an instance method to a class method.<br>\n",
    "which can be called with the reference to the class only and not the object.\n",
    "\n",
    "**Syntax**\n",
    "classmethod(instance_method)"
   ]
  },
  {
   "cell_type": "code",
   "execution_count": 32,
   "id": "44fa97c5-5df5-46b7-af89-16a8e9c86f9c",
   "metadata": {},
   "outputs": [
    {
     "name": "stdout",
     "output_type": "stream",
     "text": [
      "3\n",
      "3\n",
      "3\n"
     ]
    }
   ],
   "source": [
    "class Employee:\n",
    "   empCount = 0\n",
    "   def __init__(self, name, age):\n",
    "      self.__name = name\n",
    "      self.__age = age\n",
    "      Employee.empCount += 1\n",
    "   def showcount(self):\n",
    "      print (self.empCount)\n",
    "      \n",
    "   counter = classmethod(showcount)\n",
    "\n",
    "e1 = Employee(\"Bhavana\", 24)\n",
    "e2 = Employee(\"Rajesh\", 26)\n",
    "e3 = Employee(\"John\", 27)\n",
    "\n",
    "e1.showcount()\n",
    "Employee.counter()\n",
    "e1.counter()"
   ]
  },
  {
   "cell_type": "markdown",
   "id": "649ce76b-8b76-4561-abba-14d921a446ca",
   "metadata": {},
   "source": [
    "#### Using @classmethod Decorator\n",
    "Use of @classmethod() decorator is the prescribed way to define a class method as it is more convenient than first declaring an instance method and then transforming it into a class method.\n",
    "\n",
    "#### Access Class Attributes in Class Method\n",
    "Class attributes are those variables that belong to a class and whose value is shared among all the instances of that class.\n",
    "\n",
    "To access class attributes within a class method, use the cls parameter followed by dot (.) notation and name of the attribute.\n",
    "\n",
    "**Syntax**<br>\n",
    "@classmethod <br>\n",
    "def method_name():\n",
    "> your code"
   ]
  },
  {
   "cell_type": "code",
   "execution_count": 35,
   "id": "beb1d503-90f5-4034-8398-d66564a7da6d",
   "metadata": {},
   "outputs": [
    {
     "name": "stdout",
     "output_type": "stream",
     "text": [
      "4\n"
     ]
    }
   ],
   "source": [
    "class Employee:\n",
    "    empCount = 0  # Class attribute\n",
    "    def __init__(self, name, age):  # Constructor\n",
    "        self.name = name\n",
    "        self.age = age\n",
    "        Employee.empCount += 1\n",
    "\n",
    "    @classmethod\n",
    "    def showcount(cls):\n",
    "        print (cls.empCount)\n",
    "\n",
    "    @classmethod\n",
    "    def newemployee(cls, name, age):  # Decorator\n",
    "        return cls(name, age)\n",
    "\n",
    "e1 = Employee(\"Bhavana\", 24)\n",
    "e2 = Employee(\"Rajesh\", 26)\n",
    "e3 = Employee(\"John\", 27)\n",
    "e4 = Employee.newemployee(\"Anil\", 21)\n",
    "\n",
    "Employee.showcount()"
   ]
  },
  {
   "cell_type": "markdown",
   "id": "f0a2ffcb-f3bd-45d3-8924-40c2be96ba44",
   "metadata": {},
   "source": [
    "### Static Method\n",
    "Static method is a type of method that does not require any instance to be called. <br>\n",
    "It is **very similar to the class method** but the **difference is** that the static method **doesn't have a mandatory argument** like reference to the object − **self** or reference to the class − **cls**.\n",
    "\n",
    "Static methods are used to access static fields of a given class. They cannot modify the state of a class since they are bound to the class, not instance."
   ]
  },
  {
   "cell_type": "markdown",
   "id": "89a27981-ee05-42b0-b522-398d60008e2b",
   "metadata": {},
   "source": [
    "#### Create Static Method in Python\n",
    "**Two ways**\n",
    "* Using staticmethod() Function\n",
    "* Using @staticmethod Decorator"
   ]
  },
  {
   "cell_type": "markdown",
   "id": "ee0009ff-a1f7-4226-b75d-48b2c5628863",
   "metadata": {},
   "source": [
    "#### Using staticmethod() Function\n",
    "Python's standard library function named staticmethod() is used to create a static method. <br>\n",
    "It accepts a method as an argument and converts it into a static method.\n",
    "\n",
    "**Syntax**\n",
    "staticmethod(method)\n"
   ]
  },
  {
   "cell_type": "code",
   "execution_count": 40,
   "id": "78e79fbb-9504-454d-b9d8-55b16ec58624",
   "metadata": {},
   "outputs": [
    {
     "name": "stdout",
     "output_type": "stream",
     "text": [
      "3\n",
      "3\n"
     ]
    }
   ],
   "source": [
    "class Employee:\n",
    "   empCount = 0\n",
    "   def __init__(self, name, age):\n",
    "      self.__name = name\n",
    "      self.__age = age\n",
    "      Employee.empCount += 1\n",
    "   \n",
    "   # creating staticmethod\n",
    "   def showcount():\n",
    "      print (Employee.empCount)\n",
    "      return\n",
    "   counter = staticmethod(showcount)\n",
    "\n",
    "e1 = Employee(\"Bhavana\", 24)\n",
    "e2 = Employee(\"Rajesh\", 26)\n",
    "e3 = Employee(\"John\", 27)\n",
    "\n",
    "e1.counter()\n",
    "Employee.counter()"
   ]
  },
  {
   "cell_type": "markdown",
   "id": "fb6d3ba7-6684-4efa-9937-2844cf451d12",
   "metadata": {},
   "source": [
    "#### Using @staticmethod Decorator\n",
    "The second way to create a static method is by using the Python @staticmethod decorator. <br>\n",
    "When we use this decorator with a method it indicates to the Interpreter that the specified method is static.\n",
    "\n",
    "**Syntax**<br>\n",
    "@staticmethod<br>\n",
    "def method_name():\n",
    ">your code\n"
   ]
  },
  {
   "cell_type": "code",
   "execution_count": 43,
   "id": "2d8d8c14-102a-4536-8e6e-fde29362077e",
   "metadata": {},
   "outputs": [
    {
     "name": "stdout",
     "output_type": "stream",
     "text": [
      "Number of Students:\n",
      "3\n"
     ]
    }
   ],
   "source": [
    "class Student:\n",
    "   stdCount = 0\n",
    "   def __init__(self, name, age):\n",
    "      self.__name = name\n",
    "      self.__age = age\n",
    "      Student.stdCount += 1\n",
    "   \n",
    "   # creating staticmethod\n",
    "   @staticmethod\n",
    "   def showcount():\n",
    "      print (Student.stdCount)\n",
    "\n",
    "e1 = Student(\"Bhavana\", 24)\n",
    "e2 = Student(\"Rajesh\", 26)\n",
    "e3 = Student(\"John\", 27)\n",
    "\n",
    "print(\"Number of Students:\")\n",
    "Student.showcount()"
   ]
  },
  {
   "cell_type": "code",
   "execution_count": null,
   "id": "3653e143-7003-4fd0-a933-8dcffe395a2c",
   "metadata": {},
   "outputs": [],
   "source": []
  },
  {
   "cell_type": "markdown",
   "id": "30357114-948d-474a-ac2e-c979b9c32d11",
   "metadata": {},
   "source": [
    "#### Advantages of Static Method\n",
    "* Since a static method cannot access class attributes, it can be used as a utility function to perform frequently re-used tasks.\n",
    "* We can invoke this method using the class name. Hence, it eliminates the dependency on the instances.\n",
    "* A static method is always predictable as its behavior remain unchanged regardless of the class state.\n",
    "* We can declare a method as a static method to prevent overriding."
   ]
  },
  {
   "cell_type": "code",
   "execution_count": null,
   "id": "d25351fe-c621-47b4-ab6a-7377231106c2",
   "metadata": {},
   "outputs": [],
   "source": []
  },
  {
   "cell_type": "code",
   "execution_count": null,
   "id": "e6e1784b-046d-49b6-81e2-b3a47ec80f8c",
   "metadata": {},
   "outputs": [],
   "source": []
  },
  {
   "cell_type": "markdown",
   "id": "2f32a841-2d14-4ea1-9178-7a082d00f8f3",
   "metadata": {},
   "source": [
    "## Constructors\n",
    "* Python constructor is an **instance method** in a class, that is **automatically called** whenever a **new object** of the class is created.\n",
    "* The constructor's **role** is to **assign value** to **instance variables** as soon as the object is declared.\n",
    "* Python uses a special method called **\\_\\_init\\_\\_()** to initialize the instance variables for the object, as soon as it is declared.\n",
    "\n",
    "#### Types of Constructor in Python\n",
    "* Default Constructor\n",
    "* Parameterized Constructor\n",
    "\n",
    "\n",
    "Unlike other programming languages like C++ and Java, **Python does not allow multiple constructors**.<br>\n",
    "If you try to create multiple constructors, Python will not throw an error.<br>\n",
    "But it will only consider the last \\_\\_init\\_\\_() method in your class. Its previous definition will be overridden by the last one."
   ]
  },
  {
   "cell_type": "code",
   "execution_count": null,
   "id": "4094bd6c-87ed-40e5-8813-92aff75b9436",
   "metadata": {},
   "outputs": [],
   "source": []
  },
  {
   "cell_type": "code",
   "execution_count": null,
   "id": "46fae8f0-4e30-437f-9f5a-aba708a2744e",
   "metadata": {},
   "outputs": [],
   "source": []
  },
  {
   "cell_type": "markdown",
   "id": "9b1040fc-b201-4075-a355-9effaedf4ac6",
   "metadata": {},
   "source": [
    "## Python - Access Modifiers\n",
    "The **Python access modifiers** are used to restrict access to class members (i.e., variables and methods) from outside the class. <br>\n",
    "There are **three types** of access modifiers namely **public, protected, and private**.\n",
    "\n",
    "* **Public members −** A class member is said to be public if it can be accessed from anywhere in the program.<br>\n",
    "* **Protected members −** They are accessible from within the class as well as by classes derived from that class.<br>\n",
    "* **Private members −** They can be accessed from within the class only.\n",
    "\n",
    "To indicate that an instance variable is **private**, prefix it with **double underscore** (such as \"\\_\\_age\").<br>\n",
    "To imply that a certain instance variable is **protected**, prefix it with **single underscore** (such as \"\\_salary\")."
   ]
  },
  {
   "cell_type": "code",
   "execution_count": 53,
   "id": "cf7c099b-e279-460f-bc80-5225d8b96faa",
   "metadata": {},
   "outputs": [
    {
     "name": "stdout",
     "output_type": "stream",
     "text": [
      "Bhavana\n",
      "10000\n"
     ]
    }
   ],
   "source": [
    "class Employee:\n",
    "   def __init__(self, name, age, salary):\n",
    "      self.name = name # public variable\n",
    "      self.__age = age # private variable\n",
    "      self._salary = salary # protected variable\n",
    "   def displayEmployee(self):\n",
    "      print (\"Name : \", self.name, \", age: \", self.__age, \", salary: \", self._salary)\n",
    "\n",
    "e1=Employee(\"Bhavana\", 24, 10000)\n",
    "\n",
    "print (e1.name)\n",
    "print (e1._salary)\n",
    "# print (e1.__age)"
   ]
  },
  {
   "cell_type": "code",
   "execution_count": 55,
   "id": "27e046ef-f3a9-4e15-8b2a-e105f918aa33",
   "metadata": {},
   "outputs": [
    {
     "ename": "AttributeError",
     "evalue": "'Employee' object has no attribute '__age'",
     "output_type": "error",
     "traceback": [
      "\u001b[1;31m---------------------------------------------------------------------------\u001b[0m",
      "\u001b[1;31mAttributeError\u001b[0m                            Traceback (most recent call last)",
      "Cell \u001b[1;32mIn[55], line 1\u001b[0m\n\u001b[1;32m----> 1\u001b[0m \u001b[38;5;28mprint\u001b[39m (e1\u001b[38;5;241m.\u001b[39m__age)\n",
      "\u001b[1;31mAttributeError\u001b[0m: 'Employee' object has no attribute '__age'"
     ]
    }
   ],
   "source": [
    "print (e1.__age)"
   ]
  },
  {
   "cell_type": "markdown",
   "id": "9ec00da8-50f1-4a78-90d4-17493730a113",
   "metadata": {},
   "source": [
    "#### Name Mangling\n",
    "Python doesn't block access to private data, it just leaves for the wisdom of the programmer, not to write any code that access it from outside the class.<br>\n",
    "You can still access the private members by Python's name mangling technique.<br>\n",
    "Name mangling is the process of changing name of a member with double underscore to the form **object._class__variable**. If so required, it can still be accessed from outside the class, but the practice should be refrained.\n"
   ]
  },
  {
   "cell_type": "code",
   "execution_count": 58,
   "id": "e406c311-1671-4194-804a-962bb8fd8887",
   "metadata": {},
   "outputs": [
    {
     "name": "stdout",
     "output_type": "stream",
     "text": [
      "24\n"
     ]
    }
   ],
   "source": [
    "print (e1._Employee__age)"
   ]
  },
  {
   "cell_type": "markdown",
   "id": "9c364065-cf93-4678-a318-ddbc282f961e",
   "metadata": {},
   "source": [
    "## Inheritance\n",
    "It is used to inherit the properties and behaviours of one class to another. <br>\n",
    "The class that inherits another class is called a **child class** and the class that gets inherited is called a **base class or parent class**.<br>\n",
    "\n",
    "If you have to design a new class whose most of the attributes are already well defined in an existing class, then why redefine them? <br>\n",
    "Inheritance allows capabilities of existing class to be reused and if required extended to design a new class.\n",
    "\n",
    "Inheritance comes into picture when a new class possesses 'IS A' relationship with an existing class. <br>\n",
    "For example, Employee IS a Person, Bus IS a vehicle, Bike IS also a vehicle.<br>\n",
    "Here, Vehicle is the parent class, whereas car, bus and bike are the child classes.<br>\n",
    "Person is parent class, Employee is Child class\n",
    "\n",
    "\n",
    "#### Types of Inheritance\n",
    "* Single Inheritance\n",
    "* Multiple Inheritance\n",
    "* Multilevel Inheritance\n",
    "* Hierarchical Inheritance\n",
    "* Hybrid Inheritance\n",
    "\n",
    "\n",
    "#### Single Inheritance\n",
    "This is the simplest form of inheritance where a child class inherits attributes and methods from only one parent class."
   ]
  },
  {
   "cell_type": "code",
   "execution_count": 67,
   "id": "15588b46-a847-4f10-98a7-6b4be612a8d8",
   "metadata": {},
   "outputs": [
    {
     "name": "stdout",
     "output_type": "stream",
     "text": [
      "Calling child method\n",
      "Calling parent method\n"
     ]
    }
   ],
   "source": [
    "# parent class\n",
    "class Parent: \n",
    "   def parentMethod(self):\n",
    "      print (\"Calling parent method\")\n",
    "\n",
    "# child class\n",
    "class Child(Parent): \n",
    "   def childMethod(self):\n",
    "      print (\"Calling child method\")\n",
    "\n",
    "# instance of child\n",
    "c = Child()  \n",
    "# calling method of child class\n",
    "c.childMethod() \n",
    "# calling method of parent class\n",
    "c.parentMethod() "
   ]
  },
  {
   "cell_type": "markdown",
   "id": "7ee2224c-b04e-44c5-850a-874d2e5936bf",
   "metadata": {},
   "source": [
    "#### Multiple Inheritance\n",
    "Multiple inheritance in Python allows you to construct a class based on more than one parent classes. <br>\n",
    "The Child class thus inherits the attributes and method from all parents. <br>\n",
    "The child can override methods inherited from any parent."
   ]
  },
  {
   "cell_type": "code",
   "execution_count": 162,
   "id": "39e654a8-3cbf-46a4-a441-a9ba97af6f0d",
   "metadata": {},
   "outputs": [],
   "source": [
    "class division:\n",
    "    def __init__(self, a,b):\n",
    "        self.n=a\n",
    "        self.d=b\n",
    "    def divide(self):\n",
    "        return self.n//self.d\n",
    "    def demoFun(self):\n",
    "        print(\"Function from division\")\n",
    "class modulus:\n",
    "    def __init__(self, a,b):\n",
    "        self.n=a\n",
    "        self.d=b\n",
    "    def mod_divide(self):\n",
    "        return self.n%self.d\n",
    "\n",
    "    def demoFun(self):\n",
    "        print(\"Function from Modulus\")\n",
    "      \n",
    "class div_mod(division,modulus):\n",
    "    def __init__(self, a,b):\n",
    "        self.n=a\n",
    "        self.d=b\n",
    "    def div_and_mod(self):\n",
    "        divval=division.divide(self)\n",
    "        modval=modulus.mod_divide(self)\n",
    "        return (divval, modval)\n",
    "\n",
    "    # def demoFun(self):\n",
    "    #    print(\"Function from div_mod\")"
   ]
  },
  {
   "cell_type": "code",
   "execution_count": null,
   "id": "3570a871-cd93-41a6-a3ee-a166859f9224",
   "metadata": {},
   "outputs": [],
   "source": []
  },
  {
   "cell_type": "code",
   "execution_count": 165,
   "id": "49544709-cf42-41d3-9752-282e696fb292",
   "metadata": {},
   "outputs": [
    {
     "data": {
      "text/plain": [
       "(2, 1)"
      ]
     },
     "execution_count": 165,
     "metadata": {},
     "output_type": "execute_result"
    }
   ],
   "source": [
    "obj1 = div_mod(5,2)\n",
    "obj1.div_and_mod()"
   ]
  },
  {
   "cell_type": "code",
   "execution_count": 167,
   "id": "bf24c74a-8bf7-4205-a795-78f5bacaee26",
   "metadata": {},
   "outputs": [
    {
     "name": "stdout",
     "output_type": "stream",
     "text": [
      "Function from division\n"
     ]
    }
   ],
   "source": [
    "obj1.demoFun()"
   ]
  },
  {
   "cell_type": "markdown",
   "id": "10eb97bf-9c93-4319-8d0c-8cef55464f6d",
   "metadata": {},
   "source": [
    "#### Method Resolution Order (MRO)\n",
    "The term method resolution order is related to multiple inheritance in Python. <br>\n",
    "In Python, inheritance may be spread over more than one levels. <br>\n",
    "Let us say A is the parent of B, and B the parent for C. <br>\n",
    "The class C can override the inherited method or its object may invoke it as defined in its parent. <br>\n",
    "So, how does Python find the appropriate method to call.<br>\n",
    "\n",
    "Each Python has a mro() method that returns the hierarchical order that Python uses to resolve the method to be called. <br>\n",
    "The resolution order is from bottom of inheritance order to top."
   ]
  },
  {
   "cell_type": "code",
   "execution_count": 160,
   "id": "184d59c9-c0d8-444c-b82f-6ef8d95155a4",
   "metadata": {},
   "outputs": [
    {
     "data": {
      "text/plain": [
       "[__main__.div_mod, __main__.division, __main__.modulus, object]"
      ]
     },
     "execution_count": 160,
     "metadata": {},
     "output_type": "execute_result"
    }
   ],
   "source": [
    "div_mod.mro()\n"
   ]
  },
  {
   "cell_type": "markdown",
   "id": "168b9640-61f5-4a59-a68a-2ef5b0afe365",
   "metadata": {},
   "source": [
    "#### Multilevel Inheritance\n",
    "In multilevel inheritance, a class is derived from another derived class. <br>\n",
    "There exists multiple layers of inheritance. We can imagine it as a grandparent-parent-child relationship."
   ]
  },
  {
   "cell_type": "code",
   "execution_count": 169,
   "id": "58ad313a-3b2a-41ff-adce-d166d17d5b5d",
   "metadata": {},
   "outputs": [
    {
     "name": "stdout",
     "output_type": "stream",
     "text": [
      "I am in the Universe\n",
      "I am on Earth\n",
      "I am in India\n"
     ]
    }
   ],
   "source": [
    "# parent class\n",
    "class Universe: \n",
    "   def universeMethod(self):\n",
    "      print (\"I am in the Universe\")\n",
    "\n",
    "# child class\n",
    "class Earth(Universe): \n",
    "   def earthMethod(self):\n",
    "      print (\"I am on Earth\")\n",
    "      \n",
    "# another child class\n",
    "class India(Earth): \n",
    "   def indianMethod(self):\n",
    "      print (\"I am in India\")      \n",
    "\n",
    "# creating instance \n",
    "person = India()  \n",
    "# method calls\n",
    "person.universeMethod() \n",
    "person.earthMethod() \n",
    "person.indianMethod() "
   ]
  },
  {
   "cell_type": "markdown",
   "id": "7033395d-a0c2-4cd0-b3de-26f369e86588",
   "metadata": {},
   "source": [
    "#### Hierarchical Inheritance\n",
    "This type of inheritance contains multiple derived classes that are inherited from a single base class.<br>\n",
    "This is similar to the hierarchy within an organization.\n"
   ]
  },
  {
   "cell_type": "code",
   "execution_count": 171,
   "id": "445daf30-5cd5-44a9-8195-16c7eabc4fac",
   "metadata": {},
   "outputs": [],
   "source": [
    "class Employee:\n",
    "   empCount = 0\n",
    "   def __init__(self, name, age):\n",
    "      self.name = name\n",
    "      self.age = age\n",
    "      Employee.empCount += 1\n",
    "   \n",
    "   def displayCount(self):\n",
    "      print (Employee.empCount)\n",
    "      return\n",
    "   def displayEmployee(self):\n",
    "       print(f\"Name = {self.name} Age = {self.age}\")\n",
    "\n",
    "class Manager(Employee):\n",
    "    def __init__(self, name, age, designation):\n",
    "        super().__init__( name, age)\n",
    "        self.designation = designation\n",
    "\n",
    "    def displayManager(self):\n",
    "        self.displayEmployee()\n",
    "        print(f\"Designation = {self.designation}\")\n",
    "\n",
    "class Accountant(Employee):\n",
    "    def __init__(self, name, age, designation):\n",
    "        super().__init__( name, age)\n",
    "        self.designation = designation\n",
    "\n",
    "    def displayAccountant(self):\n",
    "        self.displayEmployee()\n",
    "        print(f\"Designation = {self.designation}\")"
   ]
  },
  {
   "cell_type": "code",
   "execution_count": 173,
   "id": "5a748e46-972f-462b-9eff-386de1f5476f",
   "metadata": {},
   "outputs": [
    {
     "name": "stdout",
     "output_type": "stream",
     "text": [
      "Name = John Age = 38\n",
      "Designation = Assistant Manager\n",
      "Name = Stark Age = 55\n",
      "Designation = Head Accountant\n"
     ]
    }
   ],
   "source": [
    "mgr1 = Manager(\"John\", 38, \"Assistant Manager\")\n",
    "act1 = Accountant(\"Stark\", 55, \"Head Accountant\")\n",
    "mgr1.displayManager()\n",
    "act1.displayAccountant()"
   ]
  },
  {
   "cell_type": "markdown",
   "id": "e7e3506e-e1c2-4d0a-8d85-88344abff295",
   "metadata": {},
   "source": [
    "#### Hybrid Inheritance\n",
    "Combination of two or more types of inheritance is called as Hybrid Inheritance. <br>\n",
    "For instance, it could be a mix of single and multiple inheritance."
   ]
  },
  {
   "cell_type": "markdown",
   "id": "703d9096-ed12-49b7-baf8-b2b08fda52af",
   "metadata": {},
   "source": [
    "#### The super() function\n",
    "In Python, super() function allows you to access methods and attributes of the parent class from within a child class."
   ]
  },
  {
   "cell_type": "markdown",
   "id": "f82c6364-2314-4015-b83f-6c067f3e8691",
   "metadata": {},
   "source": [
    "## Polymorphism\n",
    "The term polymorphism refers to a function or method taking different forms in different contexts.\n",
    "\n",
    "#### Ways of implementing Polymorphism in Python\n",
    "* Operator Overloading\n",
    "* Method Overriding\n",
    "* Method Overloading"
   ]
  },
  {
   "cell_type": "markdown",
   "id": "100b7646-ec16-48cf-9b33-2fd9c7575279",
   "metadata": {},
   "source": [
    "#### Method Overriding in Python\n",
    "In method overriding, a method defined inside a subclass has the same name as a method in its superclass but implements a different functionality.\n",
    "\n"
   ]
  },
  {
   "cell_type": "code",
   "execution_count": 181,
   "id": "2dc98036-d12b-4c93-8ed9-80044086cfe1",
   "metadata": {},
   "outputs": [
    {
     "ename": "TypeError",
     "evalue": "Can't instantiate abstract class rectangle without an implementation for abstract method 'draw'",
     "output_type": "error",
     "traceback": [
      "\u001b[1;31m---------------------------------------------------------------------------\u001b[0m",
      "\u001b[1;31mTypeError\u001b[0m                                 Traceback (most recent call last)",
      "Cell \u001b[1;32mIn[181], line 21\u001b[0m\n\u001b[0;32m     19\u001b[0m     \u001b[38;5;28;01mdef\u001b[39;00m \u001b[38;5;21mfun\u001b[39m(\u001b[38;5;28mself\u001b[39m):\n\u001b[0;32m     20\u001b[0m         \u001b[38;5;28;01mreturn\u001b[39;00m\n\u001b[1;32m---> 21\u001b[0m shapes \u001b[38;5;241m=\u001b[39m [circle(), rectangle()]\n\u001b[0;32m     22\u001b[0m \u001b[38;5;28;01mfor\u001b[39;00m shp \u001b[38;5;129;01min\u001b[39;00m shapes:\n\u001b[0;32m     23\u001b[0m    shp\u001b[38;5;241m.\u001b[39mdraw()\n",
      "\u001b[1;31mTypeError\u001b[0m: Can't instantiate abstract class rectangle without an implementation for abstract method 'draw'"
     ]
    }
   ],
   "source": [
    "from abc import ABC, abstractmethod\n",
    "class shape(ABC):\n",
    "   @abstractmethod\n",
    "   def draw(self):\n",
    "      \"Abstract method\"\n",
    "      return\n",
    "\n",
    "class circle(shape):\n",
    "   def draw(self):\n",
    "      super().draw()\n",
    "      print (\"Draw a circle\")\n",
    "      return\n",
    "\n",
    "class rectangle(shape):\n",
    "   # def draw(self):\n",
    "   #   super().draw()\n",
    "   #   print (\"Draw a rectangle\")\n",
    "   #   return\n",
    "    def fun(self):\n",
    "        return\n",
    "shapes = [circle(), rectangle()]\n",
    "for shp in shapes:\n",
    "   shp.draw()"
   ]
  },
  {
   "cell_type": "code",
   "execution_count": 183,
   "id": "cfd595f0-5e47-4fe8-810c-455198c9ba21",
   "metadata": {},
   "outputs": [
    {
     "ename": "TypeError",
     "evalue": "Can't instantiate abstract class shape without an implementation for abstract method 'draw'",
     "output_type": "error",
     "traceback": [
      "\u001b[1;31m---------------------------------------------------------------------------\u001b[0m",
      "\u001b[1;31mTypeError\u001b[0m                                 Traceback (most recent call last)",
      "Cell \u001b[1;32mIn[183], line 1\u001b[0m\n\u001b[1;32m----> 1\u001b[0m shape1 \u001b[38;5;241m=\u001b[39m shape()\n",
      "\u001b[1;31mTypeError\u001b[0m: Can't instantiate abstract class shape without an implementation for abstract method 'draw'"
     ]
    }
   ],
   "source": [
    "shape1 = shape()"
   ]
  },
  {
   "cell_type": "markdown",
   "id": "178e23be-ea22-4950-9db4-31df1413eb91",
   "metadata": {},
   "source": [
    "The variable shp first refers to circle object and calls draw() method from circle class. <br>\n",
    "In next iteration, it refers to rectangle object and calls draw() method from rectangle class. <br>\n",
    "Hence draw() method in shape class is polymorphic."
   ]
  },
  {
   "cell_type": "markdown",
   "id": "876e7752-1a0f-49b4-b2f1-cab391dab1e8",
   "metadata": {},
   "source": [
    "#### Overloading Operators in Python\n",
    "Suppose you have created a Vector class to represent two-dimensional vectors, what happens when you use the plus operator to add them? <br>\n",
    "\n",
    "Probably a error.\n",
    "\n",
    "You could, however, define the \\_\\_add\\_\\_ method in your class to perform vector addition and then the plus operator would behave as per expectation "
   ]
  },
  {
   "cell_type": "code",
   "execution_count": 189,
   "id": "40abfda8-696e-47cb-9671-6133803ef54e",
   "metadata": {},
   "outputs": [
    {
     "ename": "TypeError",
     "evalue": "unsupported operand type(s) for +: 'Vector' and 'Vector'",
     "output_type": "error",
     "traceback": [
      "\u001b[1;31m---------------------------------------------------------------------------\u001b[0m",
      "\u001b[1;31mTypeError\u001b[0m                                 Traceback (most recent call last)",
      "Cell \u001b[1;32mIn[189], line 14\u001b[0m\n\u001b[0;32m     12\u001b[0m v1 \u001b[38;5;241m=\u001b[39m Vector(\u001b[38;5;241m2\u001b[39m,\u001b[38;5;241m10\u001b[39m)\n\u001b[0;32m     13\u001b[0m v2 \u001b[38;5;241m=\u001b[39m Vector(\u001b[38;5;241m5\u001b[39m,\u001b[38;5;241m-\u001b[39m\u001b[38;5;241m2\u001b[39m)\n\u001b[1;32m---> 14\u001b[0m \u001b[38;5;28mprint\u001b[39m (v1 \u001b[38;5;241m+\u001b[39m v2)\n",
      "\u001b[1;31mTypeError\u001b[0m: unsupported operand type(s) for +: 'Vector' and 'Vector'"
     ]
    }
   ],
   "source": [
    "class Vector:\n",
    "   def __init__(self, a, b):\n",
    "      self.a = a\n",
    "      self.b = b\n",
    "\n",
    "   def __str__(self):\n",
    "      return 'Vector (%d, %d)' % (self.a, self.b)\n",
    "   \n",
    "   # def __add__(self,other):\n",
    "   #   return Vector(self.a + other.a, self.b + other.b)\n",
    "\n",
    "v1 = Vector(2,10)\n",
    "v2 = Vector(5,-2)\n",
    "print (v1 + v2)"
   ]
  },
  {
   "cell_type": "code",
   "execution_count": 191,
   "id": "7d63d3b0-0398-4767-8bd1-7c478a8498ed",
   "metadata": {},
   "outputs": [
    {
     "name": "stdout",
     "output_type": "stream",
     "text": [
      "Vector (7, 8)\n"
     ]
    }
   ],
   "source": [
    "class Vector:\n",
    "   def __init__(self, a, b):\n",
    "      self.a = a\n",
    "      self.b = b\n",
    "\n",
    "   def __str__(self):\n",
    "      return 'Vector (%d, %d)' % (self.a, self.b)\n",
    "   \n",
    "   def __add__(self,other):\n",
    "     return Vector(self.a + other.a, self.b + other.b)\n",
    "\n",
    "v1 = Vector(2,10)\n",
    "v2 = Vector(5,-2)\n",
    "print (v1 + v2)"
   ]
  },
  {
   "cell_type": "markdown",
   "id": "b0a9fde6-6c1d-495d-9075-61e2ebd42a05",
   "metadata": {},
   "source": [
    "#### Method Overloading in Python\n",
    "When a class contains two or more methods with the same name but different number of parameters then this scenario can be termed as method overloading.\n",
    "\n",
    "Python does not allow overloading of methods by default, <br>\n",
    "however, we can use the techniques like variable-length argument lists, multiple dispatch and default parameters to achieve this."
   ]
  },
  {
   "cell_type": "code",
   "execution_count": 193,
   "id": "150fa188-990b-478e-8a55-b20ab431702e",
   "metadata": {},
   "outputs": [
    {
     "name": "stdout",
     "output_type": "stream",
     "text": [
      "35\n",
      "70\n"
     ]
    }
   ],
   "source": [
    "def add(*nums):\n",
    "   return sum(nums)\n",
    "\n",
    "# Call the function with different number of parameters\n",
    "result1 = add(10, 25)\n",
    "result2 = add(10, 25, 35)\n",
    "\n",
    "print(result1)  \n",
    "print(result2) "
   ]
  },
  {
   "cell_type": "markdown",
   "id": "43a901be-8481-4940-94a1-51f070ef3fe2",
   "metadata": {},
   "source": [
    "## Abstraction\n",
    "Abstraction is one of the important principles of object-oriented programming. <br>\n",
    "It refers to a programming approach by which only the relevant data about an object is exposed, hiding all the other details. <br>\n",
    "This approach helps in reducing the complexity and increasing the efficiency of application development.<br>\n",
    "\n",
    "#### Types of Python Abstraction\n",
    "There are two types of abstraction. <br>\n",
    "* **Data abstraction:** The original data entity is hidden via a data structure that can internally work through the hidden data entities. <br>\n",
    "* **Process abstraction:** It refers to hiding the underlying implementation details of a process.\n",
    "\n",
    "#### Python Abstract Class\n",
    "In object-oriented programming terminology, a class is said to be an abstract class if it cannot be instantiated. <br>\n",
    "That is you can not have an object of an abstract class. <br>\n",
    "You can however use it as a base or parent class for constructing other classes.\n",
    "\n",
    "**Create an Abstract Class**<br>\n",
    "To create an abstract class in Python, it must inherit the **ABC class** that is defined in the **ABC module**. <br>\n",
    "This module is available in Python's standard library. <br>\n",
    "Moreover, the **class must have at least one abstract method**. <br>\n",
    "Again, an abstract method is the one which cannot be called but can be overridden. <br>\n",
    "You need to decorate it with **@abstractmethod** decorator."
   ]
  },
  {
   "cell_type": "code",
   "execution_count": null,
   "id": "10899889-fafc-45b2-ace8-edbf72dbb624",
   "metadata": {},
   "outputs": [],
   "source": [
    "from abc import ABC, abstractmethod\n",
    "class demo(ABC):\n",
    "   @abstractmethod\n",
    "   def method1(self):\n",
    "      print (\"abstract method\")\n",
    "      return\n",
    "   def method2(self):\n",
    "      print (\"concrete method\")"
   ]
  },
  {
   "cell_type": "markdown",
   "id": "837c1b51-2886-4b8b-a68e-ca5980cafe75",
   "metadata": {},
   "source": [
    "The demo class inherits ABC class. There is a method1() which is an abstract method. <br>\n",
    "Note that the class may have other non-abstract (concrete) methods.\n",
    "\n",
    "If you try to declare an object of demo class, Python raises TypeError −\n",
    "\n",
    "The demo class here may be used as parent for another class. <br>\n",
    "However, the child class must override the abstract method in parent class. If not, Python throws TypeError −"
   ]
  },
  {
   "cell_type": "markdown",
   "id": "94d48f2f-bffb-47c9-8c63-95d403b8220f",
   "metadata": {},
   "source": [
    "## Encapsulation\n",
    "Encapsulation is the process of bundling attributes and methods within a single unit. <br>\n",
    "It is one of the main pillars on which the object-oriented programming paradigm is based.\n",
    "\n",
    "We know that a class is a user-defined prototype for an object. <br>\n",
    "It defines a set of data members and methods, capable of processing the data.\n",
    "\n",
    "According to the principle of data encapsulation, the data members that describe an object are hidden from the environment external to the class. <br>\n",
    "They can only be accessed through the methods within the same class. <br>\n",
    "Methods themselves on the other hand are accessible from outside class context. Hence, object data is said to be encapsulated by the methods. <br>\n",
    "In this way, encapsulation prevents direct access to the object data."
   ]
  },
  {
   "cell_type": "code",
   "execution_count": 141,
   "id": "8303d10f-081b-4f9f-ace9-be38e9c89070",
   "metadata": {},
   "outputs": [
    {
     "name": "stdout",
     "output_type": "stream",
     "text": [
      "Name: Rajaram marks: 50\n",
      "Name: Bharat marks: 25\n"
     ]
    },
    {
     "ename": "AttributeError",
     "evalue": "'Student' object has no attribute '__name'",
     "output_type": "error",
     "traceback": [
      "\u001b[1;31m---------------------------------------------------------------------------\u001b[0m",
      "\u001b[1;31mAttributeError\u001b[0m                            Traceback (most recent call last)",
      "Cell \u001b[1;32mIn[141], line 14\u001b[0m\n\u001b[0;32m     12\u001b[0m s1\u001b[38;5;241m.\u001b[39mstudentdata()\n\u001b[0;32m     13\u001b[0m s2\u001b[38;5;241m.\u001b[39mstudentdata()\n\u001b[1;32m---> 14\u001b[0m \u001b[38;5;28mprint\u001b[39m (\u001b[38;5;124m\"\u001b[39m\u001b[38;5;124mName: \u001b[39m\u001b[38;5;132;01m{}\u001b[39;00m\u001b[38;5;124m marks: \u001b[39m\u001b[38;5;132;01m{}\u001b[39;00m\u001b[38;5;124m\"\u001b[39m\u001b[38;5;241m.\u001b[39mformat(s1\u001b[38;5;241m.\u001b[39m__name, s2\u001b[38;5;241m.\u001b[39m__marks))\n\u001b[0;32m     15\u001b[0m \u001b[38;5;28mprint\u001b[39m (\u001b[38;5;124m\"\u001b[39m\u001b[38;5;124mName: \u001b[39m\u001b[38;5;132;01m{}\u001b[39;00m\u001b[38;5;124m marks: \u001b[39m\u001b[38;5;132;01m{}\u001b[39;00m\u001b[38;5;124m\"\u001b[39m\u001b[38;5;241m.\u001b[39mformat(s2\u001b[38;5;241m.\u001b[39m__name, __s2\u001b[38;5;241m.\u001b[39mmarks))\n",
      "\u001b[1;31mAttributeError\u001b[0m: 'Student' object has no attribute '__name'"
     ]
    }
   ],
   "source": [
    "class Student:\n",
    "\n",
    "   def __init__(self, name=\"Rajaram\", marks=50):\n",
    "      self.__name = name\n",
    "      self.__marks = marks\n",
    "   def studentdata(self):\n",
    "      print (\"Name: {} marks: {}\".format(self.__name, self.__marks))\n",
    "      \n",
    "s1 = Student()\n",
    "s2 = Student(\"Bharat\", 25)\n",
    "\n",
    "s1.studentdata()\n",
    "s2.studentdata()\n",
    "print (\"Name: {} marks: {}\".format(s1.__name, s2.__marks))\n",
    "print (\"Name: {} marks: {}\".format(s2.__name, __s2.marks))"
   ]
  },
  {
   "cell_type": "code",
   "execution_count": null,
   "id": "658bae94-fb10-45ab-ae78-991e9138da13",
   "metadata": {},
   "outputs": [],
   "source": []
  }
 ],
 "metadata": {
  "kernelspec": {
   "display_name": "Python [conda env:base] *",
   "language": "python",
   "name": "conda-base-py"
  },
  "language_info": {
   "codemirror_mode": {
    "name": "ipython",
    "version": 3
   },
   "file_extension": ".py",
   "mimetype": "text/x-python",
   "name": "python",
   "nbconvert_exporter": "python",
   "pygments_lexer": "ipython3",
   "version": "3.12.7"
  }
 },
 "nbformat": 4,
 "nbformat_minor": 5
}
