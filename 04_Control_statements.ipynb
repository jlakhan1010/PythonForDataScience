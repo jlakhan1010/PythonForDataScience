{
 "cells": [
  {
   "cell_type": "code",
   "execution_count": 15,
   "id": "2ccb0fdd-77e0-4187-8e98-e68c6caee45c",
   "metadata": {},
   "outputs": [
    {
     "name": "stdin",
     "output_type": "stream",
     "text": [
      "Enter a number:  7\n"
     ]
    },
    {
     "data": {
      "text/plain": [
       "7"
      ]
     },
     "execution_count": 15,
     "metadata": {},
     "output_type": "execute_result"
    }
   ],
   "source": [
    "n = int(input(\"Enter a number: \"))\n",
    "n"
   ]
  },
  {
   "cell_type": "code",
   "execution_count": 17,
   "id": "aef9b3fa-92a3-4bd8-ae0a-9828f4b0564a",
   "metadata": {},
   "outputs": [
    {
     "name": "stdout",
     "output_type": "stream",
     "text": [
      "Outside of if, always executed\n"
     ]
    }
   ],
   "source": [
    "if n%2 == 0:\n",
    "    print(f\"{n} is even\")\n",
    "print(\"Outside of if, always executed\")"
   ]
  },
  {
   "cell_type": "code",
   "execution_count": 19,
   "id": "39b67b5f-427f-4e66-99e1-ff91fe92daa3",
   "metadata": {},
   "outputs": [
    {
     "name": "stdout",
     "output_type": "stream",
     "text": [
      "7 is odd\n",
      "Outside of if, always executed\n"
     ]
    }
   ],
   "source": [
    "if n%2 == 0:\n",
    "    print(f\"{n} is even\")\n",
    "else:\n",
    "    print(f\"{n} is odd\")\n",
    "print(\"Outside of if, always executed\")"
   ]
  },
  {
   "cell_type": "code",
   "execution_count": 27,
   "id": "2a81e41d-44f3-45fb-a530-093685385550",
   "metadata": {},
   "outputs": [
    {
     "name": "stdout",
     "output_type": "stream",
     "text": [
      "fail\n"
     ]
    }
   ],
   "source": [
    "marks = 12\n",
    "\n",
    "if marks <0 or marks >100:\n",
    "    print(\"Marks are invalid\")\n",
    "elif marks <40:\n",
    "    print(\"fail\")\n",
    "else:\n",
    "    print(\"pass\")"
   ]
  },
  {
   "cell_type": "code",
   "execution_count": 29,
   "id": "cd222686-2e36-4a93-9cf4-990aceadc97f",
   "metadata": {},
   "outputs": [
    {
     "name": "stdout",
     "output_type": "stream",
     "text": [
      "fail\n"
     ]
    }
   ],
   "source": [
    "marks = 12\n",
    "\n",
    "if marks <0 or marks >100:\n",
    "    print(\"Marks are invalid\")\n",
    "else:\n",
    "    if marks <40:\n",
    "        print(\"fail\")\n",
    "    else:\n",
    "        print(\"pass\")"
   ]
  },
  {
   "cell_type": "code",
   "execution_count": 35,
   "id": "3f7e1b4f-1e39-4932-8d8b-afc84ba196d8",
   "metadata": {},
   "outputs": [
    {
     "name": "stdout",
     "output_type": "stream",
     "text": [
      "2\n",
      "4\n",
      "6\n",
      "8\n"
     ]
    }
   ],
   "source": [
    "for i in range(2, 10, 2): # range() syntax: range(start, end, step)\n",
    "    print(i)"
   ]
  },
  {
   "cell_type": "code",
   "execution_count": 39,
   "id": "25e74dd9-36f3-4c43-a4d7-efd477fa030d",
   "metadata": {},
   "outputs": [
    {
     "name": "stdout",
     "output_type": "stream",
     "text": [
      "asd\n",
      "wer\n",
      "1\n",
      "3\n",
      "20.1\n",
      "List items ended\n"
     ]
    }
   ],
   "source": [
    "l1 = [\"asd\", \"wer\", 1, 3, 20.1]\n",
    "for i in l1:\n",
    "    print(i)\n",
    "else:\n",
    "    print(\"List items ended\")"
   ]
  },
  {
   "cell_type": "code",
   "execution_count": 41,
   "id": "5356d5ca-b643-4b8a-8dc4-a4511ee2cfd4",
   "metadata": {},
   "outputs": [
    {
     "name": "stdout",
     "output_type": "stream",
     "text": [
      "3\n",
      "6\n",
      "9\n",
      "12\n",
      "15\n",
      "18\n"
     ]
    }
   ],
   "source": [
    "# Get all number divisible by 3 from 1 to 20\n",
    "\n",
    "i = 1\n",
    "while i<20:\n",
    "    if i%3==0:\n",
    "        print(i)\n",
    "    i +=1"
   ]
  },
  {
   "cell_type": "code",
   "execution_count": 43,
   "id": "f0979864-9913-4420-8f43-b9ede3b1a801",
   "metadata": {},
   "outputs": [
    {
     "name": "stdout",
     "output_type": "stream",
     "text": [
      "0 10\n",
      "0 11\n",
      "0 12\n",
      "0 13\n",
      "0 14\n",
      "1 10\n",
      "1 11\n",
      "1 12\n",
      "1 13\n",
      "1 14\n",
      "2 10\n",
      "2 11\n",
      "2 12\n",
      "2 13\n",
      "2 14\n",
      "3 10\n",
      "3 11\n",
      "3 12\n",
      "3 13\n",
      "3 14\n",
      "4 10\n",
      "4 11\n",
      "4 12\n",
      "4 13\n",
      "4 14\n"
     ]
    }
   ],
   "source": [
    "for i in range(5):\n",
    "    for j in range(10, 15):\n",
    "        print(i, j)"
   ]
  },
  {
   "cell_type": "code",
   "execution_count": 55,
   "id": "e44592dd-060c-4748-8e68-bbdc33beb2f9",
   "metadata": {},
   "outputs": [
    {
     "name": "stdout",
     "output_type": "stream",
     "text": [
      "288\n"
     ]
    }
   ],
   "source": [
    "l1 = [60,68, \"a\", 85,75, \"asd\"]\n",
    "sum = 0\n",
    "for i in l1:\n",
    "    if type(i)==str:\n",
    "        continue\n",
    "    else:\n",
    "        sum+=i\n",
    "print(sum)"
   ]
  },
  {
   "cell_type": "code",
   "execution_count": 61,
   "id": "f04b5cf2-ec90-4e2e-926f-9f10a57a0823",
   "metadata": {},
   "outputs": [],
   "source": [
    "n = 2\n",
    "if n<5:\n",
    "    pass\n",
    "else:\n",
    "    print(f\"{n} is greater than 5\")"
   ]
  },
  {
   "cell_type": "code",
   "execution_count": null,
   "id": "ec264880-7d84-4942-82a5-41e0c88a3a16",
   "metadata": {},
   "outputs": [],
   "source": []
  }
 ],
 "metadata": {
  "kernelspec": {
   "display_name": "Python [conda env:base] *",
   "language": "python",
   "name": "conda-base-py"
  },
  "language_info": {
   "codemirror_mode": {
    "name": "ipython",
    "version": 3
   },
   "file_extension": ".py",
   "mimetype": "text/x-python",
   "name": "python",
   "nbconvert_exporter": "python",
   "pygments_lexer": "ipython3",
   "version": "3.12.7"
  }
 },
 "nbformat": 4,
 "nbformat_minor": 5
}
