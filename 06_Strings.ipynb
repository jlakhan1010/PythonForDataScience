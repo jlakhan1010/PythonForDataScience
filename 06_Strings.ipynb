{
 "cells": [
  {
   "cell_type": "markdown",
   "id": "a766996d-b926-412c-8199-8192ae56015f",
   "metadata": {},
   "source": [
    "A string is an immutable sequence of Unicode characters. <br>\n",
    "The sequence of characters is included within single, double or triple quotes in its literal representation. <br>\n",
    "Hence, 1234 is a number (integer) but '1234' is a string."
   ]
  },
  {
   "cell_type": "markdown",
   "id": "797c207b-0d66-47ee-ab60-338df6847f95",
   "metadata": {},
   "source": [
    "### Creating String"
   ]
  },
  {
   "cell_type": "code",
   "execution_count": 36,
   "id": "501179cf",
   "metadata": {},
   "outputs": [],
   "source": [
    "s1 = \"asd\"\n",
    "s2 = 'asd'\n",
    "s3 = '''asd'''"
   ]
  },
  {
   "cell_type": "code",
   "execution_count": 38,
   "id": "fa763390-5f1c-43a6-b770-d74a1e4455d7",
   "metadata": {},
   "outputs": [
    {
     "data": {
      "text/plain": [
       "('asd', 'asd', 'asd')"
      ]
     },
     "execution_count": 38,
     "metadata": {},
     "output_type": "execute_result"
    }
   ],
   "source": [
    "s1, s2, s3"
   ]
  },
  {
   "cell_type": "code",
   "execution_count": 40,
   "id": "0360396b",
   "metadata": {},
   "outputs": [
    {
     "data": {
      "text/plain": [
       "'123'"
      ]
     },
     "execution_count": 40,
     "metadata": {},
     "output_type": "execute_result"
    }
   ],
   "source": [
    "str(123)"
   ]
  },
  {
   "cell_type": "markdown",
   "id": "a73c5458-dc50-4ea4-931f-3a45a9719d4a",
   "metadata": {},
   "source": [
    "### Accessing Strings"
   ]
  },
  {
   "cell_type": "code",
   "execution_count": 42,
   "id": "ab20e4fa",
   "metadata": {},
   "outputs": [],
   "source": [
    "s1 = \"Hello World!\"\n",
    "\n",
    "#   0 1 2 3 4 5 6 7 8 9 10 11\n",
    "#   H e l l o   W o r l d  !\n",
    "#                      -2 -1 "
   ]
  },
  {
   "cell_type": "code",
   "execution_count": 44,
   "id": "2b393809",
   "metadata": {},
   "outputs": [
    {
     "data": {
      "text/plain": [
       "'Hello World!'"
      ]
     },
     "execution_count": 44,
     "metadata": {},
     "output_type": "execute_result"
    }
   ],
   "source": [
    "s1"
   ]
  },
  {
   "cell_type": "code",
   "execution_count": 58,
   "id": "2d2a078c",
   "metadata": {},
   "outputs": [
    {
     "data": {
      "text/plain": [
       "'H'"
      ]
     },
     "execution_count": 58,
     "metadata": {},
     "output_type": "execute_result"
    }
   ],
   "source": [
    "s1[-12]"
   ]
  },
  {
   "cell_type": "code",
   "execution_count": 62,
   "id": "dc8a8224-2b55-4400-92e4-d4c37a71a814",
   "metadata": {},
   "outputs": [
    {
     "data": {
      "text/plain": [
       "'ello Wor'"
      ]
     },
     "execution_count": 62,
     "metadata": {},
     "output_type": "execute_result"
    }
   ],
   "source": [
    "s1[1:9]"
   ]
  },
  {
   "cell_type": "code",
   "execution_count": 64,
   "id": "b00eda1e-5dd4-47df-bc46-30094907079a",
   "metadata": {},
   "outputs": [
    {
     "data": {
      "text/plain": [
       "'llo World!'"
      ]
     },
     "execution_count": 64,
     "metadata": {},
     "output_type": "execute_result"
    }
   ],
   "source": [
    "s1[2:]"
   ]
  },
  {
   "cell_type": "code",
   "execution_count": 66,
   "id": "e410311b-3049-4762-bfde-91cf253daf3d",
   "metadata": {},
   "outputs": [
    {
     "data": {
      "text/plain": [
       "'Hell'"
      ]
     },
     "execution_count": 66,
     "metadata": {},
     "output_type": "execute_result"
    }
   ],
   "source": [
    "s1[:4]"
   ]
  },
  {
   "cell_type": "code",
   "execution_count": 68,
   "id": "a2d066d8-9ee4-420a-9e64-6ced2e00c32d",
   "metadata": {},
   "outputs": [
    {
     "data": {
      "text/plain": [
       "'ld!'"
      ]
     },
     "execution_count": 68,
     "metadata": {},
     "output_type": "execute_result"
    }
   ],
   "source": [
    "s1[-3:]"
   ]
  },
  {
   "cell_type": "code",
   "execution_count": null,
   "id": "22617c07-9591-4f58-bd09-ae0551db96c6",
   "metadata": {},
   "outputs": [],
   "source": []
  },
  {
   "cell_type": "markdown",
   "id": "181d09a9-8596-4917-bc7d-a4630cf487ea",
   "metadata": {},
   "source": [
    "### Updating Strings (Imutable)"
   ]
  },
  {
   "cell_type": "code",
   "execution_count": 70,
   "id": "7bde850c",
   "metadata": {},
   "outputs": [
    {
     "data": {
      "text/plain": [
       "'Hello World!'"
      ]
     },
     "execution_count": 70,
     "metadata": {},
     "output_type": "execute_result"
    }
   ],
   "source": [
    "s1"
   ]
  },
  {
   "cell_type": "code",
   "execution_count": 72,
   "id": "a2bfb514",
   "metadata": {},
   "outputs": [
    {
     "ename": "TypeError",
     "evalue": "'str' object does not support item assignment",
     "output_type": "error",
     "traceback": [
      "\u001b[1;31m---------------------------------------------------------------------------\u001b[0m",
      "\u001b[1;31mTypeError\u001b[0m                                 Traceback (most recent call last)",
      "Cell \u001b[1;32mIn[72], line 1\u001b[0m\n\u001b[1;32m----> 1\u001b[0m s1[\u001b[38;5;241m0\u001b[39m] \u001b[38;5;241m=\u001b[39m \u001b[38;5;124m\"\u001b[39m\u001b[38;5;124mA\u001b[39m\u001b[38;5;124m\"\u001b[39m\n",
      "\u001b[1;31mTypeError\u001b[0m: 'str' object does not support item assignment"
     ]
    }
   ],
   "source": [
    "s1[0] = \"A\""
   ]
  },
  {
   "cell_type": "code",
   "execution_count": 78,
   "id": "176fcfc0-3a8a-4535-b493-219c354e0d59",
   "metadata": {},
   "outputs": [
    {
     "data": {
      "text/plain": [
       "'Hello ProAzure'"
      ]
     },
     "execution_count": 78,
     "metadata": {},
     "output_type": "execute_result"
    }
   ],
   "source": [
    "s2 = s1[:6] + \"ProAzure\"\n",
    "s2"
   ]
  },
  {
   "cell_type": "code",
   "execution_count": 80,
   "id": "3ea97362-0885-4ee0-aa49-b614c13959d7",
   "metadata": {},
   "outputs": [
    {
     "data": {
      "text/plain": [
       "(2183726787184, 2183726160240)"
      ]
     },
     "execution_count": 80,
     "metadata": {},
     "output_type": "execute_result"
    }
   ],
   "source": [
    "id(s1), id(s2)"
   ]
  },
  {
   "cell_type": "markdown",
   "id": "a7e14e55-83c8-4b6b-ae0a-8893dafc1a74",
   "metadata": {},
   "source": [
    "### Functions"
   ]
  },
  {
   "cell_type": "markdown",
   "id": "c09728a7-26c0-452a-8a9f-2cf1668c8365",
   "metadata": {},
   "source": [
    "### Built-in String Methods\n"
   ]
  },
  {
   "cell_type": "code",
   "execution_count": 92,
   "id": "723dbc25-dd27-4f44-bfbb-e6b6e43e0d53",
   "metadata": {},
   "outputs": [],
   "source": [
    "s1 = \"hello World!\""
   ]
  },
  {
   "cell_type": "code",
   "execution_count": 88,
   "id": "dcfe8a27-23d0-4e23-a7d1-6d3ace11206a",
   "metadata": {},
   "outputs": [
    {
     "data": {
      "text/plain": [
       "'Hello world!'"
      ]
     },
     "execution_count": 88,
     "metadata": {},
     "output_type": "execute_result"
    }
   ],
   "source": [
    "s1.capitalize()"
   ]
  },
  {
   "cell_type": "code",
   "execution_count": 94,
   "id": "646717db-f521-4722-8482-35a6e572d40b",
   "metadata": {},
   "outputs": [
    {
     "data": {
      "text/plain": [
       "'hello world!'"
      ]
     },
     "execution_count": 94,
     "metadata": {},
     "output_type": "execute_result"
    }
   ],
   "source": [
    "s1.casefold()"
   ]
  },
  {
   "cell_type": "code",
   "execution_count": 96,
   "id": "68edaf25-8243-479a-85c6-6c43b0cbe00e",
   "metadata": {},
   "outputs": [
    {
     "data": {
      "text/plain": [
       "4"
      ]
     },
     "execution_count": 96,
     "metadata": {},
     "output_type": "execute_result"
    }
   ],
   "source": [
    "s1.find(\"o\")"
   ]
  },
  {
   "cell_type": "code",
   "execution_count": 108,
   "id": "7b16a33e-efdf-43ae-a36c-1e1ca4d46145",
   "metadata": {},
   "outputs": [],
   "source": [
    "s1 = \"helloWorld1\""
   ]
  },
  {
   "cell_type": "code",
   "execution_count": 110,
   "id": "5e5716a7-612e-4bb4-b135-be1d3048c286",
   "metadata": {},
   "outputs": [
    {
     "data": {
      "text/plain": [
       "False"
      ]
     },
     "execution_count": 110,
     "metadata": {},
     "output_type": "execute_result"
    }
   ],
   "source": [
    "s1.isalpha()"
   ]
  },
  {
   "cell_type": "code",
   "execution_count": 112,
   "id": "48ff3017-0415-4f22-943b-6a517d7061d0",
   "metadata": {},
   "outputs": [],
   "source": [
    "s2 = \"124322\""
   ]
  },
  {
   "cell_type": "code",
   "execution_count": 114,
   "id": "d7dc55c9-ec7f-46e3-ac8d-f8beb6ed1f48",
   "metadata": {},
   "outputs": [
    {
     "data": {
      "text/plain": [
       "True"
      ]
     },
     "execution_count": 114,
     "metadata": {},
     "output_type": "execute_result"
    }
   ],
   "source": [
    "s2.isalnum()"
   ]
  },
  {
   "cell_type": "code",
   "execution_count": 116,
   "id": "918e0012-99ef-4e15-bcfb-b37d248bab2b",
   "metadata": {},
   "outputs": [
    {
     "data": {
      "text/plain": [
       "6"
      ]
     },
     "execution_count": 116,
     "metadata": {},
     "output_type": "execute_result"
    }
   ],
   "source": [
    "len(s2)"
   ]
  },
  {
   "cell_type": "code",
   "execution_count": 120,
   "id": "4fb9310b-15be-45ec-a45f-38b699e62dfe",
   "metadata": {},
   "outputs": [
    {
     "data": {
      "text/plain": [
       "'1'"
      ]
     },
     "execution_count": 120,
     "metadata": {},
     "output_type": "execute_result"
    }
   ],
   "source": [
    "min(s1)"
   ]
  },
  {
   "cell_type": "code",
   "execution_count": 124,
   "id": "f9606b61-1fb3-443f-980f-6c9fe3474981",
   "metadata": {},
   "outputs": [
    {
     "data": {
      "text/plain": [
       "'r'"
      ]
     },
     "execution_count": 124,
     "metadata": {},
     "output_type": "execute_result"
    }
   ],
   "source": [
    "max(s1)"
   ]
  },
  {
   "cell_type": "code",
   "execution_count": null,
   "id": "88375693-e467-4ea9-8537-4bfd8c825ba0",
   "metadata": {},
   "outputs": [],
   "source": []
  }
 ],
 "metadata": {
  "kernelspec": {
   "display_name": "Python [conda env:base] *",
   "language": "python",
   "name": "conda-base-py"
  },
  "language_info": {
   "codemirror_mode": {
    "name": "ipython",
    "version": 3
   },
   "file_extension": ".py",
   "mimetype": "text/x-python",
   "name": "python",
   "nbconvert_exporter": "python",
   "pygments_lexer": "ipython3",
   "version": "3.12.7"
  }
 },
 "nbformat": 4,
 "nbformat_minor": 5
}
