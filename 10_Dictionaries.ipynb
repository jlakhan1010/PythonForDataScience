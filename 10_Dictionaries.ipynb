{
 "cells": [
  {
   "cell_type": "markdown",
   "id": "10a91c23-5cae-4961-a956-1c7a0697d8f1",
   "metadata": {},
   "source": [
    "A dictionary is a built-in data type that stores data in key-value pairs. <br>\n",
    "It is an unordered, mutable, and indexed collection. <br>\n",
    "Each key in a dictionary is unique and maps to a value. <br>\n",
    "Dictionaries are often used to store data that is related, such as information associated with a specific entity or object, where you can quickly retrieve a value based on its key.\n",
    "\n",
    "Each key-value pair is separated by a comma and enclosed within curly braces {}. The key and value within each pair are separated by a colon (:), forming the structure key:value."
   ]
  },
  {
   "cell_type": "code",
   "execution_count": 44,
   "id": "296ffdf0-afe7-48c2-9b9b-85ffc7ec694c",
   "metadata": {},
   "outputs": [
    {
     "data": {
      "text/plain": [
       "{'Maharashtra': 'Mumbai',\n",
       " 'Gujarat': 'Gandhinagar',\n",
       " 'Telangana': 'Hyderabad',\n",
       " 'Karnataka': 'Bengaluru'}"
      ]
     },
     "execution_count": 44,
     "metadata": {},
     "output_type": "execute_result"
    }
   ],
   "source": [
    "capitals = {\"Maharashtra\":\"Mumbai\", \"Gujarat\":\"Gandhinagar\", \"Telangana\":\"Hyderabad\", \"Karnataka\":\"Bengaluru\"}\n",
    "capitals"
   ]
  },
  {
   "cell_type": "code",
   "execution_count": null,
   "id": "653a8b68-4d7c-429d-9342-4042d169c45d",
   "metadata": {},
   "outputs": [],
   "source": []
  },
  {
   "cell_type": "markdown",
   "id": "2fcfa0fb-eb3c-48ae-b6d2-69da2b5e9aaa",
   "metadata": {},
   "source": [
    "Unordered − The elements in a dictionary do not have a specific order. Python dictionaries before version 3.7 did not maintain insertion order. Starting from Python 3.7, dictionaries maintain insertion order as a language feature.\n",
    "\n",
    "Mutable − You can change, add, or remove items after the dictionary has been created.\n",
    "\n",
    "Indexed − Although dictionaries do not have numeric indexes, they use keys as indexes to access the associated values.\n",
    "\n",
    "Unique Keys − Each key in a dictionary must be unique. If you try to assign a value to an existing key, the old value will be replaced by the new value.\n",
    "\n",
    "Heterogeneous − Keys and values in a dictionary can be of any data type."
   ]
  },
  {
   "cell_type": "code",
   "execution_count": null,
   "id": "0641e828-2397-43de-80d7-70c5e3fcfde6",
   "metadata": {},
   "outputs": [],
   "source": []
  },
  {
   "cell_type": "code",
   "execution_count": null,
   "id": "b4876cea-5ce3-43e0-a5f9-dc969165f295",
   "metadata": {},
   "outputs": [],
   "source": []
  },
  {
   "cell_type": "markdown",
   "id": "a1e57b4d-d745-4bbd-81b3-ab29e78aff3d",
   "metadata": {},
   "source": [
    "### Creating a Dictionary\n"
   ]
  },
  {
   "cell_type": "code",
   "execution_count": 46,
   "id": "ff82abf8-d152-464c-9d06-48343fa97b41",
   "metadata": {},
   "outputs": [
    {
     "data": {
      "text/plain": [
       "{}"
      ]
     },
     "execution_count": 46,
     "metadata": {},
     "output_type": "execute_result"
    }
   ],
   "source": [
    "d = dict()\n",
    "d"
   ]
  },
  {
   "cell_type": "code",
   "execution_count": null,
   "id": "9c55af65-b2c2-4908-a5bb-f35727fa3557",
   "metadata": {},
   "outputs": [],
   "source": []
  },
  {
   "cell_type": "code",
   "execution_count": null,
   "id": "f983e53d-566f-4bfa-b06d-9e1ce2557f2f",
   "metadata": {},
   "outputs": [],
   "source": []
  },
  {
   "cell_type": "markdown",
   "id": "dac278d2-cb86-4ac4-b7c4-1ab81cda3318",
   "metadata": {},
   "source": [
    "### Accessing Dictionary Items\n"
   ]
  },
  {
   "cell_type": "code",
   "execution_count": 48,
   "id": "14b2b7a9-2990-470e-b8fa-229d7e8c2735",
   "metadata": {},
   "outputs": [
    {
     "data": {
      "text/plain": [
       "{'maths': 70, 'Physics': 75, 'Checmestry': 80}"
      ]
     },
     "execution_count": 48,
     "metadata": {},
     "output_type": "execute_result"
    }
   ],
   "source": [
    "d = { \"maths\" : 70,\n",
    "     \"Physics\" : 75,\n",
    "     \"Checmestry\" : 80\n",
    "    }\n",
    "d"
   ]
  },
  {
   "cell_type": "code",
   "execution_count": 52,
   "id": "458055ab-1901-424d-aba3-da9488525d49",
   "metadata": {},
   "outputs": [
    {
     "data": {
      "text/plain": [
       "70"
      ]
     },
     "execution_count": 52,
     "metadata": {},
     "output_type": "execute_result"
    }
   ],
   "source": [
    "d[\"maths\"]"
   ]
  },
  {
   "cell_type": "code",
   "execution_count": 54,
   "id": "95b0a2d6-f7ae-4f75-85ed-cf6e687debeb",
   "metadata": {},
   "outputs": [
    {
     "name": "stdout",
     "output_type": "stream",
     "text": [
      "maths\n",
      "Physics\n",
      "Checmestry\n"
     ]
    }
   ],
   "source": [
    "for i in d:\n",
    "    print(i)"
   ]
  },
  {
   "cell_type": "code",
   "execution_count": 56,
   "id": "fa7526e1-ed10-4cbe-a3e3-94a347cee301",
   "metadata": {},
   "outputs": [
    {
     "name": "stdout",
     "output_type": "stream",
     "text": [
      "maths  =  70\n",
      "Physics  =  75\n",
      "Checmestry  =  80\n"
     ]
    }
   ],
   "source": [
    "for key, value in d.items():\n",
    "    print(key, \" = \", value)"
   ]
  },
  {
   "cell_type": "code",
   "execution_count": 58,
   "id": "076d6995-ef95-4821-ab80-5704b28b77c3",
   "metadata": {},
   "outputs": [
    {
     "data": {
      "text/plain": [
       "[('maths', 70), ('Physics', 75), ('Checmestry', 80)]"
      ]
     },
     "execution_count": 58,
     "metadata": {},
     "output_type": "execute_result"
    }
   ],
   "source": [
    "list(d.items())"
   ]
  },
  {
   "cell_type": "code",
   "execution_count": null,
   "id": "2e205cd1-4aad-44a4-872a-578ceb9669d3",
   "metadata": {},
   "outputs": [],
   "source": []
  },
  {
   "cell_type": "code",
   "execution_count": null,
   "id": "6a7b14c3-883d-4f13-9a8a-f19bfc8771ed",
   "metadata": {},
   "outputs": [],
   "source": []
  },
  {
   "cell_type": "code",
   "execution_count": null,
   "id": "5826e777-96f5-4fed-8cbc-64e8743073ad",
   "metadata": {},
   "outputs": [],
   "source": []
  },
  {
   "cell_type": "markdown",
   "id": "6d073134-48f6-42b4-a5c4-89b0ee092024",
   "metadata": {},
   "source": [
    "### Modifying Dictionary Items\n"
   ]
  },
  {
   "cell_type": "code",
   "execution_count": 60,
   "id": "33cc5530-352a-481b-b163-ee2a37bb9aff",
   "metadata": {},
   "outputs": [
    {
     "data": {
      "text/plain": [
       "{'maths': 70, 'Physics': 75, 'Checmestry': 80}"
      ]
     },
     "execution_count": 60,
     "metadata": {},
     "output_type": "execute_result"
    }
   ],
   "source": [
    "d"
   ]
  },
  {
   "cell_type": "code",
   "execution_count": 62,
   "id": "063f7d95-2269-439e-b063-3b69060f9234",
   "metadata": {},
   "outputs": [
    {
     "data": {
      "text/plain": [
       "{'maths': 75, 'Physics': 75, 'Checmestry': 80}"
      ]
     },
     "execution_count": 62,
     "metadata": {},
     "output_type": "execute_result"
    }
   ],
   "source": [
    "d[\"maths\"] = 75\n",
    "d"
   ]
  },
  {
   "cell_type": "code",
   "execution_count": 64,
   "id": "ae76b376-976f-4216-b624-aeee73a1f79b",
   "metadata": {},
   "outputs": [
    {
     "data": {
      "text/plain": [
       "{'maths': 75, 'Physics': 75, 'Checmestry': 80, 'English': 78}"
      ]
     },
     "execution_count": 64,
     "metadata": {},
     "output_type": "execute_result"
    }
   ],
   "source": [
    "d[\"English\"] = 78\n",
    "d"
   ]
  },
  {
   "cell_type": "markdown",
   "id": "29d0f46e-cb83-46f9-acfb-763c6e7a20e6",
   "metadata": {},
   "source": [
    "### Removing Dictionary Items\n"
   ]
  },
  {
   "cell_type": "code",
   "execution_count": 66,
   "id": "04d27499-665f-4e68-9644-6f557ca2585f",
   "metadata": {},
   "outputs": [
    {
     "data": {
      "text/plain": [
       "{'maths': 75, 'Physics': 75, 'Checmestry': 80, 'English': 78}"
      ]
     },
     "execution_count": 66,
     "metadata": {},
     "output_type": "execute_result"
    }
   ],
   "source": [
    "d"
   ]
  },
  {
   "cell_type": "code",
   "execution_count": 68,
   "id": "6a742494-ebba-497b-aaca-151c8d80bf98",
   "metadata": {},
   "outputs": [
    {
     "data": {
      "text/plain": [
       "{'maths': 75, 'Physics': 75, 'Checmestry': 80}"
      ]
     },
     "execution_count": 68,
     "metadata": {},
     "output_type": "execute_result"
    }
   ],
   "source": [
    "del d[\"English\"]\n",
    "d"
   ]
  },
  {
   "cell_type": "code",
   "execution_count": 70,
   "id": "03adc9fe-3f3b-44e1-87c1-b6ad5bfd856c",
   "metadata": {},
   "outputs": [
    {
     "ename": "NameError",
     "evalue": "name 'd' is not defined",
     "output_type": "error",
     "traceback": [
      "\u001b[1;31m---------------------------------------------------------------------------\u001b[0m",
      "\u001b[1;31mNameError\u001b[0m                                 Traceback (most recent call last)",
      "Cell \u001b[1;32mIn[70], line 2\u001b[0m\n\u001b[0;32m      1\u001b[0m \u001b[38;5;28;01mdel\u001b[39;00m d\n\u001b[1;32m----> 2\u001b[0m d\n",
      "\u001b[1;31mNameError\u001b[0m: name 'd' is not defined"
     ]
    }
   ],
   "source": [
    "del d\n",
    "d"
   ]
  },
  {
   "cell_type": "markdown",
   "id": "20d6efd5-dfa1-40b0-b1fc-a4f67c854459",
   "metadata": {},
   "source": [
    "### Iterating Through a Dictionary\n"
   ]
  },
  {
   "cell_type": "code",
   "execution_count": 72,
   "id": "2ed2c20d-d183-4feb-be33-0fa8e1b8aa01",
   "metadata": {},
   "outputs": [
    {
     "data": {
      "text/plain": [
       "{'maths': 70, 'Physics': 75, 'Checmestry': 80}"
      ]
     },
     "execution_count": 72,
     "metadata": {},
     "output_type": "execute_result"
    }
   ],
   "source": [
    "d = { \"maths\" : 70,\n",
    "     \"Physics\" : 75,\n",
    "     \"Checmestry\" : 80\n",
    "    }\n",
    "d"
   ]
  },
  {
   "cell_type": "code",
   "execution_count": 74,
   "id": "e5325fde-0eb6-4668-8be4-ff3a63ff1908",
   "metadata": {},
   "outputs": [
    {
     "name": "stdout",
     "output_type": "stream",
     "text": [
      "maths 70\n",
      "Physics 75\n",
      "Checmestry 80\n"
     ]
    }
   ],
   "source": [
    "for k, v in d.items():\n",
    "    print(k, v)"
   ]
  },
  {
   "cell_type": "code",
   "execution_count": null,
   "id": "d32ca623-3749-49dc-8fee-206b22a925d7",
   "metadata": {},
   "outputs": [],
   "source": []
  },
  {
   "cell_type": "code",
   "execution_count": null,
   "id": "7c456cec-d13d-4de0-9a8d-094008103a2c",
   "metadata": {},
   "outputs": [],
   "source": []
  },
  {
   "cell_type": "markdown",
   "id": "9dc1a1fb-19fc-4fee-b4f9-ece9f1660182",
   "metadata": {},
   "source": [
    "### Key properties:\n",
    "More than one entry per key not allowed. <br>\n",
    "Keys must be immutable"
   ]
  },
  {
   "cell_type": "code",
   "execution_count": null,
   "id": "12341fcf-4e49-49d3-8064-5c60baedbd3a",
   "metadata": {},
   "outputs": [],
   "source": []
  },
  {
   "cell_type": "code",
   "execution_count": null,
   "id": "371a358d-38e9-4caf-8742-c5b7298b08b8",
   "metadata": {},
   "outputs": [],
   "source": []
  },
  {
   "cell_type": "code",
   "execution_count": null,
   "id": "ad5c0aad-7a29-4105-b30e-0ff851cd8447",
   "metadata": {},
   "outputs": [],
   "source": []
  },
  {
   "cell_type": "code",
   "execution_count": null,
   "id": "ed3ced11-49fd-4fc5-a9d4-465d6534e8c0",
   "metadata": {},
   "outputs": [],
   "source": []
  },
  {
   "cell_type": "markdown",
   "id": "d87f97fb-54cf-4157-a0b0-9004f0b4934a",
   "metadata": {},
   "source": [
    "### Python Dictionary Operators\n"
   ]
  },
  {
   "cell_type": "code",
   "execution_count": null,
   "id": "0ac288bb-3c5e-4298-9c14-6c2dff96f7d7",
   "metadata": {},
   "outputs": [],
   "source": [
    "dict1|dict2\n",
    "dict1|=dict2"
   ]
  },
  {
   "cell_type": "code",
   "execution_count": 77,
   "id": "462735aa-3efb-4df2-96d4-fae1f44902ed",
   "metadata": {},
   "outputs": [
    {
     "data": {
      "text/plain": [
       "{'maths': 70, 'Physics': 75, 'Checmestry': 80}"
      ]
     },
     "execution_count": 77,
     "metadata": {},
     "output_type": "execute_result"
    }
   ],
   "source": [
    "d"
   ]
  },
  {
   "cell_type": "code",
   "execution_count": 79,
   "id": "4cdba181-6663-4dff-bbeb-56b7407cc546",
   "metadata": {},
   "outputs": [
    {
     "data": {
      "text/plain": [
       "{'CProgramming': 85, 'Graphics': 80}"
      ]
     },
     "execution_count": 79,
     "metadata": {},
     "output_type": "execute_result"
    }
   ],
   "source": [
    "d2 = {\n",
    "    \"CProgramming\" : 85,\n",
    "    \"Graphics\" : 80\n",
    "}\n",
    "d2"
   ]
  },
  {
   "cell_type": "code",
   "execution_count": 81,
   "id": "87c2e5a1-92c9-4467-b6f8-f44d048f96de",
   "metadata": {},
   "outputs": [
    {
     "data": {
      "text/plain": [
       "{'maths': 70,\n",
       " 'Physics': 75,\n",
       " 'Checmestry': 80,\n",
       " 'CProgramming': 85,\n",
       " 'Graphics': 80}"
      ]
     },
     "execution_count": 81,
     "metadata": {},
     "output_type": "execute_result"
    }
   ],
   "source": [
    "d | d2"
   ]
  },
  {
   "cell_type": "code",
   "execution_count": 83,
   "id": "42edfd8b-ef48-4a7d-8943-2534f059991f",
   "metadata": {},
   "outputs": [
    {
     "data": {
      "text/plain": [
       "({'maths': 70, 'Physics': 75, 'Checmestry': 80},\n",
       " {'CProgramming': 85, 'Graphics': 80})"
      ]
     },
     "execution_count": 83,
     "metadata": {},
     "output_type": "execute_result"
    }
   ],
   "source": [
    "d, d2"
   ]
  },
  {
   "cell_type": "code",
   "execution_count": 85,
   "id": "a9cca640-dd93-4d65-8059-7d9ff697aeef",
   "metadata": {},
   "outputs": [
    {
     "data": {
      "text/plain": [
       "({'maths': 70,\n",
       "  'Physics': 75,\n",
       "  'Checmestry': 80,\n",
       "  'CProgramming': 85,\n",
       "  'Graphics': 80},\n",
       " {'CProgramming': 85, 'Graphics': 80})"
      ]
     },
     "execution_count": 85,
     "metadata": {},
     "output_type": "execute_result"
    }
   ],
   "source": [
    "d |= d2\n",
    "d, d2"
   ]
  },
  {
   "cell_type": "code",
   "execution_count": null,
   "id": "aa8b3d91-5cdb-41cb-878e-9b99d6ecce81",
   "metadata": {},
   "outputs": [],
   "source": []
  },
  {
   "cell_type": "markdown",
   "id": "02e6237e-df6c-428b-9331-b182ffa48b8e",
   "metadata": {},
   "source": [
    "###  Dictionary Methods"
   ]
  },
  {
   "cell_type": "code",
   "execution_count": 39,
   "id": "d0a2716a-40e3-4cab-837d-1f21209d22a2",
   "metadata": {},
   "outputs": [
    {
     "name": "stdout",
     "output_type": "stream",
     "text": [
      "\f",
      "\n"
     ]
    }
   ],
   "source": [
    "clear() copy()  fromkeys() get()  has_key() items() keys() values update()"
   ]
  },
  {
   "cell_type": "code",
   "execution_count": 87,
   "id": "bac7f5be-7b69-4113-b966-da835d7bbd20",
   "metadata": {},
   "outputs": [
    {
     "data": {
      "text/plain": [
       "{'maths': 70,\n",
       " 'Physics': 75,\n",
       " 'Checmestry': 80,\n",
       " 'CProgramming': 85,\n",
       " 'Graphics': 80}"
      ]
     },
     "execution_count": 87,
     "metadata": {},
     "output_type": "execute_result"
    }
   ],
   "source": [
    "d"
   ]
  },
  {
   "cell_type": "code",
   "execution_count": 97,
   "id": "1d3392cd-ad3c-4df3-b7f8-9e1550cc814b",
   "metadata": {},
   "outputs": [
    {
     "data": {
      "text/plain": [
       "'NotAvailable'"
      ]
     },
     "execution_count": 97,
     "metadata": {},
     "output_type": "execute_result"
    }
   ],
   "source": [
    "d.get(\"marathi\", \"NotAvailable\")"
   ]
  },
  {
   "cell_type": "code",
   "execution_count": 95,
   "id": "68034d9c-c9a9-4b36-89de-2b0397fb9035",
   "metadata": {},
   "outputs": [
    {
     "ename": "KeyError",
     "evalue": "'marathi'",
     "output_type": "error",
     "traceback": [
      "\u001b[1;31m---------------------------------------------------------------------------\u001b[0m",
      "\u001b[1;31mKeyError\u001b[0m                                  Traceback (most recent call last)",
      "Cell \u001b[1;32mIn[95], line 1\u001b[0m\n\u001b[1;32m----> 1\u001b[0m d[\u001b[38;5;124m\"\u001b[39m\u001b[38;5;124mmarathi\u001b[39m\u001b[38;5;124m\"\u001b[39m]\n",
      "\u001b[1;31mKeyError\u001b[0m: 'marathi'"
     ]
    }
   ],
   "source": [
    "d[\"marathi\"]"
   ]
  },
  {
   "cell_type": "code",
   "execution_count": 99,
   "id": "deb360ec-cb40-4f39-982a-a21342684f62",
   "metadata": {},
   "outputs": [
    {
     "data": {
      "text/plain": [
       "dict_keys(['maths', 'Physics', 'Checmestry', 'CProgramming', 'Graphics'])"
      ]
     },
     "execution_count": 99,
     "metadata": {},
     "output_type": "execute_result"
    }
   ],
   "source": [
    "d.keys()"
   ]
  },
  {
   "cell_type": "code",
   "execution_count": 101,
   "id": "e96b8f72-f95d-4c34-abb0-8ddd66e351e5",
   "metadata": {},
   "outputs": [
    {
     "data": {
      "text/plain": [
       "dict_values([70, 75, 80, 85, 80])"
      ]
     },
     "execution_count": 101,
     "metadata": {},
     "output_type": "execute_result"
    }
   ],
   "source": [
    "d.values()"
   ]
  },
  {
   "cell_type": "code",
   "execution_count": null,
   "id": "e588fde3-67bd-44bc-be73-e431611f4b91",
   "metadata": {},
   "outputs": [],
   "source": [
    "d."
   ]
  },
  {
   "cell_type": "markdown",
   "id": "f7e9a67e-b577-47b2-aeb1-9dc5eebbdea9",
   "metadata": {},
   "source": [
    "### Built-in Functions with Dictionaries\n"
   ]
  },
  {
   "cell_type": "code",
   "execution_count": 103,
   "id": "4a07fe8c-49d5-4367-9a12-b1df81ac3a90",
   "metadata": {},
   "outputs": [
    {
     "data": {
      "text/plain": [
       "5"
      ]
     },
     "execution_count": 103,
     "metadata": {},
     "output_type": "execute_result"
    }
   ],
   "source": [
    "len(d)"
   ]
  },
  {
   "cell_type": "code",
   "execution_count": 105,
   "id": "bd6378f8-9b57-46e9-b095-8d1f2f0976e5",
   "metadata": {},
   "outputs": [
    {
     "data": {
      "text/plain": [
       "{2: 21, 4: 11, 1: 32, 8: 98, 7: 43}"
      ]
     },
     "execution_count": 105,
     "metadata": {},
     "output_type": "execute_result"
    }
   ],
   "source": [
    "d = { 2: 21,\n",
    "     4:11,\n",
    "     1: 32,\n",
    "     8:98,\n",
    "     7: 43\n",
    "    }\n",
    "d"
   ]
  },
  {
   "cell_type": "code",
   "execution_count": 109,
   "id": "b7617f69-21d4-4ced-a02a-4c859ccabe47",
   "metadata": {},
   "outputs": [
    {
     "data": {
      "text/plain": [
       "[(4, 11), (2, 21), (1, 32), (7, 43), (8, 98)]"
      ]
     },
     "execution_count": 109,
     "metadata": {},
     "output_type": "execute_result"
    }
   ],
   "source": [
    "sorted(d.items(), key= lambda x: x[1])"
   ]
  },
  {
   "cell_type": "code",
   "execution_count": null,
   "id": "2f5ad4bd-1c7a-4fed-afc9-df53ac4425b9",
   "metadata": {},
   "outputs": [],
   "source": []
  },
  {
   "cell_type": "code",
   "execution_count": null,
   "id": "d8fed572-28a8-4f9f-83c3-fbbba0ff8716",
   "metadata": {},
   "outputs": [],
   "source": []
  },
  {
   "cell_type": "markdown",
   "id": "6408a5d8-5e5c-4ee4-b40b-7eaf0a23b3fc",
   "metadata": {},
   "source": [
    "### Indentation "
   ]
  },
  {
   "cell_type": "code",
   "execution_count": 118,
   "id": "f4b03ad4-05f1-454c-aa95-7dda3b9885eb",
   "metadata": {},
   "outputs": [
    {
     "ename": "IndentationError",
     "evalue": "unexpected indent (234460954.py, line 3)",
     "output_type": "error",
     "traceback": [
      "\u001b[1;36m  Cell \u001b[1;32mIn[118], line 3\u001b[1;36m\u001b[0m\n\u001b[1;33m    print(2)\u001b[0m\n\u001b[1;37m    ^\u001b[0m\n\u001b[1;31mIndentationError\u001b[0m\u001b[1;31m:\u001b[0m unexpected indent\n"
     ]
    }
   ],
   "source": [
    "if 1<2:\n",
    "    print(1)\n",
    "    print(2)"
   ]
  },
  {
   "cell_type": "code",
   "execution_count": null,
   "id": "1289f0de-d436-4b7e-81b5-3b2d06ecefeb",
   "metadata": {},
   "outputs": [],
   "source": []
  },
  {
   "cell_type": "code",
   "execution_count": null,
   "id": "1409d405-597e-4251-957b-bd185ada0e12",
   "metadata": {},
   "outputs": [],
   "source": []
  },
  {
   "cell_type": "code",
   "execution_count": null,
   "id": "93dfde08-142e-4172-a8ba-8f12094bc6e7",
   "metadata": {},
   "outputs": [],
   "source": []
  }
 ],
 "metadata": {
  "kernelspec": {
   "display_name": "Python [conda env:base] *",
   "language": "python",
   "name": "conda-base-py"
  },
  "language_info": {
   "codemirror_mode": {
    "name": "ipython",
    "version": 3
   },
   "file_extension": ".py",
   "mimetype": "text/x-python",
   "name": "python",
   "nbconvert_exporter": "python",
   "pygments_lexer": "ipython3",
   "version": "3.12.7"
  }
 },
 "nbformat": 4,
 "nbformat_minor": 5
}
