{
 "cells": [
  {
   "cell_type": "markdown",
   "id": "957ba633-658f-4c76-af91-ea07ec43f451",
   "metadata": {},
   "source": [
    "### List Comprehension"
   ]
  },
  {
   "cell_type": "code",
   "execution_count": 63,
   "id": "034d8f90-ca4b-4d1f-b9c0-08d8fb39e670",
   "metadata": {},
   "outputs": [
    {
     "name": "stdout",
     "output_type": "stream",
     "text": [
      "333334\n"
     ]
    }
   ],
   "source": [
    "list_divisible_by_3 = []\n",
    "for i in range(1000000):\n",
    "    if i%3==0:\n",
    "        list_divisible_by_3.append(i)\n",
    "\n",
    "print(len(list_divisible_by_3))"
   ]
  },
  {
   "cell_type": "code",
   "execution_count": 65,
   "id": "d99c0d32-348e-46bd-a74a-278dbd22416f",
   "metadata": {},
   "outputs": [
    {
     "name": "stdout",
     "output_type": "stream",
     "text": [
      "333334\n"
     ]
    }
   ],
   "source": [
    "list_divisible_by_3 = [(i, i**2) for i in range(1000000) ]\n",
    "\n",
    "print(len(list_divisible_by_3))"
   ]
  },
  {
   "cell_type": "code",
   "execution_count": null,
   "id": "f63f1095-e194-4fee-a994-fdf6f01d1327",
   "metadata": {},
   "outputs": [],
   "source": []
  },
  {
   "cell_type": "code",
   "execution_count": null,
   "id": "f333987e-267d-41e2-b6dd-0e24b6b899d5",
   "metadata": {},
   "outputs": [],
   "source": []
  },
  {
   "cell_type": "code",
   "execution_count": 81,
   "id": "00725433-8e18-49c0-8b8c-64b2255fc22f",
   "metadata": {},
   "outputs": [
    {
     "name": "stdout",
     "output_type": "stream",
     "text": [
      "2024-12-30 09:44:59.943168\n",
      "10000000\n",
      "2024-12-30 09:45:03.407695\n",
      "0:00:03.464527\n"
     ]
    }
   ],
   "source": [
    "import datetime\n",
    "\n",
    "start_time = datetime.datetime.now()\n",
    "print(start_time)\n",
    "\n",
    "list1 = []\n",
    "for i in range(10000000):\n",
    "    list1.append((i, i**2))\n",
    "print(len(list1))\n",
    "end_time = datetime.datetime.now()\n",
    "print(end_time)\n",
    "\n",
    "print(end_time - start_time)"
   ]
  },
  {
   "cell_type": "code",
   "execution_count": 78,
   "id": "7bd02743-1c67-4199-95d5-c8f585ecc894",
   "metadata": {},
   "outputs": [
    {
     "name": "stdout",
     "output_type": "stream",
     "text": [
      "2024-12-30 09:44:24.885502\n",
      "10000000\n",
      "2024-12-30 09:44:31.130401\n",
      "0:00:06.244899\n"
     ]
    }
   ],
   "source": [
    "import datetime\n",
    "\n",
    "start_time = datetime.datetime.now()\n",
    "print(start_time)\n",
    "\n",
    "list1 = [(i, i**2) for i in range(10000000) ]\n",
    "\n",
    "print(len(list1))\n",
    "end_time = datetime.datetime.now()\n",
    "print(end_time)\n",
    "\n",
    "print(end_time - start_time)"
   ]
  },
  {
   "cell_type": "markdown",
   "id": "0dcdbc52-49ac-4d00-b521-76ed552242fe",
   "metadata": {},
   "source": [
    "### Dict comprehension"
   ]
  },
  {
   "cell_type": "code",
   "execution_count": 83,
   "id": "84b75886-6fe6-4cc1-9144-2ee5cc04d1f3",
   "metadata": {},
   "outputs": [
    {
     "data": {
      "text/plain": [
       "{0: 0,\n",
       " 1: 1,\n",
       " 2: 4,\n",
       " 3: 9,\n",
       " 4: 16,\n",
       " 5: 25,\n",
       " 6: 36,\n",
       " 7: 49,\n",
       " 8: 64,\n",
       " 9: 81,\n",
       " 10: 100,\n",
       " 11: 121,\n",
       " 12: 144,\n",
       " 13: 169,\n",
       " 14: 196,\n",
       " 15: 225,\n",
       " 16: 256,\n",
       " 17: 289,\n",
       " 18: 324,\n",
       " 19: 361,\n",
       " 20: 400,\n",
       " 21: 441,\n",
       " 22: 484,\n",
       " 23: 529,\n",
       " 24: 576,\n",
       " 25: 625,\n",
       " 26: 676,\n",
       " 27: 729,\n",
       " 28: 784,\n",
       " 29: 841,\n",
       " 30: 900,\n",
       " 31: 961,\n",
       " 32: 1024,\n",
       " 33: 1089,\n",
       " 34: 1156,\n",
       " 35: 1225,\n",
       " 36: 1296,\n",
       " 37: 1369,\n",
       " 38: 1444,\n",
       " 39: 1521,\n",
       " 40: 1600,\n",
       " 41: 1681,\n",
       " 42: 1764,\n",
       " 43: 1849,\n",
       " 44: 1936,\n",
       " 45: 2025,\n",
       " 46: 2116,\n",
       " 47: 2209,\n",
       " 48: 2304,\n",
       " 49: 2401,\n",
       " 50: 2500,\n",
       " 51: 2601,\n",
       " 52: 2704,\n",
       " 53: 2809,\n",
       " 54: 2916,\n",
       " 55: 3025,\n",
       " 56: 3136,\n",
       " 57: 3249,\n",
       " 58: 3364,\n",
       " 59: 3481,\n",
       " 60: 3600,\n",
       " 61: 3721,\n",
       " 62: 3844,\n",
       " 63: 3969,\n",
       " 64: 4096,\n",
       " 65: 4225,\n",
       " 66: 4356,\n",
       " 67: 4489,\n",
       " 68: 4624,\n",
       " 69: 4761,\n",
       " 70: 4900,\n",
       " 71: 5041,\n",
       " 72: 5184,\n",
       " 73: 5329,\n",
       " 74: 5476,\n",
       " 75: 5625,\n",
       " 76: 5776,\n",
       " 77: 5929,\n",
       " 78: 6084,\n",
       " 79: 6241,\n",
       " 80: 6400,\n",
       " 81: 6561,\n",
       " 82: 6724,\n",
       " 83: 6889,\n",
       " 84: 7056,\n",
       " 85: 7225,\n",
       " 86: 7396,\n",
       " 87: 7569,\n",
       " 88: 7744,\n",
       " 89: 7921,\n",
       " 90: 8100,\n",
       " 91: 8281,\n",
       " 92: 8464,\n",
       " 93: 8649,\n",
       " 94: 8836,\n",
       " 95: 9025,\n",
       " 96: 9216,\n",
       " 97: 9409,\n",
       " 98: 9604,\n",
       " 99: 9801}"
      ]
     },
     "execution_count": 83,
     "metadata": {},
     "output_type": "execute_result"
    }
   ],
   "source": [
    "num_square = {i:i**2 for i in range(100)}\n",
    "num_square"
   ]
  },
  {
   "cell_type": "code",
   "execution_count": null,
   "id": "06a82f19-fd18-472a-a504-36a230a6dcea",
   "metadata": {},
   "outputs": [],
   "source": []
  },
  {
   "cell_type": "code",
   "execution_count": null,
   "id": "e22adf97-9762-4296-a3ec-b8051201b2a4",
   "metadata": {},
   "outputs": [],
   "source": []
  },
  {
   "cell_type": "markdown",
   "id": "f8e3f25d-1517-471e-b902-a1c9d0fc3830",
   "metadata": {},
   "source": [
    "### Set Comprehension"
   ]
  },
  {
   "cell_type": "code",
   "execution_count": 85,
   "id": "dcb2111c-4faa-47b5-bb88-59b0719cbe74",
   "metadata": {},
   "outputs": [
    {
     "data": {
      "text/plain": [
       "{0, 1, 2, 3, 4, 5, 6, 7, 8, 9}"
      ]
     },
     "execution_count": 85,
     "metadata": {},
     "output_type": "execute_result"
    }
   ],
   "source": [
    "s1 = {i for i in range(10) }\n",
    "s1"
   ]
  },
  {
   "cell_type": "code",
   "execution_count": null,
   "id": "d4c77b43-217a-4b61-a578-7cfb90b687bd",
   "metadata": {},
   "outputs": [],
   "source": []
  },
  {
   "cell_type": "code",
   "execution_count": null,
   "id": "af8d8dd8-41aa-4291-a431-92de3abb1f47",
   "metadata": {},
   "outputs": [],
   "source": []
  },
  {
   "cell_type": "markdown",
   "id": "8bbfe578-f694-4c74-bd04-44f9f91a7705",
   "metadata": {},
   "source": [
    "## Functions"
   ]
  },
  {
   "cell_type": "markdown",
   "id": "65dd4112-8c26-492a-8c0a-2783e0d451c7",
   "metadata": {},
   "source": [
    "Function is a block of organized, reusable code that is used to perform a single, related action. <br>\n",
    "Functions provide better modularity for your application and a high degree of code reusing.<br>\n",
    "A Python function may be invoked from any other function by passing required data (called parameters or arguments). <br>\n",
    "The called function returns its result back to the calling environment.<br>\n",
    "\n",
    "### Types of Python Functions\n",
    "#### Built-in functions\n",
    "Python's standard library includes number of built-in functions.<br>\n",
    "Some of Python's built-in functions are print(), int(), len(), sum(), etc. <br>\n",
    "These functions are always available, as they are loaded into computer's memory as soon as you start Python interpreter.<br>\n",
    "\n",
    "#### Functions defined in built-in modules\n",
    "\n",
    "The standard library also bundles a number of modules. Each module defines a group of functions. <br>\n",
    "These functions are not readily available. <br>\n",
    "You need to import them into the memory from their respective modules.\n",
    "\n",
    "#### User-defined functions\n",
    "\n",
    "In addition to the built-in functions and functions in the built-in modules, you can also create your own functions. <br>\n",
    "These functions are called user-defined functions."
   ]
  },
  {
   "cell_type": "code",
   "execution_count": 91,
   "id": "23f9c8dd-9258-4229-b645-9af697abe98b",
   "metadata": {},
   "outputs": [
    {
     "data": {
      "text/plain": [
       "3"
      ]
     },
     "execution_count": 91,
     "metadata": {},
     "output_type": "execute_result"
    }
   ],
   "source": [
    "len(\"asd\")"
   ]
  },
  {
   "cell_type": "code",
   "execution_count": 93,
   "id": "9821d5e3-49c6-4218-8322-fb9c373a7724",
   "metadata": {},
   "outputs": [
    {
     "data": {
      "text/plain": [
       "1"
      ]
     },
     "execution_count": 93,
     "metadata": {},
     "output_type": "execute_result"
    }
   ],
   "source": [
    "min([1,2,6,8])"
   ]
  },
  {
   "cell_type": "code",
   "execution_count": 95,
   "id": "3faee9d2-2018-45a4-b8d8-305c1908aba2",
   "metadata": {},
   "outputs": [
    {
     "data": {
      "text/plain": [
       "18.7"
      ]
     },
     "execution_count": 95,
     "metadata": {},
     "output_type": "execute_result"
    }
   ],
   "source": [
    "sum([8,6,3,1.7])"
   ]
  },
  {
   "cell_type": "code",
   "execution_count": null,
   "id": "f0bce55c-68bb-4412-b12e-377a8f6ffb36",
   "metadata": {},
   "outputs": [],
   "source": []
  },
  {
   "cell_type": "markdown",
   "id": "4269e6f0-5f32-4b09-9135-fc3df46d37f4",
   "metadata": {},
   "source": [
    "#### Syntax to Define a Python Function"
   ]
  },
  {
   "cell_type": "markdown",
   "id": "66d7f0fe-6f19-453e-94b8-729e40b4033b",
   "metadata": {},
   "source": [
    "def function_name( parameters ):<br>\n",
    ">\"function_docstring\"<br>\n",
    "   function_suite<br>\n",
    "   return [expression]<br>"
   ]
  },
  {
   "cell_type": "code",
   "execution_count": 97,
   "id": "87922bdd-9334-4620-9595-09334b6d560a",
   "metadata": {},
   "outputs": [],
   "source": [
    "def add(num1, num2):\n",
    "    sum = num1 + num2\n",
    "    return sum\n",
    "\n"
   ]
  },
  {
   "cell_type": "code",
   "execution_count": null,
   "id": "1824091e-138b-47b9-9baf-37a2cf084f27",
   "metadata": {},
   "outputs": [],
   "source": []
  },
  {
   "cell_type": "markdown",
   "id": "e6acb7d7-6664-47cf-a220-30457f50db83",
   "metadata": {},
   "source": [
    "#### Calling a Python Function\n"
   ]
  },
  {
   "cell_type": "code",
   "execution_count": 99,
   "id": "852aa1a0-9746-49a3-81fc-0841e2c4bff6",
   "metadata": {},
   "outputs": [
    {
     "data": {
      "text/plain": [
       "30"
      ]
     },
     "execution_count": 99,
     "metadata": {},
     "output_type": "execute_result"
    }
   ],
   "source": [
    "add(10, 20)"
   ]
  },
  {
   "cell_type": "code",
   "execution_count": null,
   "id": "223f15f5-db6e-47fb-b249-480023fd0de6",
   "metadata": {},
   "outputs": [],
   "source": []
  },
  {
   "cell_type": "markdown",
   "id": "cdf75e23-8b67-4b97-9288-50ce2bbf41c4",
   "metadata": {},
   "source": [
    "#### Pass by Reference vs Value\n",
    "\n",
    "Python uses pass by reference mechanism. <br>\n",
    "As variable in Python is a label or reference to the object in the memory, both the variables used as actual argument as well as formal arguments really refer to the same object in the memory. <br>\n",
    "We can verify this fact by checking the id() of the passed variable before and after passing.<br>"
   ]
  },
  {
   "cell_type": "code",
   "execution_count": 105,
   "id": "85accf5e-29b9-4ed3-b5d6-b565fd44fb28",
   "metadata": {},
   "outputs": [],
   "source": [
    "def id_display(num):\n",
    "    print(\"id of num inside function = \" , id(num))\n",
    "    return None"
   ]
  },
  {
   "cell_type": "code",
   "execution_count": 107,
   "id": "5096eb86-5537-41c6-bd37-992dca81cd66",
   "metadata": {},
   "outputs": [
    {
     "name": "stdout",
     "output_type": "stream",
     "text": [
      "Id of num outside =  140718425385688\n",
      "id of num inside function =  140718425385688\n"
     ]
    }
   ],
   "source": [
    "num = 10\n",
    "print(\"Id of num outside = \", id(num))\n",
    "id_display(num)"
   ]
  },
  {
   "cell_type": "markdown",
   "id": "58e85885-8fff-4506-8bd9-70bc63873c14",
   "metadata": {},
   "source": [
    "The behavior also depends on whether the passed object is mutable or immutable."
   ]
  },
  {
   "cell_type": "code",
   "execution_count": 119,
   "id": "1e91ba4e-ec48-4408-8ee6-1e32b9beba35",
   "metadata": {},
   "outputs": [],
   "source": [
    "def increase_by_one(num):\n",
    "    print(\"id of num inside function = \" , id(num))\n",
    "    num +=1\n",
    "    print(\"id of num inside function (after increase) = \" , id(num))\n",
    "    return num\n",
    "    "
   ]
  },
  {
   "cell_type": "code",
   "execution_count": 121,
   "id": "0573f2d2-6280-4c96-9ea4-398fb03bedc3",
   "metadata": {},
   "outputs": [
    {
     "name": "stdout",
     "output_type": "stream",
     "text": [
      "Id of num outside =  140718425385688\n",
      "id of num inside function =  140718425385688\n",
      "id of num inside function (after increase) =  140718425385720\n",
      "num =  10\n",
      "num1 =  11\n"
     ]
    }
   ],
   "source": [
    "num = 10\n",
    "print(\"Id of num outside = \", id(num))\n",
    "num1 = increase_by_one(num)\n",
    "print(\"num = \", num)\n",
    "print(\"num1 = \" , num1)"
   ]
  },
  {
   "cell_type": "code",
   "execution_count": null,
   "id": "fc6b96f2-7d82-4963-a51f-7526a95e5c99",
   "metadata": {},
   "outputs": [],
   "source": []
  },
  {
   "cell_type": "code",
   "execution_count": 123,
   "id": "9446c432-644a-464b-97fe-1c696135f9c8",
   "metadata": {},
   "outputs": [],
   "source": [
    "def add_10(list1):\n",
    "    print(\"Id of list1 = \", id(list1))\n",
    "    list1.append(10)\n",
    "    print(\"Id of list1 = \", id(list1))\n",
    "    return list1\n",
    "          "
   ]
  },
  {
   "cell_type": "code",
   "execution_count": 127,
   "id": "9e0f229b-735f-40ae-b96e-8a00b6ba4c8d",
   "metadata": {
    "scrolled": true
   },
   "outputs": [
    {
     "name": "stdout",
     "output_type": "stream",
     "text": [
      "Id of list1 outside of function =  2477333112640\n",
      "Id of list1 =  2477333112640\n",
      "Id of list1 =  2477333112640\n",
      "Id of list1 outside of function (after call) =  2477333112640\n",
      "Id of list2 outside of function =  2477333112640\n",
      "list1 =  [1, 2, 3, 4, 10]\n",
      "list2 =  [1, 2, 3, 4, 10]\n"
     ]
    }
   ],
   "source": [
    "list1 = [1,2,3,4]\n",
    "print(\"Id of list1 outside of function = \", id(list1))\n",
    "list2 = add_10(list1)\n",
    "print(\"Id of list1 outside of function (after call) = \", id(list1))\n",
    "print(\"Id of list2 outside of function = \", id(list2))\n",
    "\n",
    "print(\"list1 = \", list1)\n",
    "print(\"list2 = \", list2)\n"
   ]
  },
  {
   "cell_type": "markdown",
   "id": "a2d90b26-7d59-4068-9890-12e4cc8a2e96",
   "metadata": {},
   "source": [
    "#### Python Function Arguments\n",
    "Function arguments are the values or variables passed into a function when it is called. <br>\n",
    "While defining a function, you specify a list of variables (known as formal parameters) within the parentheses. <br>\n",
    "These parameters act as placeholders (also called as formal arguments) for the data that will be passed to the function when it is called. <br>\n",
    "When the function is called, value to each of the formal arguments must be provided. Those are called actual arguments.<br>"
   ]
  },
  {
   "cell_type": "code",
   "execution_count": null,
   "id": "cbe49a9d-9643-4f00-b889-b3866445fd69",
   "metadata": {},
   "outputs": [],
   "source": []
  },
  {
   "cell_type": "markdown",
   "id": "8bae8c03-fff9-4b43-b996-284f5a599b9d",
   "metadata": {},
   "source": [
    "Types of function arguments\n",
    "1. Positional or Required Arguments\n",
    "2. Keyword Arguments\n",
    "3. Default Arguments\n",
    "4. Positional-only Arguments (Available in Python 3.8 and later versions only)\n",
    "5. Keyword-only arguments\n",
    "6. Arbitrary or Variable-length Arguments"
   ]
  },
  {
   "cell_type": "markdown",
   "id": "917aaf0e-e0a0-4192-a917-057065e546b5",
   "metadata": {},
   "source": [
    "**Positional or Required Arguments**<br>\n",
    "Required arguments are the arguments passed to a function in correct positional order.<br>\n",
    "Here, the number of arguments in the function call should match exactly with the function definition, otherwise the code gives a syntax error."
   ]
  },
  {
   "cell_type": "code",
   "execution_count": 135,
   "id": "20bbc67d-2f06-4a78-aa31-eb6dd9c512e7",
   "metadata": {},
   "outputs": [
    {
     "name": "stdout",
     "output_type": "stream",
     "text": [
      "num1 =  10\n",
      "num2 =  20\n"
     ]
    },
    {
     "data": {
      "text/plain": [
       "30"
      ]
     },
     "execution_count": 135,
     "metadata": {},
     "output_type": "execute_result"
    }
   ],
   "source": [
    "def add(num1, num2):\n",
    "    print(\"num1 = \", num1)\n",
    "    print(\"num2 = \", num2)\n",
    "    return num1+num2\n",
    "add(10, 20)"
   ]
  },
  {
   "cell_type": "markdown",
   "id": "045ab72d-1edd-4689-9a44-f5e4d630a061",
   "metadata": {},
   "source": [
    "**Keyword Arguments**<br>\n",
    "Keyword arguments are related to the function calls. <br>\n",
    "When you use keyword arguments in a function call, the caller identifies the arguments by the parameter name. <br>\n",
    "This allows you to skip arguments or place them out of order.\n"
   ]
  },
  {
   "cell_type": "code",
   "execution_count": 137,
   "id": "41f9c3d8-1467-4bbc-a08d-8a4ebb605e55",
   "metadata": {},
   "outputs": [
    {
     "name": "stdout",
     "output_type": "stream",
     "text": [
      "num1 =  20\n",
      "num2 =  10\n"
     ]
    },
    {
     "data": {
      "text/plain": [
       "30"
      ]
     },
     "execution_count": 137,
     "metadata": {},
     "output_type": "execute_result"
    }
   ],
   "source": [
    "add(num2 = 10, num1=20)"
   ]
  },
  {
   "cell_type": "markdown",
   "id": "4dbd3781-a4e5-4178-badc-f56d8799406b",
   "metadata": {},
   "source": [
    "**Default Arguments**<br>\n",
    "A default argument is an argument that assumes a default value if a value is not provided in the function call for that argument."
   ]
  },
  {
   "cell_type": "code",
   "execution_count": 141,
   "id": "7626a8ee-fa3a-4259-a091-34a7798c5caf",
   "metadata": {},
   "outputs": [
    {
     "name": "stdout",
     "output_type": "stream",
     "text": [
      "num1 =  10\n",
      "num2 =  20\n",
      "num3 =  1\n",
      "200\n",
      "num1 =  10\n",
      "num2 =  20\n",
      "num3 =  30\n",
      "6000\n"
     ]
    }
   ],
   "source": [
    "def mul(num1, num2, num3=1):\n",
    "    print(\"num1 = \", num1)\n",
    "    print(\"num2 = \", num2)\n",
    "    print(\"num3 = \", num3)\n",
    "    return num1 * num2 * num3\n",
    "\n",
    "print(mul(10,20))\n",
    "print(mul(10,20,30))\n"
   ]
  },
  {
   "cell_type": "markdown",
   "id": "a1ff29d7-76d2-4cc8-9cfb-f56e53f98d87",
   "metadata": {},
   "source": [
    "**Arbitrary or Variable-length Arguments**<br>\n",
    "You may need to process a function for more arguments than you specified while defining the function. <br>\n",
    "These arguments are called variable-length arguments and are not named in the function definition, unlike required and default arguments.\n",
    "\n",
    "**Syntax**<br>\n",
    "def functionname([formal_args,] *var_args_tuple ):\n",
    ">\"function_docstring\"<br>\n",
    "function_suite<br>\n",
    "return [expression]<br>"
   ]
  },
  {
   "cell_type": "code",
   "execution_count": 146,
   "id": "3e941821-749c-44fe-86f0-a6e1ca62b9d1",
   "metadata": {},
   "outputs": [],
   "source": [
    "def sum(*nums):\n",
    "    print(\"nums = \", nums)\n",
    "    sum=0\n",
    "    for num in nums:\n",
    "        sum+=num\n",
    "    return sum"
   ]
  },
  {
   "cell_type": "code",
   "execution_count": 150,
   "id": "e7e3b858-9980-4d21-80a9-351128e48da2",
   "metadata": {},
   "outputs": [
    {
     "name": "stdout",
     "output_type": "stream",
     "text": [
      "nums =  (10, 20, 30, 40)\n"
     ]
    },
    {
     "data": {
      "text/plain": [
       "100"
      ]
     },
     "execution_count": 150,
     "metadata": {},
     "output_type": "execute_result"
    }
   ],
   "source": [
    "sum(10,20, 30, 40)"
   ]
  },
  {
   "cell_type": "code",
   "execution_count": 152,
   "id": "29a951d5-859c-4ff0-af5d-5c504b9f626a",
   "metadata": {},
   "outputs": [
    {
     "name": "stdout",
     "output_type": "stream",
     "text": [
      "nums =  ()\n"
     ]
    },
    {
     "data": {
      "text/plain": [
       "0"
      ]
     },
     "execution_count": 152,
     "metadata": {},
     "output_type": "execute_result"
    }
   ],
   "source": [
    "sum()"
   ]
  },
  {
   "cell_type": "code",
   "execution_count": 154,
   "id": "e17d3724-fe04-4053-80bf-4373eff10c95",
   "metadata": {},
   "outputs": [
    {
     "name": "stdout",
     "output_type": "stream",
     "text": [
      "nums =  (10,)\n"
     ]
    },
    {
     "data": {
      "text/plain": [
       "10"
      ]
     },
     "execution_count": 154,
     "metadata": {},
     "output_type": "execute_result"
    }
   ],
   "source": [
    "sum(10)"
   ]
  },
  {
   "cell_type": "code",
   "execution_count": 156,
   "id": "949a1c9e-48ba-4267-9979-d926b95e4f7e",
   "metadata": {},
   "outputs": [
    {
     "name": "stdout",
     "output_type": "stream",
     "text": [
      "nums =  (1, 2, 3, 4, 5)\n"
     ]
    },
    {
     "data": {
      "text/plain": [
       "15"
      ]
     },
     "execution_count": 156,
     "metadata": {},
     "output_type": "execute_result"
    }
   ],
   "source": [
    "sum(1,2,3,4,5)"
   ]
  },
  {
   "cell_type": "markdown",
   "id": "61842b32-3323-4301-adb8-f684b6584678",
   "metadata": {},
   "source": [
    "## Lambda Function or Anonymous Function\n",
    "The functions are called anonymous when they are not declared in the standard manner by using the def keyword. <br>\n",
    "Instead, they are defined using the **lambda** keyword.<br>\n",
    "\n",
    "Lambda forms can take any number of arguments but return just one value in the form of an expression. <br>\n",
    "They cannot contain commands or multiple expressions.<br>\n",
    "\n",
    "An anonymous function cannot be a direct call to print because lambda requires an expression\n",
    "\n",
    "**Syntax**<br>\n",
    "lambda [arg1 [,arg2,.....argn]]:expression"
   ]
  },
  {
   "cell_type": "code",
   "execution_count": 160,
   "id": "09b78b3a-bf66-4671-933e-f4dd8c6fa102",
   "metadata": {},
   "outputs": [],
   "source": [
    "add = lambda n1,n2: n1+n2"
   ]
  },
  {
   "cell_type": "code",
   "execution_count": 162,
   "id": "64493a57-225f-437e-be8d-c88f1abc479a",
   "metadata": {},
   "outputs": [
    {
     "data": {
      "text/plain": [
       "3"
      ]
     },
     "execution_count": 162,
     "metadata": {},
     "output_type": "execute_result"
    }
   ],
   "source": [
    "add(1,2)"
   ]
  },
  {
   "cell_type": "code",
   "execution_count": 164,
   "id": "d147b1c0-5a98-4ef4-bd29-373e2d8810f0",
   "metadata": {},
   "outputs": [
    {
     "data": {
      "text/plain": [
       "{1: 10, 7: 20, 3: 60, 4: 40}"
      ]
     },
     "execution_count": 164,
     "metadata": {},
     "output_type": "execute_result"
    }
   ],
   "source": [
    "d = {1:10,\n",
    "     7:20,\n",
    "     3:60,\n",
    "     4:40\n",
    "    }\n",
    "d"
   ]
  },
  {
   "cell_type": "code",
   "execution_count": 178,
   "id": "8cc97de5-adf5-40eb-8711-c03d959b625f",
   "metadata": {},
   "outputs": [
    {
     "data": {
      "text/plain": [
       "[(1, 10), (7, 20), (4, 40), (3, 60)]"
      ]
     },
     "execution_count": 178,
     "metadata": {},
     "output_type": "execute_result"
    }
   ],
   "source": [
    "sorted(d.items(), key= lambda x: x[1])"
   ]
  },
  {
   "cell_type": "code",
   "execution_count": 174,
   "id": "fbe7f8c3-a53c-4485-8761-b590590d8f15",
   "metadata": {},
   "outputs": [
    {
     "data": {
      "text/plain": [
       "[(1, 10), (7, 20), (3, 60), (4, 40)]"
      ]
     },
     "execution_count": 174,
     "metadata": {},
     "output_type": "execute_result"
    }
   ],
   "source": [
    "list(d.items())"
   ]
  },
  {
   "cell_type": "code",
   "execution_count": null,
   "id": "704157aa-ea73-45d4-b1a4-6cfd3b7e1f2e",
   "metadata": {},
   "outputs": [],
   "source": []
  }
 ],
 "metadata": {
  "kernelspec": {
   "display_name": "Python [conda env:base] *",
   "language": "python",
   "name": "conda-base-py"
  },
  "language_info": {
   "codemirror_mode": {
    "name": "ipython",
    "version": 3
   },
   "file_extension": ".py",
   "mimetype": "text/x-python",
   "name": "python",
   "nbconvert_exporter": "python",
   "pygments_lexer": "ipython3",
   "version": "3.12.7"
  }
 },
 "nbformat": 4,
 "nbformat_minor": 5
}
