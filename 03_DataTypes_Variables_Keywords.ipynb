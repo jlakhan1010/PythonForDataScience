{
 "cells": [
  {
   "cell_type": "markdown",
   "id": "1859c063-5641-4375-ac6e-45fb808ef4e8",
   "metadata": {},
   "source": [
    "# First Python Program"
   ]
  },
  {
   "cell_type": "markdown",
   "id": "8fc6a90c-992f-4326-bdee-159ab00f0ad1",
   "metadata": {},
   "source": [
    "# Comments"
   ]
  },
  {
   "cell_type": "markdown",
   "id": "938f2fdf-5cc7-4ad1-99cb-e4f68d3dff53",
   "metadata": {},
   "source": [
    "# Data Types"
   ]
  },
  {
   "cell_type": "markdown",
   "id": "ff40fa21-7875-4fb4-a7b1-1a1aabf89260",
   "metadata": {},
   "source": [
    "# Variables"
   ]
  },
  {
   "cell_type": "markdown",
   "id": "2f732ae5-4e3c-44f5-91d9-ab2c3131f693",
   "metadata": {},
   "source": [
    "# Keywords"
   ]
  },
  {
   "cell_type": "markdown",
   "id": "a503ecb4-e8a1-45c8-b30e-4df46954ab2a",
   "metadata": {},
   "source": [
    "# Operators"
   ]
  },
  {
   "cell_type": "markdown",
   "id": "3bf80a06-055f-4f1a-9f00-0329f7d2af19",
   "metadata": {},
   "source": [
    "# Python Input Output"
   ]
  },
  {
   "cell_type": "markdown",
   "id": "68947ad1-9b3a-4e8a-8b8a-6490e4214d54",
   "metadata": {},
   "source": [
    "# Indentation"
   ]
  },
  {
   "cell_type": "code",
   "execution_count": null,
   "id": "d03143dc-1f80-4bfe-ad51-e0ec0165e452",
   "metadata": {},
   "outputs": [],
   "source": []
  }
 ],
 "metadata": {
  "kernelspec": {
   "display_name": "Python [conda env:base] *",
   "language": "python",
   "name": "conda-base-py"
  },
  "language_info": {
   "codemirror_mode": {
    "name": "ipython",
    "version": 3
   },
   "file_extension": ".py",
   "mimetype": "text/x-python",
   "name": "python",
   "nbconvert_exporter": "python",
   "pygments_lexer": "ipython3",
   "version": "3.12.7"
  }
 },
 "nbformat": 4,
 "nbformat_minor": 5
}
